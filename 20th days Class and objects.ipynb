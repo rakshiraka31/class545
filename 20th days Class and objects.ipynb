{
 "cells": [
  {
   "cell_type": "code",
   "execution_count": 1,
   "metadata": {},
   "outputs": [],
   "source": [
    "#continue of class and objects"
   ]
  },
  {
   "cell_type": "code",
   "execution_count": 6,
   "metadata": {},
   "outputs": [
    {
     "ename": "TypeError",
     "evalue": "unsupported operand type(s) for +: 'Cal' and 'Cal'",
     "output_type": "error",
     "traceback": [
      "\u001b[1;31m---------------------------------------------------------------------------\u001b[0m",
      "\u001b[1;31mTypeError\u001b[0m                                 Traceback (most recent call last)",
      "\u001b[1;32m<ipython-input-6-9f860c74db84>\u001b[0m in \u001b[0;36m<module>\u001b[1;34m\u001b[0m\n\u001b[0;32m      9\u001b[0m \u001b[0mobj\u001b[0m \u001b[1;33m=\u001b[0m\u001b[0mCal\u001b[0m\u001b[1;33m(\u001b[0m\u001b[1;36m10\u001b[0m\u001b[1;33m,\u001b[0m\u001b[1;36m20\u001b[0m\u001b[1;33m)\u001b[0m\u001b[1;33m\u001b[0m\u001b[1;33m\u001b[0m\u001b[0m\n\u001b[0;32m     10\u001b[0m \u001b[0mobj1\u001b[0m \u001b[1;33m=\u001b[0m\u001b[0mCal\u001b[0m\u001b[1;33m(\u001b[0m\u001b[1;36m20\u001b[0m\u001b[1;33m,\u001b[0m\u001b[1;36m30\u001b[0m\u001b[1;33m)\u001b[0m\u001b[1;33m\u001b[0m\u001b[1;33m\u001b[0m\u001b[0m\n\u001b[1;32m---> 11\u001b[1;33m \u001b[0mprint\u001b[0m\u001b[1;33m(\u001b[0m\u001b[0mobj\u001b[0m\u001b[1;33m+\u001b[0m\u001b[0mobj1\u001b[0m\u001b[1;33m)\u001b[0m\u001b[1;33m\u001b[0m\u001b[1;33m\u001b[0m\u001b[0m\n\u001b[0m\u001b[0;32m     12\u001b[0m \u001b[1;33m\u001b[0m\u001b[0m\n",
      "\u001b[1;31mTypeError\u001b[0m: unsupported operand type(s) for +: 'Cal' and 'Cal'"
     ]
    }
   ],
   "source": [
    "# operator overloading \n",
    "# this feature in python that allows same operator to have different meaning cacording to the context isncalled operator \n",
    "\n",
    "\n",
    "class Cal:\n",
    "    def __init__(self,x,y):\n",
    "        self.x =x\n",
    "        self.y =y\n",
    "obj =Cal(10,20)\n",
    "obj1 =Cal(20,30)\n",
    "print(obj+obj1)\n",
    "        "
   ]
  },
  {
   "cell_type": "code",
   "execution_count": 10,
   "metadata": {},
   "outputs": [
    {
     "name": "stdout",
     "output_type": "stream",
     "text": [
      "This is init function 2 3\n",
      "This is init function -1 2\n",
      "This is add functions 1 5\n",
      "This is init function 1 5\n",
      "15\n"
     ]
    }
   ],
   "source": [
    "class Point:\n",
    "    def __init__(self,x,y):\n",
    "        self.x =x\n",
    "        self.y =y\n",
    "        print(\"This is init function\",self.x,self.y)\n",
    "    def __str__(self):\n",
    "        return f\"{self.x}{self.y}\"\n",
    "    \n",
    "    def __add__(self,other):\n",
    "        x = self.x + other.x\n",
    "        y = self.y + other.y\n",
    "        print(\"This is add functions\",x,y)\n",
    "        return Point(x,y)\n",
    "p1=Point(2,3)\n",
    "p2=Point(-1,2)\n",
    "print(p1 +p2)"
   ]
  },
  {
   "cell_type": "code",
   "execution_count": 12,
   "metadata": {},
   "outputs": [
    {
     "name": "stdout",
     "output_type": "stream",
     "text": [
      "This is init function 2000\n",
      "This is init function 3000\n",
      "This is init function 2000\n",
      "This is add functions 5000\n",
      "This is init function 5000\n",
      "This is add functions 7000\n",
      "This is init function 7000\n",
      "7000\n"
     ]
    }
   ],
   "source": [
    "class Point:\n",
    "    def __init__(self,x):\n",
    "        self.x =x\n",
    "\n",
    "        print(\"This is init function\",self.x)\n",
    "    def __str__(self):\n",
    "        return f\"{self.x}\"\n",
    "    \n",
    "    def __add__(self,other):\n",
    "        x = self.x + other.x\n",
    "\n",
    "        print(\"This is add functions\",x)\n",
    "        return Point(x)\n",
    "p1=Point(2000)\n",
    "p2=Point(3000)\n",
    "p3=Point(2000)\n",
    "print(p1 + p2 +p3)"
   ]
  },
  {
   "cell_type": "code",
   "execution_count": 13,
   "metadata": {},
   "outputs": [
    {
     "name": "stdout",
     "output_type": "stream",
     "text": [
      "This is init function 2000\n",
      "This is init function 3000\n",
      "This is init function 2000\n",
      "This is add functions 5000\n",
      "This is init function 5000\n",
      "This is add functions 7000\n",
      "This is init function 7000\n",
      "7000\n"
     ]
    }
   ],
   "source": [
    "class Point:\n",
    "    def __init__(self,x):\n",
    "        self.x =x\n",
    "        print(\"This is init function\",self.x)\n",
    "        \n",
    "    def __add__(self,other):\n",
    "        x = self.x + other.x\n",
    "        print(\"This is add functions\",x)\n",
    "        return Point(x)\n",
    "    \n",
    "    def __str__(self):\n",
    "        return f\"{self.x}\"\n",
    "    \n",
    "    \n",
    "p1=Point(2000)\n",
    "p2=Point(3000)\n",
    "p3=Point(2000)\n",
    "print(p1 + p2 + p3)"
   ]
  },
  {
   "cell_type": "code",
   "execution_count": 14,
   "metadata": {},
   "outputs": [],
   "source": [
    "#models frame work in OOPs"
   ]
  },
  {
   "cell_type": "code",
   "execution_count": 15,
   "metadata": {},
   "outputs": [
    {
     "name": "stdout",
     "output_type": "stream",
     "text": [
      "This is init function 20\n",
      "This is init function 30\n",
      "This is init function 20\n",
      "This is add functions 600\n",
      "This is init function 600\n",
      "This is add functions 12000\n",
      "This is init function 12000\n",
      "12000\n"
     ]
    }
   ],
   "source": [
    "class Point:\n",
    "    def __init__(self,x):\n",
    "        self.x =x\n",
    "        print(\"This is init function\",self.x)\n",
    "        \n",
    "    def __mul__(self,other):\n",
    "        x = self.x * other.x\n",
    "        print(\"This is add functions\",x)\n",
    "        return Point(x)\n",
    "    \n",
    "    def __str__(self):\n",
    "        return f\"{self.x}\"\n",
    "    \n",
    "    \n",
    "p1=Point(20)\n",
    "p2=Point(30)\n",
    "p3=Point(20)\n",
    "print(p1 * p2 * p3)"
   ]
  },
  {
   "cell_type": "code",
   "execution_count": 16,
   "metadata": {},
   "outputs": [],
   "source": [
    "#Polymorphism\n",
    "class Parrot:\n",
    "    def fly(self):\n",
    "        print(\"Parrot can fly\")\n",
    "    def swim(self):\n",
    "        print(\"Parrot can't fly\")\n",
    "class Hen:\n",
    "    def fly(self):\n",
    "        print(\"Hen can fly\")\n",
    "    def swim(self):\n",
    "        print(\"Hen can't fly\")"
   ]
  },
  {
   "cell_type": "code",
   "execution_count": 18,
   "metadata": {},
   "outputs": [
    {
     "name": "stdout",
     "output_type": "stream",
     "text": [
      "Parrot can fly\n",
      "Hen can't fly\n"
     ]
    }
   ],
   "source": [
    "class Parrot:\n",
    "    def fly(self):\n",
    "        print(\"Parrot can fly\")\n",
    "class Hen:\n",
    "    def fly(self):\n",
    "        print(\"Hen can't fly\")\n",
    "#common interface\n",
    "def flying_test(bird):\n",
    "    bird.fly()\n",
    "#instantiate objects\n",
    "blu = Parrot()\n",
    "he =Hen()\n",
    "\n",
    "#passing the object\n",
    "flying_test(blu)\n",
    "flying_test(he)"
   ]
  },
  {
   "cell_type": "code",
   "execution_count": 19,
   "metadata": {},
   "outputs": [],
   "source": [
    "#Public ,Protected and Private attributes"
   ]
  },
  {
   "cell_type": "code",
   "execution_count": 21,
   "metadata": {},
   "outputs": [
    {
     "name": "stdout",
     "output_type": "stream",
     "text": [
      "Ram\n",
      "74\n",
      "Kathmandu\n"
     ]
    }
   ],
   "source": [
    "#Public \n",
    "class Info:\n",
    "    def __init__(self,name,age,add):\n",
    "        self.name =name\n",
    "        self.age =age\n",
    "        self.add =add\n",
    "obj = Info(\"Ram\",74,\"Kathmandu\")\n",
    "print(obj.name)\n",
    "print(obj.age)\n",
    "print(obj.add)"
   ]
  },
  {
   "cell_type": "code",
   "execution_count": 23,
   "metadata": {},
   "outputs": [
    {
     "name": "stdout",
     "output_type": "stream",
     "text": [
      "Ram\n",
      "74\n",
      "Kathmandu\n"
     ]
    }
   ],
   "source": [
    "#protected attributes\n",
    "class Info:\n",
    "    def __init__(self,name,age,add):\n",
    "        self._name =name\n",
    "        self._age =age\n",
    "        self._add =add\n",
    "obj = Info(\"Ram\",74,\"Kathmandu\")\n",
    "print(obj._name)\n",
    "print(obj._age)\n",
    "print(obj._add)"
   ]
  },
  {
   "cell_type": "code",
   "execution_count": 24,
   "metadata": {},
   "outputs": [
    {
     "name": "stdout",
     "output_type": "stream",
     "text": [
      "Ram\n",
      "74\n",
      "Kathmandu\n"
     ]
    }
   ],
   "source": [
    "class Info:\n",
    "    def __init__(self,name,age,add):\n",
    "        self.aname =name\n",
    "        self.aage =age\n",
    "        self.aadd =add\n",
    "obj = Info(\"Ram\",74,\"Kathmandu\")\n",
    "print(obj.aname)\n",
    "print(obj.aage)\n",
    "print(obj.aadd)"
   ]
  },
  {
   "cell_type": "code",
   "execution_count": 1,
   "metadata": {},
   "outputs": [
    {
     "name": "stdout",
     "output_type": "stream",
     "text": [
      "Ram 74 Kathmandu\n"
     ]
    }
   ],
   "source": [
    "#private\n",
    "class Info:\n",
    "    def __init__(self,name,age,add):\n",
    "        self.__name =name\n",
    "        self.__age =age\n",
    "        self.__add =add\n",
    "    def info(self):\n",
    "        print(self.__name,self.__age,self.__add)\n",
    "obj = Info(\"Ram\",74,\"Kathmandu\")\n",
    "obj.info()"
   ]
  },
  {
   "cell_type": "code",
   "execution_count": null,
   "metadata": {},
   "outputs": [],
   "source": []
  }
 ],
 "metadata": {
  "kernelspec": {
   "display_name": "Python 3",
   "language": "python",
   "name": "python3"
  },
  "language_info": {
   "codemirror_mode": {
    "name": "ipython",
    "version": 3
   },
   "file_extension": ".py",
   "mimetype": "text/x-python",
   "name": "python",
   "nbconvert_exporter": "python",
   "pygments_lexer": "ipython3",
   "version": "3.8.5"
  }
 },
 "nbformat": 4,
 "nbformat_minor": 4
}
