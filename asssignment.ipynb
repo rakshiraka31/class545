{
 "cells": [
  {
   "cell_type": "code",
   "execution_count": null,
   "metadata": {},
   "outputs": [],
   "source": [
    "a = \"Big mart\"\n",
    "print(a)\n",
    "b =[]\n",
    "n =int(input(\"Enter no of products =\"))\n",
    "for i in range(1,n+1):\n",
    "    name =input(\"Enter the name of Product=\")\n",
    "    qun =int(input(\"Enter the Quantity of Product=\"))\n",
    "    rate =int(input(\"Enter the rate=\"))\n",
    "    j =n\n",
    "    for j in range(j=n)\n",
    "         t = qun*rate\n",
    "    info =[i,name,qun,rate,t]\n",
    "    info =b+info\n",
    "    continue\n",
    "print(info)\n",
    "    "
   ]
  },
  {
   "cell_type": "code",
   "execution_count": 3,
   "metadata": {},
   "outputs": [
    {
     "name": "stdout",
     "output_type": "stream",
     "text": [
      "Big mart\n",
      "Enter no of products =2\n",
      "Enter the name of Product=hello\n",
      "Enter the Quantity of Product=4\n",
      "Enter the rate=456\n",
      "Enter the name of Product=gsrs\n",
      "Enter the Quantity of Product=4\n",
      "Enter the rate=444\n",
      "The total price is = 3600\n"
     ]
    }
   ],
   "source": [
    "a = \"Big mart\"\n",
    "print(a)\n",
    "s =0\n",
    "b =[]\n",
    "n =int(input(\"Enter no of products =\"))\n",
    "for i in range(1,n+1):\n",
    "    name =input(\"Enter the name of Product=\")\n",
    "    qun =int(input(\"Enter the Quantity of Product=\"))\n",
    "    rate =int(input(\"Enter the rate=\"))\n",
    "    t = qun*rate\n",
    "    info =[name,qun,rate,t]\n",
    "    s =s+t\n",
    "print(\"The total price is =\",s)"
   ]
  },
  {
   "cell_type": "code",
   "execution_count": 2,
   "metadata": {},
   "outputs": [
    {
     "name": "stdout",
     "output_type": "stream",
     "text": [
      "Enter the no of student=2\n",
      "Enter the Name of Student=hari\n",
      "Enter the mark of maths=55\n",
      "Enter the mark of English=66\n",
      "Enter the mark of physics=55\n",
      "Enter the mark of chemistry=66\n",
      "Enter the mark of biology=55\n",
      "59.4\n",
      "second Divison\n",
      "Enter the Name of Student=hello\n",
      "Enter the mark of maths=44\n",
      "Enter the mark of English=55\n",
      "Enter the mark of physics=66\n",
      "Enter the mark of chemistry=77\n",
      "Enter the mark of biology=66\n",
      "61.6\n",
      "second Divison\n",
      "[[1, 'hari', 55, 66, 55, 66, 55, 59.4, 297], [2, 'hello', 44, 55, 66, 77, 66, 61.6, 308]]\n",
      "Enter name you want to search =hari\n",
      "NO\n",
      "Enter the name you want to remove =hello\n"
     ]
    },
    {
     "ename": "IndexError",
     "evalue": "string index out of range",
     "output_type": "error",
     "traceback": [
      "\u001b[1;31m---------------------------------------------------------------------------\u001b[0m",
      "\u001b[1;31mIndexError\u001b[0m                                Traceback (most recent call last)",
      "\u001b[1;32m<ipython-input-2-83d9854f2f8d>\u001b[0m in \u001b[0;36m<module>\u001b[1;34m\u001b[0m\n\u001b[0;32m     37\u001b[0m \u001b[0mname\u001b[0m \u001b[1;33m=\u001b[0m\u001b[0minput\u001b[0m\u001b[1;33m(\u001b[0m\u001b[1;34m\"Enter the name you want to remove =\"\u001b[0m\u001b[1;33m)\u001b[0m\u001b[1;33m.\u001b[0m\u001b[0mlower\u001b[0m\u001b[1;33m(\u001b[0m\u001b[1;33m)\u001b[0m\u001b[1;33m\u001b[0m\u001b[1;33m\u001b[0m\u001b[0m\n\u001b[0;32m     38\u001b[0m \u001b[1;32mfor\u001b[0m \u001b[0mj\u001b[0m \u001b[1;32min\u001b[0m \u001b[0ma\u001b[0m\u001b[1;33m:\u001b[0m\u001b[1;33m\u001b[0m\u001b[1;33m\u001b[0m\u001b[0m\n\u001b[1;32m---> 39\u001b[1;33m     \u001b[1;32mif\u001b[0m \u001b[0mname\u001b[0m \u001b[1;32min\u001b[0m \u001b[0mj\u001b[0m\u001b[1;33m[\u001b[0m\u001b[1;36m1\u001b[0m\u001b[1;33m]\u001b[0m\u001b[1;33m.\u001b[0m\u001b[0mlower\u001b[0m\u001b[1;33m(\u001b[0m\u001b[1;33m)\u001b[0m\u001b[1;33m:\u001b[0m\u001b[1;33m\u001b[0m\u001b[1;33m\u001b[0m\u001b[0m\n\u001b[0m\u001b[0;32m     40\u001b[0m         \u001b[0ma\u001b[0m\u001b[1;33m.\u001b[0m\u001b[0mremove\u001b[0m\u001b[1;33m(\u001b[0m\u001b[0mj\u001b[0m\u001b[1;33m)\u001b[0m\u001b[1;33m\u001b[0m\u001b[1;33m\u001b[0m\u001b[0m\n\u001b[0;32m     41\u001b[0m \u001b[0mprint\u001b[0m\u001b[1;33m(\u001b[0m\u001b[0ma\u001b[0m\u001b[1;33m)\u001b[0m\u001b[1;33m\u001b[0m\u001b[1;33m\u001b[0m\u001b[0m\n",
      "\u001b[1;31mIndexError\u001b[0m: string index out of range"
     ]
    }
   ],
   "source": [
    "a=  'NEPALAYA COLLEGE'\n",
    "a\n",
    "results =[]\n",
    "n = int(input(\"Enter the no of student=\"))\n",
    "for i in range(1,n+1):\n",
    "    name = input(\"Enter the Name of Student=\")\n",
    "    maths =int(input(\"Enter the mark of maths=\"))\n",
    "    english =int(input(\"Enter the mark of English=\"))\n",
    "    physics =int(input(\"Enter the mark of physics=\"))\n",
    "    chemistry =int(input(\"Enter the mark of chemistry=\"))\n",
    "    biology =int(input(\"Enter the mark of biology=\"))\n",
    "    \n",
    "    total =sum([maths,english,physics,chemistry,biology])\n",
    "    per =total/5\n",
    "    result =[i,name,maths,english,physics,chemistry,biology,per,total]\n",
    "    print(per)\n",
    "    results.append(result)\n",
    "    if maths>=40 and english>=40 and physics>=40 and chemistry>=40 and biology>=40:\n",
    "        if per>80:\n",
    "            print(\"Distinction\")\n",
    "        elif per>=70 and per<80:\n",
    "            print(\"First Divison\")\n",
    "        elif per>=55 and per<70:\n",
    "            print(\"second Divison\")\n",
    "        else:\n",
    "            print(\"Third Division\")\n",
    "\n",
    "    else:\n",
    "        print(\"Fail\")\n",
    "print(results)\n",
    "#search part\n",
    "name =input(\"Enter name you want to search =\")\n",
    "if name in results:\n",
    "    print(\"yes\",results.count(name))\n",
    "else:\n",
    "    print(\"NO\")\n",
    "name =input(\"Enter the name you want to remove =\").lower()\n",
    "for j in a:\n",
    "    if name in j[1].lower():\n",
    "        a.remove(j)\n",
    "print(a)\n",
    "name =input(\"Enter the name you =\").lower()\n",
    "for j in a:\n",
    "    if name in j[1].lower():\n",
    "        j[1] = input(\"Enter the name to be update=\")\n",
    "print(a)"
   ]
  },
  {
   "cell_type": "code",
   "execution_count": null,
   "metadata": {},
   "outputs": [],
   "source": [
    "# wap to billing (accounting) for a shop (CRUD)\n",
    "b = 1\n",
    "d = 1\n",
    "final = {}\n",
    "while b == 1:\n",
    "  product = {}\n",
    "  name = input(\"enter customer name = \").lower()\n",
    "\n",
    "  c = 1\n",
    "  tot = 0\n",
    "  info = {}\n",
    "  while c == 1:\n",
    "    pro = input(\"enter product name = \").lower()\n",
    "    rate = float(input(\"enter rate of product = \"))\n",
    "    qnt = float(input(\"enter quantity of product = \"))\n",
    "    prc = qnt * rate\n",
    "    product[pro] = {\"rate\":rate,\"quantity\":qnt,\"price\":prc}\n",
    "    tot = tot + prc\n",
    "    c = int(input(\"press 1 to add more product information else press 0 = \"))\n",
    "  info[\"name\"] = name\n",
    "  info[\"items\"] = product\n",
    "  info[\"total\"] = tot\n",
    "  final[d] = info\n",
    "  b = int(input(\"enter 1 to add more customer information else press 0 = \"))\n",
    "  d = d+1\n",
    "print(final)"
   ]
  },
  {
   "cell_type": "code",
   "execution_count": null,
   "metadata": {},
   "outputs": [],
   "source": [
    "# update\n",
    "final = {1: {'name': 'ram', 'items': {'banana': {'rate': 5.0, 'quantity': 10.0, 'price': 50.0}, 'apple': {'rate': 150.0, 'quantity': 2.0, 'price': 300.0}}, 'total': 350.0}, 2: {'name': 'hari', 'items': {'mango': {'rate': 70.0, 'quantity': 5.0, 'price': 350.0}, 'orange': {'rate': 80.0, 'quantity': 4.0, 'price': 320.0}}, 'total': 670.0}}\n",
    "id = int(input(\"enter customer id = \"))\n",
    "x = int(input(\"press 1,2,3 and 4 to update name,product name,quantity and rate respectively\"))\n",
    "if x == 1:\n",
    "  nam = input(\"enter new name = \")\n",
    "  final[id]['name'] = nam\n",
    "#elif x==2:\n",
    "  #pronam = input(\"enter product name you want to change = \").lower()\n",
    "  #npronam = input(\"enter new product name = \").lower()\n",
    "  #print(final.[id]['items'].index())\n",
    "elif x == 3:\n",
    "  pronam = input(\"enter product name = \").lower()\n",
    "  quant = float(input(\"enter new quantity = \"))\n",
    "  final[id][\"items\"][pronam]['quantity'] = quant\n",
    "  t = int(final[id][\"items\"][pronam]['rate'])*quant\n",
    "  if final[id]['items'][pronam]['price'] < t:\n",
    "    final[id]['total'] = final[id]['total'] + (t - final[id][\"items\"][pronam]['price'])\n",
    "  else:\n",
    "    final[id]['total'] = final[id]['total'] - ((t - final[id][\"items\"][pronam]['price']) - t)\n",
    "  final[id]['items'][pronam]['price'] = t\n",
    "elif x == 4:\n",
    "  proname = input('enter product name = ').lower()\n",
    "  ratt = float(input(\"enter new rate = \"))\n",
    "  final[id][\"items\"][pronam]['rate'] = ratt\n",
    "  t = int(final[id][\"items\"][pronam]['quantity'])*ratt\n",
    "  if final[id]['items'][pronam]['price'] < t:\n",
    "    final[id]['total'] = final[id]['total'] + (t - final[id]['items'][pronam]['price'])\n",
    "  else:\n",
    "    final[id]['total'] = final[id]['total'] - (final[id]['items'][pronam]['price'] - t)\n",
    "  final[id]['items'][pronam]['price'] = t\n",
    "print(final)"
   ]
  },
  {
   "cell_type": "code",
   "execution_count": null,
   "metadata": {},
   "outputs": [],
   "source": [
    " \n",
    "# read\n",
    "id = int(input('enter customer id'))\n",
    "print(final[id])"
   ]
  },
  {
   "cell_type": "code",
   "execution_count": null,
   "metadata": {},
   "outputs": [],
   "source": [
    " \n",
    "# deleting\n",
    "final = {1: {'name': 'Ram', 'items': {'banana': {'rate': 80.0, 'quantity': 2.0, 'price': 160.0}, 'aple': {'rate': 100.0, 'quantity': 4.0, 'price': 400.0}}, 'total': 560.0}, 2: {'name': 'Shyam', 'items': {'chocolate': {'rate': 30.0, 'quantity': 2.0, 'price': 60.0}, 'orange': {'rate': 80.0, 'quantity': 2.0, 'price': 160.0}}, 'total': 220.0}}\n",
    "id = int(input('enter customer id = '))\n",
    "nam = input('enter customer name = ').lower()\n",
    "y = int(input('press 1 to delete customer detail or press to delete product detail'))\n",
    "if y == 1:\n",
    "  del final[id]\n",
    "elif y == 2:\n",
    "  pronam = input('enter product name = ').lower()\n",
    "  final[id]['total'] = final[id]['total'] - final[id]['items'][pronam]['price']\n",
    "  del final[id]['items'][pronam]\n",
    "print(final)"
   ]
  }
 ],
 "metadata": {
  "kernelspec": {
   "display_name": "Python 3",
   "language": "python",
   "name": "python3"
  },
  "language_info": {
   "codemirror_mode": {
    "name": "ipython",
    "version": 3
   },
   "file_extension": ".py",
   "mimetype": "text/x-python",
   "name": "python",
   "nbconvert_exporter": "python",
   "pygments_lexer": "ipython3",
   "version": "3.8.5"
  }
 },
 "nbformat": 4,
 "nbformat_minor": 4
}
