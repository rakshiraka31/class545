{
 "cells": [
  {
   "cell_type": "code",
   "execution_count": 1,
   "metadata": {},
   "outputs": [],
   "source": [
    "#  Dictionary\n",
    "# -multiple values accept \n",
    "# -mutable data types\n",
    "# -indexing\n",
    "# -ordered\n",
    "#  duplicate members \n",
    "#  No duplicate index"
   ]
  },
  {
   "cell_type": "code",
   "execution_count": 2,
   "metadata": {},
   "outputs": [
    {
     "data": {
      "text/plain": [
       "dict"
      ]
     },
     "execution_count": 2,
     "metadata": {},
     "output_type": "execute_result"
    }
   ],
   "source": [
    "a ={}\n",
    "type(a)"
   ]
  },
  {
   "cell_type": "code",
   "execution_count": 6,
   "metadata": {},
   "outputs": [
    {
     "name": "stdout",
     "output_type": "stream",
     "text": [
      "{'A': 'Apple', 'B': 'Ball'}\n",
      "<class 'dict'>\n"
     ]
    }
   ],
   "source": [
    "#a ={<key>:<value.,<key>:<value>}\n",
    " \n",
    "a ={\"A\":\"Apple\",\"B\":\"Ball\"}\n",
    "b ={0:\"Apple\",1:\"Ball\"}       #point the index as your wish\n",
    "print(a)\n",
    "print(type(a))\n"
   ]
  },
  {
   "cell_type": "code",
   "execution_count": 7,
   "metadata": {},
   "outputs": [
    {
     "data": {
      "text/plain": [
       "{'A': 'apple', 'a': 'apple'}"
      ]
     },
     "execution_count": 7,
     "metadata": {},
     "output_type": "execute_result"
    }
   ],
   "source": [
    "a ={\"A\":\"apple\",\"a\":\"apple\"}\n",
    "a"
   ]
  },
  {
   "cell_type": "code",
   "execution_count": 9,
   "metadata": {},
   "outputs": [
    {
     "data": {
      "text/plain": [
       "'apple'"
      ]
     },
     "execution_count": 9,
     "metadata": {},
     "output_type": "execute_result"
    }
   ],
   "source": [
    "a[\"a\"]"
   ]
  },
  {
   "cell_type": "code",
   "execution_count": 11,
   "metadata": {},
   "outputs": [
    {
     "data": {
      "text/plain": [
       "'apple'"
      ]
     },
     "execution_count": 11,
     "metadata": {},
     "output_type": "execute_result"
    }
   ],
   "source": [
    "a ={0:\"apple\",\"a\":\"apple\"}\n",
    "a[0]"
   ]
  },
  {
   "cell_type": "code",
   "execution_count": 12,
   "metadata": {},
   "outputs": [
    {
     "name": "stdout",
     "output_type": "stream",
     "text": [
      "{1: 'apple', 0: 'Apple'}\n"
     ]
    }
   ],
   "source": [
    "a ={1:\"apple\",0:\"Apple\"}\n",
    "print(a)"
   ]
  },
  {
   "cell_type": "code",
   "execution_count": 13,
   "metadata": {},
   "outputs": [
    {
     "name": "stdout",
     "output_type": "stream",
     "text": [
      "{'A': 'Ball'}\n"
     ]
    }
   ],
   "source": [
    "a ={\"A\":\"Apple\",\"A\":\"Ball\"}    #update last one\n",
    "print(a)"
   ]
  },
  {
   "cell_type": "code",
   "execution_count": 14,
   "metadata": {},
   "outputs": [
    {
     "ename": "TypeError",
     "evalue": "unsupported operand type(s) for +: 'dict' and 'dict'",
     "output_type": "error",
     "traceback": [
      "\u001b[1;31m---------------------------------------------------------------------------\u001b[0m",
      "\u001b[1;31mTypeError\u001b[0m                                 Traceback (most recent call last)",
      "\u001b[1;32m<ipython-input-14-dccb923494e2>\u001b[0m in \u001b[0;36m<module>\u001b[1;34m\u001b[0m\n\u001b[0;32m      2\u001b[0m \u001b[0ma\u001b[0m \u001b[1;33m=\u001b[0m\u001b[1;33m{\u001b[0m\u001b[1;34m\"A\"\u001b[0m\u001b[1;33m:\u001b[0m\u001b[1;34m\"Apple\"\u001b[0m\u001b[1;33m}\u001b[0m\u001b[1;33m\u001b[0m\u001b[1;33m\u001b[0m\u001b[0m\n\u001b[0;32m      3\u001b[0m \u001b[0mb\u001b[0m \u001b[1;33m=\u001b[0m\u001b[1;33m{\u001b[0m\u001b[1;34m\"B\"\u001b[0m\u001b[1;33m:\u001b[0m\u001b[1;34m\"ball\"\u001b[0m\u001b[1;33m}\u001b[0m\u001b[1;33m\u001b[0m\u001b[1;33m\u001b[0m\u001b[0m\n\u001b[1;32m----> 4\u001b[1;33m \u001b[0ma\u001b[0m\u001b[1;33m+\u001b[0m\u001b[0mb\u001b[0m\u001b[1;33m\u001b[0m\u001b[1;33m\u001b[0m\u001b[0m\n\u001b[0m",
      "\u001b[1;31mTypeError\u001b[0m: unsupported operand type(s) for +: 'dict' and 'dict'"
     ]
    }
   ],
   "source": [
    "# + * not acceptable\n",
    "a ={\"A\":\"Apple\"}\n",
    "b ={\"B\":\"ball\"}\n",
    "a+b"
   ]
  },
  {
   "cell_type": "code",
   "execution_count": 15,
   "metadata": {},
   "outputs": [
    {
     "name": "stdout",
     "output_type": "stream",
     "text": [
      "{'A': 'Apple', 'B': 'ball'}\n"
     ]
    }
   ],
   "source": [
    "a ={\"A\":\"Apple\"}    #mutable data type\n",
    "b ={\"B\":\"ball\"}    #for adding (update) is used\n",
    "a.update(b)\n",
    "print(a)"
   ]
  },
  {
   "cell_type": "code",
   "execution_count": 16,
   "metadata": {},
   "outputs": [
    {
     "name": "stdout",
     "output_type": "stream",
     "text": [
      "{'B': 'ball'}\n"
     ]
    }
   ],
   "source": [
    "a ={}\n",
    "b ={\"B\":\"ball\"}\n",
    "a.update(b)\n",
    "print(a)"
   ]
  },
  {
   "cell_type": "code",
   "execution_count": 17,
   "metadata": {},
   "outputs": [
    {
     "name": "stdout",
     "output_type": "stream",
     "text": [
      "{'A': 'Apple', 'B': 'Ball'}\n"
     ]
    }
   ],
   "source": [
    "a ={}\n",
    "a[\"A\"]=\"Apple\"\n",
    "a[\"B\"]=\"Ball\"\n",
    "print(a)"
   ]
  },
  {
   "cell_type": "code",
   "execution_count": 19,
   "metadata": {},
   "outputs": [
    {
     "name": "stdout",
     "output_type": "stream",
     "text": [
      "Enter n =3\n",
      "Enter a =rupple\n",
      "Enter a =tuple\n",
      "Enter a =ripple\n",
      "{0: 'rupple', 1: 'tuple', 2: 'ripple'}\n"
     ]
    }
   ],
   "source": [
    "c ={}\n",
    "n = int(input(\"Enter n =\"))\n",
    "for i in range(n):\n",
    "    a =input(\"Enter a =\")\n",
    "    c[i]=a\n",
    "print(c)\n",
    "    "
   ]
  },
  {
   "cell_type": "code",
   "execution_count": 20,
   "metadata": {},
   "outputs": [
    {
     "name": "stdout",
     "output_type": "stream",
     "text": [
      "Enter n =3\n",
      "Enter name =Sabin\n",
      "Enter phone =56786858\n",
      "Enter name =karki\n",
      "Enter phone =566685\n",
      "Enter name =puyal\n",
      "Enter phone =67890\n",
      "{'Sabin': 56786858, 'karki': 566685, 'puyal': 67890}\n"
     ]
    }
   ],
   "source": [
    "info ={}\n",
    "n = int(input(\"Enter n =\"))\n",
    "for i in range(n):\n",
    "    name =input(\"Enter name =\")\n",
    "    phone =int(input(\"Enter phone =\"))\n",
    "    info[name] =phone\n",
    "print(info)"
   ]
  },
  {
   "cell_type": "code",
   "execution_count": 21,
   "metadata": {},
   "outputs": [
    {
     "name": "stdout",
     "output_type": "stream",
     "text": [
      "Sabin\n",
      "karki\n",
      "puyal\n"
     ]
    }
   ],
   "source": [
    "for i in info:\n",
    "    print(i)"
   ]
  },
  {
   "cell_type": "code",
   "execution_count": 22,
   "metadata": {},
   "outputs": [
    {
     "name": "stdout",
     "output_type": "stream",
     "text": [
      "56786858\n",
      "566685\n",
      "67890\n"
     ]
    }
   ],
   "source": [
    "for i in info.values():\n",
    "    print(i)"
   ]
  },
  {
   "cell_type": "code",
   "execution_count": 23,
   "metadata": {},
   "outputs": [
    {
     "name": "stdout",
     "output_type": "stream",
     "text": [
      "('Sabin', 56786858)\n",
      "('karki', 566685)\n",
      "('puyal', 67890)\n"
     ]
    }
   ],
   "source": [
    "for i in info.items():\n",
    "    print(i)"
   ]
  },
  {
   "cell_type": "code",
   "execution_count": 29,
   "metadata": {},
   "outputs": [
    {
     "name": "stdout",
     "output_type": "stream",
     "text": [
      "{'Sabin': 9876545, 'karki': 566685, 'puyal': 67890}\n"
     ]
    }
   ],
   "source": [
    "#update\n",
    "a ={'Sabin': 56786858, 'karki': 566685, 'puyal': 67890}\n",
    "a['Sabin']=9876545\n",
    "print(a)"
   ]
  },
  {
   "cell_type": "code",
   "execution_count": 26,
   "metadata": {},
   "outputs": [
    {
     "name": "stdout",
     "output_type": "stream",
     "text": [
      "{'Sabin': 56786858, 'karki': 566685}\n"
     ]
    }
   ],
   "source": [
    "#for delete\n",
    "a ={'Sabin': 56786858, 'karki': 566685, 'puyal': 67890}\n",
    "del a['puyal']\n",
    "print(a)"
   ]
  },
  {
   "cell_type": "code",
   "execution_count": 28,
   "metadata": {},
   "outputs": [
    {
     "name": "stdout",
     "output_type": "stream",
     "text": [
      "{'Sabin': 56786858, 'karki': 566685}\n"
     ]
    }
   ],
   "source": [
    "a ={'Sabin': 56786858, 'karki': 566685, 'puyal': 67890}\n",
    "a.pop('puyal')   #pop for move and delete\n",
    "print(a)"
   ]
  },
  {
   "cell_type": "code",
   "execution_count": 30,
   "metadata": {},
   "outputs": [
    {
     "name": "stdout",
     "output_type": "stream",
     "text": [
      "{'Sabin': [9876545667, 345678987], 'karki': [566685777, 67899765], 'puyal': 67890}\n",
      "<class 'dict'>\n",
      "3\n"
     ]
    }
   ],
   "source": [
    "#list inside dicts\n",
    "a ={'Sabin': [9876545667,345678987], 'karki': [566685777,67899765], 'puyal': 67890}\n",
    "print(a)\n",
    "print(type(a))\n",
    "print(len(a))"
   ]
  },
  {
   "cell_type": "code",
   "execution_count": 31,
   "metadata": {},
   "outputs": [
    {
     "data": {
      "text/plain": [
       "[9876545667, 345678987]"
      ]
     },
     "execution_count": 31,
     "metadata": {},
     "output_type": "execute_result"
    }
   ],
   "source": [
    "a['Sabin']"
   ]
  },
  {
   "cell_type": "code",
   "execution_count": 32,
   "metadata": {},
   "outputs": [
    {
     "name": "stdout",
     "output_type": "stream",
     "text": [
      "345678987\n"
     ]
    }
   ],
   "source": [
    "print(a['Sabin'][1])"
   ]
  },
  {
   "cell_type": "code",
   "execution_count": 34,
   "metadata": {},
   "outputs": [
    {
     "name": "stdout",
     "output_type": "stream",
     "text": [
      "Enter name =Sabin\n",
      "Enter 0 for ntc and 1 for Ncell=1\n",
      "the info is = 345678987\n"
     ]
    }
   ],
   "source": [
    "a ={'Sabin': [9876545667,345678987], 'karki': [566685777,67899765], 'puyal': 67890}\n",
    "name = input(\"Enter name =\")\n",
    "typ =int(input(\"Enter 0 for ntc and 1 for Ncell=\"))\n",
    "print(\"the info is =\",a[name][typ])"
   ]
  },
  {
   "cell_type": "code",
   "execution_count": 36,
   "metadata": {},
   "outputs": [
    {
     "name": "stdout",
     "output_type": "stream",
     "text": [
      "{'Sabin': [9876545667, 345678987, 4433444], 'karki': [566685777, 67899765], 'puyal': 67890}\n"
     ]
    }
   ],
   "source": [
    "a ={'Sabin': [9876545667,345678987], 'karki': [566685777,67899765], 'puyal': 67890}\n",
    "a['Sabin'].append(4433444)\n",
    "print(a)"
   ]
  },
  {
   "cell_type": "code",
   "execution_count": 37,
   "metadata": {},
   "outputs": [
    {
     "name": "stdout",
     "output_type": "stream",
     "text": [
      "{'Sabin': [9876545667], 'karki': [566685777, 67899765], 'puyal': 67890}\n"
     ]
    }
   ],
   "source": [
    "a ={'Sabin': [9876545667,345678987], 'karki': [566685777,67899765], 'puyal': 67890}\n",
    "del a['Sabin'][1]\n",
    "print(a)"
   ]
  },
  {
   "cell_type": "code",
   "execution_count": 38,
   "metadata": {},
   "outputs": [
    {
     "name": "stdout",
     "output_type": "stream",
     "text": [
      "Enter n =2\n",
      "Enter name =ram\n",
      "Enter phone ntc =56789098765\n",
      "Enter phone  Ncell=98007654\n",
      "Enter name =hari\n",
      "Enter phone ntc =9876544567\n",
      "Enter phone  Ncell=9800065434\n",
      "{'ram': [56789098765, 98007654], 'hari': [9876544567, 9800065434]}\n"
     ]
    }
   ],
   "source": [
    "info ={}\n",
    "n = int(input(\"Enter n =\"))\n",
    "for i in range(n):\n",
    "    name =input(\"Enter name =\")\n",
    "    ntc_phone =int(input(\"Enter phone ntc =\"))\n",
    "    ncell_phone =int(input(\"Enter phone  Ncell=\"))\n",
    "    info[name] = [ntc_phone,ncell_phone]\n",
    "print(info)"
   ]
  },
  {
   "cell_type": "code",
   "execution_count": 39,
   "metadata": {},
   "outputs": [
    {
     "name": "stdout",
     "output_type": "stream",
     "text": [
      "{'ram': (56789098765, 98007654), 'hari': (9876544567, 9800065434)}\n"
     ]
    }
   ],
   "source": [
    "#tuple inside dicts\n",
    "a ={'ram': (56789098765, 98007654), 'hari': (9876544567, 9800065434)}\n",
    "print(a)"
   ]
  },
  {
   "cell_type": "code",
   "execution_count": 40,
   "metadata": {},
   "outputs": [
    {
     "name": "stdout",
     "output_type": "stream",
     "text": [
      "Enter n =1\n",
      "Enter name =ram\n",
      "Enter phone ntc =9856556655\n",
      "Enter phone  Ncell=98006666\n",
      "{'ram': (9856556655, 98006666)}\n"
     ]
    }
   ],
   "source": [
    "info ={}\n",
    "n = int(input(\"Enter n =\"))\n",
    "for i in range(n):\n",
    "    name =input(\"Enter name =\")\n",
    "    ntc_phone =int(input(\"Enter phone ntc =\"))\n",
    "    ncell_phone =int(input(\"Enter phone  Ncell=\"))\n",
    "    info[name] = (ntc_phone,ncell_phone)\n",
    "print(info)"
   ]
  },
  {
   "cell_type": "code",
   "execution_count": 43,
   "metadata": {},
   "outputs": [
    {
     "name": "stdout",
     "output_type": "stream",
     "text": [
      "789876567\n"
     ]
    }
   ],
   "source": [
    "#dictionary inside dictionary\n",
    "a ={\"Ram\":{\"Ntc\":789876567,\"NCELL\":778545678},\"shyam\":{\"Ntc\":8765456,\"NCELL\":980007654}}\n",
    "print(a['Ram']['Ntc'])"
   ]
  },
  {
   "cell_type": "code",
   "execution_count": 2,
   "metadata": {},
   "outputs": [
    {
     "name": "stdout",
     "output_type": "stream",
     "text": [
      "789876567\n",
      "('Ram', {'Ntc': 789876567, 'NCELL': 778545678})\n",
      "('shyam', {'Ntc': 8765456, 'NCELL': 980007654})\n"
     ]
    }
   ],
   "source": [
    "a ={\"Ram\":{\"Ntc\":789876567,\"NCELL\":778545678},\"shyam\":{\"Ntc\":8765456,\"NCELL\":980007654}}\n",
    "print(a['Ram']['Ntc'])\n",
    "for i in a.items():\n",
    "    print(i)"
   ]
  },
  {
   "cell_type": "code",
   "execution_count": 46,
   "metadata": {},
   "outputs": [
    {
     "name": "stdout",
     "output_type": "stream",
     "text": [
      "Enter n =2\n",
      "Enter name =eam\n",
      "Enter phone ntc =56789\n",
      "Enter phone  Ncell=987654\n",
      "Enter name =dhhyam\n",
      "Enter phone ntc =4567890\n",
      "Enter phone  Ncell=987654\n",
      "{'eam': {'Ntc': 56789, 'NCELL': 987654}, 'dhhyam': {'Ntc': 4567890, 'NCELL': 987654}}\n"
     ]
    }
   ],
   "source": [
    "info ={}\n",
    "n = int(input(\"Enter n =\"))\n",
    "for i in range(n):\n",
    "    name =input(\"Enter name =\")\n",
    "    ntc_phone =int(input(\"Enter phone ntc =\"))\n",
    "    ncell_phone =int(input(\"Enter phone  Ncell=\"))\n",
    "    info[name] = {'Ntc':ntc_phone,\"NCELL\":ncell_phone}\n",
    "print(info)"
   ]
  },
  {
   "cell_type": "code",
   "execution_count": 3,
   "metadata": {},
   "outputs": [],
   "source": [
    "#WAP for billing (accounting) for a shop  (CRUD)\n",
    "#WAP for result management system  (CRUD)"
   ]
  },
  {
   "cell_type": "code",
   "execution_count": null,
   "metadata": {},
   "outputs": [],
   "source": [
    "#WAP for billing (accounting) for a shop  (CRUD)\n",
    "a = \"Big mart\"\n",
    "print(a)\n",
    "info ={}\n",
    "s =0\n",
    "n =int(input(\"Enter no of products =\"))\n",
    "for i in range(n):\n",
    "    s_n =int(input(\"Enter the s_n= \"))\n",
    "    name =input(\"Enter the name of Product=\")\n",
    "    qun =int(input(\"Enter the Quantity of Product=\"))\n",
    "    rate =int(input(\"Enter the rate=\"))\n",
    "    t = qun*rate\n",
    "    info[i] ={'Name':name,'Quantity':qun,'Rate':rate,'Total':t}\n",
    "    s =s +t\n",
    "    print(info)\n",
    "print(i,info)\n",
    "print(\"The total price is =\",s)"
   ]
  },
  {
   "cell_type": "code",
   "execution_count": null,
   "metadata": {},
   "outputs": [],
   "source": [
    "a = \"Big mart\"\n",
    "print(a)\n",
    "info ={}\n",
    "s =0\n",
    "n =int(input(\"Enter no of products =\"))\n",
    "for i in range(n):\n",
    "    s_n =int(input(\"Enter s.n =\"))\n",
    "    name =input(\"Enter the name of Product=\")\n",
    "    qun =int(input(\"Enter the Quantity of Product=\"))\n",
    "    rate =int(input(\"Enter the rate=\"))\n",
    "    t = qun*rate\n",
    "    info[s_n] =[ 'name':name,\"Quantity\":qun,\"Rate\":rate,\"total\":t]\n",
    "    s =s +t\n",
    "print(info)\n",
    "print(\"The total price is =\",s)\n",
    "info['sugar']={\"Pulses\"}\n",
    "print(info)"
   ]
  },
  {
   "cell_type": "code",
   "execution_count": 7,
   "metadata": {},
   "outputs": [
    {
     "ename": "TypeError",
     "evalue": "'builtin_function_or_method' object does not support item assignment",
     "output_type": "error",
     "traceback": [
      "\u001b[1;31m---------------------------------------------------------------------------\u001b[0m",
      "\u001b[1;31mTypeError\u001b[0m                                 Traceback (most recent call last)",
      "\u001b[1;32m<ipython-input-7-82a03aa4eac9>\u001b[0m in \u001b[0;36m<module>\u001b[1;34m\u001b[0m\n\u001b[1;32m----> 1\u001b[1;33m \u001b[0minfo\u001b[0m\u001b[1;33m.\u001b[0m\u001b[0mupdate\u001b[0m\u001b[1;33m[\u001b[0m\u001b[1;34m'rate'\u001b[0m\u001b[1;33m]\u001b[0m\u001b[1;33m=\u001b[0m\u001b[1;33m[\u001b[0m\u001b[1;34m\"ratee\"\u001b[0m\u001b[1;33m]\u001b[0m\u001b[1;33m\u001b[0m\u001b[1;33m\u001b[0m\u001b[0m\n\u001b[0m\u001b[0;32m      2\u001b[0m \u001b[0mprint\u001b[0m\u001b[1;33m(\u001b[0m\u001b[0minfo\u001b[0m\u001b[1;33m)\u001b[0m\u001b[1;33m\u001b[0m\u001b[1;33m\u001b[0m\u001b[0m\n",
      "\u001b[1;31mTypeError\u001b[0m: 'builtin_function_or_method' object does not support item assignment"
     ]
    }
   ],
   "source": [
    "\n",
    "print(info)"
   ]
  },
  {
   "cell_type": "code",
   "execution_count": null,
   "metadata": {},
   "outputs": [],
   "source": [
    "info ={1:{\"Name\":\"apple\"}}"
   ]
  },
  {
   "cell_type": "code",
   "execution_count": null,
   "metadata": {},
   "outputs": [
    {
     "name": "stdout",
     "output_type": "stream",
     "text": [
      "Big mart\n"
     ]
    }
   ],
   "source": [
    "#WAP for billing (accounting) for a shop  (CRUD)\n",
    "a = \"Big mart\"\n",
    "print(a)\n",
    "info ={}\n",
    "s =0\n",
    "n =int(input(\"Enter no of products =\"))\n",
    "for i in range(1,n+1):\n",
    "    name =input(\"Enter the name of Product=\")\n",
    "    qun =int(input(\"Enter the Quantity of Product=\"))\n",
    "    rate =int(input(\"Enter the rate=\"))\n",
    "    t = qun*rate\n",
    "    info[i] ={'Name':name,'Quantity':qun,'Rate':rate,'Total':t}\n",
    "    s =s +t\n",
    "print(i,info)\n",
    "print(\"The total price is =\",s) "
   ]
  },
  {
   "cell_type": "code",
   "execution_count": 2,
   "metadata": {},
   "outputs": [
    {
     "name": "stdout",
     "output_type": "stream",
     "text": [
      "enter the no. of data you want to store: 2\n",
      "enter item name: DAAL\n",
      "enter item quantity: 3\n",
      "enter item price: 40\n",
      "enter item name: rakshi\n",
      "enter item quantity: 4\n",
      "enter item price: 1000\n",
      "{0: {'Name': 'DAAL', 'Quantity': 3, 'price': 40}, 1: {'Name': 'rakshi', 'Quantity': 4, 'price': 1000}}\n",
      "total 1040 rs\n",
      "do you want to update ? (y/n)y\n",
      "what do you want to update ? (name/qty/price)qty\n",
      "thank you\n"
     ]
    }
   ],
   "source": [
    "bill = {}\n",
    "n = int(input(\"enter the no. of data you want to store: \"))\n",
    "total = 0\n",
    "for i in range(n):\n",
    "    name = input(\"enter item name: \")\n",
    "    qty = int(input(\"enter item quantity: \"))\n",
    "    p = int(input(\"enter item price: \"))\n",
    "    total = total + p\n",
    "    bill[i]={\"Name\": name, \"Quantity\":qty, \"price\":p}\n",
    "print(bill)\n",
    "print(\"total\", total ,\"rs\")\n",
    "\n",
    "def update():\n",
    "    wht = input(\"what do you want to update ? (name/qty/price)\")\n",
    "    if wht.lower() == \"name\":\n",
    "        uN = input(\"enter the name of item you want to update ?\")\n",
    "        for i in range(len(bill)):\n",
    "            if uN.lower() in bill[i]['Name']:\n",
    "                nN = input(\"enter the new name of item ?\")\n",
    "                bill[i]['Name']=  nN\n",
    "                print(\"thank you\")\n",
    "            print(bill)\n",
    "    elif  wht.lower() == \"qty\":\n",
    "        print(\"thank you\")\n",
    "    elif wht.lower() == \"price\":\n",
    "        print(\"thank you\")\n",
    "    else:\n",
    "        print(\"wrong input\")\n",
    "\n",
    "up = input(\"do you want to update ? (y/n)\")\n",
    "if up.lower() == \"y\":\n",
    "    update()\n",
    "else:\n",
    "    print(\"thank you\")"
   ]
  },
  {
   "cell_type": "code",
   "execution_count": 3,
   "metadata": {},
   "outputs": [],
   "source": [
    "# WAP for billing (accounting) for a shop (CRUD)\n",
    "# WAP for result management system (CRUD)\n",
    "\n",
    "# WAPto get the maximum and minimum value in a dictionary\n",
    "# WAP to remove duplicates from Dictionary\n",
    "# WAP to change any key or index of a Dictionary\n",
    "# WAP to drop empty Items from a given Dictionary. Go to the editor\n",
    "#     Original Dictionary:\n",
    "#     {'c1': 'Red', 'c2': 'Green', 'c3': None}\n",
    "#     New Dictionary after dropping empty items:\n",
    "#     {'c1': 'Red', 'c2': 'Green'}"
   ]
  },
  {
   "cell_type": "code",
   "execution_count": 4,
   "metadata": {},
   "outputs": [
    {
     "name": "stdout",
     "output_type": "stream",
     "text": [
      "Original Dictionary:\n",
      "{'c1': 'Red', 'c2': 'Green', 'c3': None}\n",
      "New Dictionary after dropping empty items:\n",
      "{'c1': 'Red', 'c2': 'Green'}\n"
     ]
    }
   ],
   "source": [
    "dict1 = {'c1': 'Red', 'c2': 'Green', 'c3':None}\n",
    "print(\"Original Dictionary:\")\n",
    "print(dict1)\n",
    "print(\"New Dictionary after dropping empty items:\")\n",
    "dict1 = {key:value for (key, value) in dict1.items() if value is not None}\n",
    "print(dict1)"
   ]
  },
  {
   "cell_type": "code",
   "execution_count": 5,
   "metadata": {},
   "outputs": [],
   "source": [
    "# WAP to change any key or index of a Dictionary\n"
   ]
  },
  {
   "cell_type": "code",
   "execution_count": 6,
   "metadata": {},
   "outputs": [
    {
     "name": "stdout",
     "output_type": "stream",
     "text": [
      "{'n1': [1, 2, 3], 'n2': [1, 2, 5], 'n3': [2, 3, 4]}\n"
     ]
    }
   ],
   "source": [
    "num = {'n1': [2, 3, 1], 'n2': [5, 1, 2], 'n3': [3, 2, 4]}\n",
    "sorted_dict = {x: sorted(y) for x, y in num.items()}\n",
    "print(sorted_dict)"
   ]
  },
  {
   "cell_type": "code",
   "execution_count": 7,
   "metadata": {},
   "outputs": [
    {
     "name": "stdout",
     "output_type": "stream",
     "text": [
      "item4 55\n",
      "item1 45.5\n",
      "item3 41.3\n"
     ]
    }
   ],
   "source": [
    "#Write a Python program to get the top three items in a shop.\n",
    "from heapq import nlargest\n",
    "from operator import itemgetter\n",
    "items = {'item1': 45.50, 'item2':35, 'item3': 41.30, 'item4':55, 'item5': 24}\n",
    "for name, value in nlargest(3, items.items(), key=itemgetter(1)):\n",
    "    print(name, value)"
   ]
  },
  {
   "cell_type": "code",
   "execution_count": 1,
   "metadata": {},
   "outputs": [
    {
     "name": "stdout",
     "output_type": "stream",
     "text": [
      "293\n"
     ]
    }
   ],
   "source": [
    "my_dict = {'data1':100,'data2':-54,'data3':247}\n",
    "print(sum(my_dict.values()))"
   ]
  },
  {
   "cell_type": "code",
   "execution_count": 3,
   "metadata": {},
   "outputs": [
    {
     "name": "stdout",
     "output_type": "stream",
     "text": [
      "{'a': 1, 'b': 2, 'c': 3, 'd': 4}\n",
      "{'b': 2, 'c': 3, 'd': 4}\n",
      "{'b': 2, 'd': 4}\n"
     ]
    }
   ],
   "source": [
    "myDict = {'a':1,'b':2,'c':3,'d':4}\n",
    "print(myDict)\n",
    "if 'a' in myDict: \n",
    "    del myDict['a']\n",
    "print(myDict)\n",
    "if 'c' in myDict:\n",
    "    del myDict['c']\n",
    "print(myDict)       "
   ]
  },
  {
   "cell_type": "code",
   "execution_count": 4,
   "metadata": {},
   "outputs": [
    {
     "name": "stdout",
     "output_type": "stream",
     "text": [
      "Input a number:4\n",
      "{1: 1, 2: 4, 3: 9, 4: 16}\n"
     ]
    }
   ],
   "source": [
    "n=int(input(\"Input a number:\"))\n",
    "d = dict()\n",
    "\n",
    "for x in range(1,n+1):\n",
    "    d[x]=x*x\n",
    "\n",
    "print(d) "
   ]
  },
  {
   "cell_type": "code",
   "execution_count": null,
   "metadata": {},
   "outputs": [],
   "source": []
  }
 ],
 "metadata": {
  "kernelspec": {
   "display_name": "Python 3",
   "language": "python",
   "name": "python3"
  },
  "language_info": {
   "codemirror_mode": {
    "name": "ipython",
    "version": 3
   },
   "file_extension": ".py",
   "mimetype": "text/x-python",
   "name": "python",
   "nbconvert_exporter": "python",
   "pygments_lexer": "ipython3",
   "version": "3.8.5"
  }
 },
 "nbformat": 4,
 "nbformat_minor": 4
}
