{
 "cells": [
  {
   "cell_type": "code",
   "execution_count": 1,
   "metadata": {},
   "outputs": [
    {
     "name": "stdout",
     "output_type": "stream",
     "text": [
      "[[], [], [], []]\n",
      "<class 'list'>\n",
      "4\n"
     ]
    }
   ],
   "source": [
    "#list inside list\n",
    "a =[[],[],[],[]]\n",
    "print(a)\n",
    "print(type(a))\n",
    "print(len(a))"
   ]
  },
  {
   "cell_type": "code",
   "execution_count": 2,
   "metadata": {},
   "outputs": [
    {
     "data": {
      "text/plain": [
       "[1, 2, 3]"
      ]
     },
     "execution_count": 2,
     "metadata": {},
     "output_type": "execute_result"
    }
   ],
   "source": [
    "a =[[1,2,3],[4,5,6],[7,8,9]]\n",
    "a[0]"
   ]
  },
  {
   "cell_type": "code",
   "execution_count": 5,
   "metadata": {},
   "outputs": [
    {
     "data": {
      "text/plain": [
       "1"
      ]
     },
     "execution_count": 5,
     "metadata": {},
     "output_type": "execute_result"
    }
   ],
   "source": [
    "a =[[1,2,3],[4,5,6],[7,8,9]]\n",
    "a[0][0]"
   ]
  },
  {
   "cell_type": "code",
   "execution_count": 6,
   "metadata": {},
   "outputs": [
    {
     "data": {
      "text/plain": [
       "5"
      ]
     },
     "execution_count": 6,
     "metadata": {},
     "output_type": "execute_result"
    }
   ],
   "source": [
    "a[1][1]"
   ]
  },
  {
   "cell_type": "code",
   "execution_count": 9,
   "metadata": {},
   "outputs": [
    {
     "name": "stdout",
     "output_type": "stream",
     "text": [
      "Enter the value of n=2\n",
      "Enter name=Ram\n",
      "Enter phone=56789\n",
      "Enter name=hari\n",
      "Enter phone=6789\n",
      "[[1, 'Ram', 56789], [2, 'hari', 6789]]\n"
     ]
    }
   ],
   "source": [
    "a =[]\n",
    "n =int(input(\"Enter the value of n=\"))\n",
    "for i in range(1,n+1):\n",
    "    name =input(\"Enter name=\")\n",
    "    phone =int(input(\"Enter phone=\"))\n",
    "    info =[i,name,phone]\n",
    "    a.append(info)\n",
    "print(a)"
   ]
  },
  {
   "cell_type": "code",
   "execution_count": 10,
   "metadata": {},
   "outputs": [
    {
     "name": "stdout",
     "output_type": "stream",
     "text": [
      "Enter sn=2\n",
      "The data is= [2, 'hari', 6789]\n"
     ]
    }
   ],
   "source": [
    "sn =int(input(\"Enter sn=\"))\n",
    "print(\"The data is=\",a[sn-1])   #  -1 for "
   ]
  },
  {
   "cell_type": "code",
   "execution_count": 11,
   "metadata": {},
   "outputs": [],
   "source": [
    "# #list inside list\n",
    "# -multiple values accept \n",
    "# -mutable data types\n",
    "# -indexing\n",
    "# -ordered\n",
    "# duplicate members "
   ]
  },
  {
   "cell_type": "code",
   "execution_count": 12,
   "metadata": {},
   "outputs": [
    {
     "data": {
      "text/plain": [
       "[[1, 2, 3], [1, 2, 3]]"
      ]
     },
     "execution_count": 12,
     "metadata": {},
     "output_type": "execute_result"
    }
   ],
   "source": [
    "# multiple values accept \n",
    "a =[[1,2,3]]\n",
    "a*2"
   ]
  },
  {
   "cell_type": "code",
   "execution_count": 15,
   "metadata": {},
   "outputs": [
    {
     "name": "stdout",
     "output_type": "stream",
     "text": [
      "[['apple', 'ant'], ['ball', 'Bat']]\n"
     ]
    }
   ],
   "source": [
    "# -mutable data types\n",
    "a =[[\"apple\",\"Ant\"],[\"ball\", \"Bat\"]]\n",
    "a[0]=[\"apple\",\"ant\"]\n",
    "print(a)"
   ]
  },
  {
   "cell_type": "code",
   "execution_count": 20,
   "metadata": {},
   "outputs": [
    {
     "name": "stdout",
     "output_type": "stream",
     "text": [
      "[['apple', 'Ant'], ['ball', 'Bat']]\n"
     ]
    }
   ],
   "source": [
    "a =[[\"Apple\",\"Ant\"],[\"ball\", \"Bat\"]]\n",
    "a[0][0]=\"apple\"\n",
    "print(a)"
   ]
  },
  {
   "cell_type": "code",
   "execution_count": 22,
   "metadata": {},
   "outputs": [
    {
     "data": {
      "text/plain": [
       "[['Apple', 'Ant'], ['ball', 'Bat']]"
      ]
     },
     "execution_count": 22,
     "metadata": {},
     "output_type": "execute_result"
    }
   ],
   "source": [
    "# indexing\n",
    "a=[[\"Apple\",\"Ant\"]]\n",
    "b=[[\"ball\", \"Bat\"]]\n",
    "a+b\n"
   ]
  },
  {
   "cell_type": "code",
   "execution_count": 25,
   "metadata": {},
   "outputs": [
    {
     "name": "stdout",
     "output_type": "stream",
     "text": [
      "Enter the value of n=2\n",
      "Enter name=ram\n",
      "Enter phone=345\n",
      "Enter name=hari\n",
      "Enter phone=34\n",
      "[[1, 'ram', 345], [2, 'hari', 34]]\n"
     ]
    }
   ],
   "source": [
    "#list inside list without append\n",
    "a =[]\n",
    "n =int(input(\"Enter the value of n=\"))\n",
    "for i in range(1,n+1):\n",
    "    name =input(\"Enter name=\")\n",
    "    phone =int(input(\"Enter phone=\"))\n",
    "    info =[[i,name,phone]]\n",
    "    a =a+info\n",
    "print(a)"
   ]
  },
  {
   "cell_type": "code",
   "execution_count": 26,
   "metadata": {},
   "outputs": [
    {
     "name": "stdout",
     "output_type": "stream",
     "text": [
      "Enter the value of n=2\n",
      "Enter name=ram\n",
      "Enter phone=5678\n",
      "Enter name=hari\n",
      "Enter phone=456789\n",
      "[[1, 'ram', 5678], [2, 'hari', 456789]]\n",
      "Enter the name you =ram\n",
      "[1, 'ram', 5678]\n"
     ]
    }
   ],
   "source": [
    "a =[]\n",
    "n =int(input(\"Enter the value of n=\"))\n",
    "for i in range(1,n+1):\n",
    "    name =input(\"Enter name=\")\n",
    "    phone =int(input(\"Enter phone=\"))\n",
    "    info =[i,name,phone]\n",
    "    a.append(info)\n",
    "print(a)\n",
    "name =input(\"Enter the name you =\")\n",
    "for j in a:\n",
    "    if name in j:\n",
    "        print(j)"
   ]
  },
  {
   "cell_type": "raw",
   "metadata": {},
   "source": [
    "a =[]\n",
    "n =int(input(\"Enter the value of n=\"))\n",
    "for i in range(1,n+1):\n",
    "    name =input(\"Enter name=\")\n",
    "    phone =int(input(\"Enter phone=\"))\n",
    "    info =[i,name,phone]\n",
    "    a.append(info)\n",
    "print(a)\n",
    "name =input(\"Enter the name you =\").lower()\n",
    "for j in a:\n",
    "    if name in j[:\n",
    "        print(j)"
   ]
  },
  {
   "cell_type": "code",
   "execution_count": 28,
   "metadata": {},
   "outputs": [
    {
     "name": "stdout",
     "output_type": "stream",
     "text": [
      "Enter the name you =Ram\n",
      "[1, 'ram', 5678]\n"
     ]
    }
   ],
   "source": [
    "\n",
    "name =input(\"Enter the name you =\").lower()\n",
    "for j in a:\n",
    "    if name in j[1].lower():\n",
    "        print(j)"
   ]
  },
  {
   "cell_type": "code",
   "execution_count": 29,
   "metadata": {},
   "outputs": [
    {
     "name": "stdout",
     "output_type": "stream",
     "text": [
      "Enter the name you =ram\n",
      "[[2, 'hari', 456789]]\n"
     ]
    }
   ],
   "source": [
    "#delete\n",
    "name =input(\"Enter the name you =\").lower()\n",
    "for j in a:\n",
    "    if name in j[1].lower():\n",
    "        a.remove(j)\n",
    "print(a)"
   ]
  },
  {
   "cell_type": "code",
   "execution_count": 34,
   "metadata": {},
   "outputs": [
    {
     "name": "stdout",
     "output_type": "stream",
     "text": [
      "Enter the name you =ram\n",
      "Enter the name to be update=hello\n",
      "[[1, 'hello', 5678], [2, 'hari', 456789]]\n"
     ]
    }
   ],
   "source": [
    "#update\n",
    "a=[[1, 'ram', 5678], [2, 'hari', 456789]]\n",
    "name =input(\"Enter the name you =\").lower()\n",
    "for j in a:\n",
    "    if name in j[1].lower():\n",
    "        j[1] = input(\"Enter the name to be update=\")\n",
    "print(a)"
   ]
  },
  {
   "cell_type": "code",
   "execution_count": null,
   "metadata": {},
   "outputs": [],
   "source": [
    "#WAP to entry the student result every details.(entry result search upadate)\n",
    "a=  'NEPALAYA COLLEGE'\n",
    "a\n",
    "results =[]\n",
    "n = int(input(\"Enter the no of student=\"))\n",
    "for i in range(1,n+1):\n",
    "    name = input(\"Enter the Name of Student=\")\n",
    "    maths =int(input(\"Enter the mark of maths=\"))\n",
    "    english =int(input(\"Enter the mark of English=\"))\n",
    "    physics =int(input(\"Enter the mark of physics=\"))\n",
    "    chemistry =int(input(\"Enter the mark of chemistry=\"))\n",
    "    biology =int(input(\"Enter the mark of biology=\"))\n",
    "    \n",
    "    total =sum([maths,english,physics,chemistry,biology])\n",
    "    per =total/5\n",
    "    result =[i,name,maths,english,physics,chemistry,biology,per,total]\n",
    "    results.append(result)\n",
    "    \n",
    "print(results)\n",
    "    if math>=40 and english>=40 and science>=40 and nepali>=40 and social>=40:\n",
    "            if per>80:\n",
    "                print(\"Distinction\")\n",
    "            elif per>=70 and per<80:\n",
    "                print(\"First Divison\")\n",
    "            elif per>=55 and per<70:\n",
    "                print(\"second Divison\")\n",
    "            else:\n",
    "                print(\"Third Division\")\n",
    "\n",
    "        else:\n",
    "            print(\"Fail\")\n",
    "#search part\n",
    "name =input(\"Enter name you want to search =\")\n",
    "if name in s:\n",
    "    print(\"yes\", s.count(name))\n",
    "else:\n",
    "    print(\"NO\")\n",
    "name =input(\"Enter the name you =\").lower()\n",
    "for j in a:\n",
    "    if name in j[1].lower():\n",
    "        a.remove(j)\n",
    "print(a)\n",
    "name =input(\"Enter the name you =\").lower()\n",
    "for j in a:\n",
    "    if name in j[1].lower():\n",
    "        j[1] = input(\"Enter the name to be update=\")\n",
    "print(a)"
   ]
  },
  {
   "cell_type": "markdown",
   "metadata": {},
   "source": [
    "# WAP to Entry the bill in Department store\n",
    "a = \"Big mart\"\n",
    "print(a)\n",
    "b =[]\n",
    "n =int(input(\"Enter no of products =\"))\n",
    "for i in range(1,n+1):\n",
    "    name =input(\"Enter the name of Product=\")\n",
    "    qun =int(input(\"Enter the Quantity of Product=\"))\n",
    "    rate =int(input(\"Enter the rate=\"))\n",
    "    info =b+info\n",
    "    t = qun*rate\n",
    "    for j in range(m):\n",
    "        total =sum([t])\n",
    "    \n",
    "    \n",
    "    "
   ]
  },
  {
   "cell_type": "code",
   "execution_count": null,
   "metadata": {},
   "outputs": [],
   "source": [
    "# WAP to Entry the bill in Department store\n",
    "a = \"Big mart\"\n",
    "print(a)\n",
    "b =[]\n",
    "n =int(input(\"Enter no of products =\"))\n",
    "for i in range(1,n+1):\n",
    "    name =input(\"Enter the name of Product=\")\n",
    "    qun =int(input(\"Enter the Quantity of Product=\"))\n",
    "    rate =int(input(\"Enter the rate=\"))\n",
    "    t = qun*rate\n",
    "    info =[i,name,qun,rate,t]\n",
    "    info =b+info\n",
    "    print(info)\n",
    "    "
   ]
  },
  {
   "cell_type": "code",
   "execution_count": null,
   "metadata": {},
   "outputs": [],
   "source": [
    "m =int(input(\" Enter the total number of items =\"))\n",
    "    for j in range(m):\n",
    "        total =sum([t])"
   ]
  },
  {
   "cell_type": "code",
   "execution_count": null,
   "metadata": {},
   "outputs": [],
   "source": [
    "a = \"Big mart\"\n",
    "print(a)\n",
    "b =[]\n",
    "n =int(input(\"Enter no of products =\"))\n",
    "for i in range(1,n+1):\n",
    "    name =input(\"Enter the name of Product=\")\n",
    "    qun =int(input(\"Enter the Quantity of Product=\"))\n",
    "    rate =int(input(\"Enter the rate=\"))\n",
    "    t = qun*rate\n",
    "    info =[i,name,qun,rate,t]\n",
    "    info =b+info\n",
    "    print(info)\n",
    "    "
   ]
  },
  {
   "cell_type": "code",
   "execution_count": null,
   "metadata": {},
   "outputs": [],
   "source": []
  }
 ],
 "metadata": {
  "kernelspec": {
   "display_name": "Python 3",
   "language": "python",
   "name": "python3"
  },
  "language_info": {
   "codemirror_mode": {
    "name": "ipython",
    "version": 3
   },
   "file_extension": ".py",
   "mimetype": "text/x-python",
   "name": "python",
   "nbconvert_exporter": "python",
   "pygments_lexer": "ipython3",
   "version": "3.8.5"
  }
 },
 "nbformat": 4,
 "nbformat_minor": 4
}
