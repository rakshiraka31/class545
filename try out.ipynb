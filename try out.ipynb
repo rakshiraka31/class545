{
 "cells": [
  {
   "cell_type": "code",
   "execution_count": 2,
   "metadata": {},
   "outputs": [
    {
     "name": "stdout",
     "output_type": "stream",
     "text": [
      "The value of 3-4 is -1\n",
      "The value of 3+4 is 7\n",
      "The value of 3*4 is 12\n",
      "The value of 3/4 is 0.75\n"
     ]
    }
   ],
   "source": [
    "a =3 \n",
    "b =4\n",
    "#Arithmetic operator\n",
    "print(\"The value of 3-4 is\", 3-4)\n",
    "print(\"The value of 3+4 is\", 3+4)\n",
    "print(\"The value of 3*4 is\", 3*4)\n",
    "print(\"The value of 3/4 is\", 3/4)"
   ]
  },
  {
   "cell_type": "code",
   "execution_count": 4,
   "metadata": {},
   "outputs": [
    {
     "name": "stdout",
     "output_type": "stream",
     "text": [
      "22\n"
     ]
    }
   ],
   "source": [
    "#assignment operator\n",
    "a =20\n",
    "a +=4\n",
    "a -=2\n",
    "\n",
    "print(a)"
   ]
  },
  {
   "cell_type": "code",
   "execution_count": 7,
   "metadata": {},
   "outputs": [
    {
     "name": "stdout",
     "output_type": "stream",
     "text": [
      "False\n"
     ]
    }
   ],
   "source": [
    "#comparision operator\n",
    "b =(4>7)\n",
    "b =(14==6)\n",
    "print(b)"
   ]
  },
  {
   "cell_type": "code",
   "execution_count": 8,
   "metadata": {},
   "outputs": [
    {
     "name": "stdout",
     "output_type": "stream",
     "text": [
      "The value of bool1 and bool2 is  False\n",
      "The value of bool1 or bool2 is  True\n",
      "The value of not bool2 is  True\n"
     ]
    }
   ],
   "source": [
    "#logical operator\n",
    "bool1= True\n",
    "bool2= False\n",
    "print(\"The value of bool1 and bool2 is \",(bool1 and bool2))\n",
    "print(\"The value of bool1 or bool2 is \",(bool1 or bool2))\n",
    "print(\"The value of not bool2 is \",(not bool2))"
   ]
  },
  {
   "cell_type": "code",
   "execution_count": 12,
   "metadata": {},
   "outputs": [
    {
     "name": "stdout",
     "output_type": "stream",
     "text": [
      "<class 'int'>\n",
      "350\n"
     ]
    }
   ],
   "source": [
    "#typecasting\n",
    "a =\"345\"\n",
    "a =int(a)\n",
    "print(type(a))\n",
    "print(a +5)"
   ]
  },
  {
   "cell_type": "code",
   "execution_count": 14,
   "metadata": {},
   "outputs": [
    {
     "data": {
      "text/plain": [
       "32"
      ]
     },
     "execution_count": 14,
     "metadata": {},
     "output_type": "execute_result"
    }
   ],
   "source": [
    "# Conversion\n",
    "str(31)\n",
    "int(\"32\")"
   ]
  },
  {
   "cell_type": "code",
   "execution_count": 16,
   "metadata": {},
   "outputs": [
    {
     "name": "stdout",
     "output_type": "stream",
     "text": [
      "Enter your name:harry\n",
      "harry\n"
     ]
    }
   ],
   "source": [
    "#input function\n",
    "a = input(\"Enter your name:\")\n",
    "print(a)"
   ]
  },
  {
   "cell_type": "code",
   "execution_count": 17,
   "metadata": {},
   "outputs": [
    {
     "name": "stdout",
     "output_type": "stream",
     "text": [
      "Enter the 1st number33\n",
      "Enter the 2nd number22\n",
      "55\n"
     ]
    }
   ],
   "source": [
    "#write a program to add 2 number\n",
    "a =int(input(\"Enter the 1st number\"))\n",
    "b =int(input(\"Enter the 2nd number\"))\n",
    "c =a+b\n",
    "print(c)"
   ]
  },
  {
   "cell_type": "code",
   "execution_count": 1,
   "metadata": {},
   "outputs": [
    {
     "name": "stdout",
     "output_type": "stream",
     "text": [
      "Enter the 1st number:45\n",
      "Enter the 2nd number:2\n",
      "The remainder is 1\n",
      "<class 'int'>\n"
     ]
    }
   ],
   "source": [
    "a =int(input(\"Enter the 1st number:\"))\n",
    "b =int(input(\"Enter the 2nd number:\"))\n",
    "c =a%b\n",
    "print(\"The remainder is\",c)\n",
    "print(type(c))"
   ]
  },
  {
   "cell_type": "code",
   "execution_count": 2,
   "metadata": {},
   "outputs": [
    {
     "name": "stdout",
     "output_type": "stream",
     "text": [
      "True\n"
     ]
    }
   ],
   "source": [
    "a =45\n",
    "b =44\n",
    "print(a>b)"
   ]
  },
  {
   "cell_type": "code",
   "execution_count": 3,
   "metadata": {},
   "outputs": [
    {
     "name": "stdout",
     "output_type": "stream",
     "text": [
      "Enter the 1st number:2\n",
      "Enter the 2nd number:4\n",
      "3.0\n"
     ]
    }
   ],
   "source": [
    "a =int(input(\"Enter the 1st number:\"))\n",
    "b =int(input(\"Enter the 2nd number:\"))\n",
    "print((a+b)/2)"
   ]
  },
  {
   "cell_type": "code",
   "execution_count": 4,
   "metadata": {},
   "outputs": [
    {
     "name": "stdout",
     "output_type": "stream",
     "text": [
      "Enter the 1st number:3\n",
      "9\n"
     ]
    }
   ],
   "source": [
    "a =int(input(\"Enter the 1st number:\"))\n",
    "print(a*a)"
   ]
  },
  {
   "cell_type": "code",
   "execution_count": 5,
   "metadata": {},
   "outputs": [
    {
     "name": "stdout",
     "output_type": "stream",
     "text": [
      "harry's\n"
     ]
    }
   ],
   "source": [
    "#string\n",
    "a =\"harry's\"\n",
    "print(a)"
   ]
  },
  {
   "cell_type": "code",
   "execution_count": 9,
   "metadata": {},
   "outputs": [
    {
     "name": "stdout",
     "output_type": "stream",
     "text": [
      "<class 'str'>\n",
      "harrygood morning\n"
     ]
    }
   ],
   "source": [
    "#string _slicing\n",
    "greeting =\"good morning\"\n",
    "name = \"harry\" \n",
    "print(type(name +greeting))\n",
    "print(name+greeting)\n"
   ]
  },
  {
   "cell_type": "code",
   "execution_count": 13,
   "metadata": {},
   "outputs": [
    {
     "name": "stdout",
     "output_type": "stream",
     "text": [
      "r\n"
     ]
    }
   ],
   "source": [
    "greeting =\"good morning\"\n",
    "name = '''harry'''\n",
    "c = greeting +  name\n",
    "print(name[3])"
   ]
  },
  {
   "cell_type": "code",
   "execution_count": 15,
   "metadata": {},
   "outputs": [
    {
     "name": "stdout",
     "output_type": "stream",
     "text": [
      "ha\n",
      "harr\n",
      "arry\n"
     ]
    }
   ],
   "source": [
    "print(name[0:2])\n",
    "print(name[0:4])\n",
    "print(name[1:5])"
   ]
  },
  {
   "cell_type": "code",
   "execution_count": 16,
   "metadata": {},
   "outputs": [
    {
     "name": "stdout",
     "output_type": "stream",
     "text": [
      "arr\n"
     ]
    }
   ],
   "source": [
    "print(name[-4:-1])"
   ]
  },
  {
   "cell_type": "code",
   "execution_count": 19,
   "metadata": {},
   "outputs": [
    {
     "name": "stdout",
     "output_type": "stream",
     "text": [
      "aaig\n"
     ]
    }
   ],
   "source": [
    "name = \"amazing\"\n",
    "print(name[0::2])"
   ]
  },
  {
   "cell_type": "code",
   "execution_count": 26,
   "metadata": {},
   "outputs": [
    {
     "name": "stdout",
     "output_type": "stream",
     "text": [
      "89\n",
      "False\n"
     ]
    }
   ],
   "source": [
    "#string functions\n",
    "story =\"once upon a time there was a youtube named called Harry , he used to upload python course\"\n",
    "print(len(story))\n",
    "print(story.endswith(\"notes\"))"
   ]
  },
  {
   "cell_type": "code",
   "execution_count": 29,
   "metadata": {},
   "outputs": [
    {
     "name": "stdout",
     "output_type": "stream",
     "text": [
      "89\n",
      "True\n",
      "1\n",
      "2\n",
      "Once upon a time there was a youtube named called harry , he used to upload python course\n"
     ]
    }
   ],
   "source": [
    "#string functions\n",
    "story =\"once upon a time there was a youtube named called Harry , he used to upload python course\"\n",
    "print(len(story))\n",
    "print(story.endswith(\"course\"))\n",
    "print(story.count(\"youtube\"))\n",
    "print(story.count(\"up\"))\n",
    "print(story.capitalize())"
   ]
  },
  {
   "cell_type": "code",
   "execution_count": 33,
   "metadata": {},
   "outputs": [
    {
     "name": "stdout",
     "output_type": "stream",
     "text": [
      "10\n",
      "0\n",
      "once upon a time there was a youtube named called Rakesh , he used to upload python course\n"
     ]
    }
   ],
   "source": [
    "print(story.find(\"a\"))\n",
    "print(story.find(\"once\"))\n",
    "print(story.replace(\"Harry\",\"Rakesh\"))"
   ]
  },
  {
   "cell_type": "code",
   "execution_count": 36,
   "metadata": {},
   "outputs": [
    {
     "name": "stdout",
     "output_type": "stream",
     "text": [
      "My name is Rakesh mahat. \n",
      "I am a loose and failure\n"
     ]
    }
   ],
   "source": [
    "story =\"My name is Rakesh mahat. \\nI am a loose and failure\"\n",
    "print(story)"
   ]
  },
  {
   "cell_type": "code",
   "execution_count": 42,
   "metadata": {},
   "outputs": [
    {
     "name": "stdout",
     "output_type": "stream",
     "text": [
      "Enter the name:Rakesh\n",
      "Good afternoon\n",
      "Rakesh\n"
     ]
    }
   ],
   "source": [
    "#question\n",
    "#WAP to display a user entered name and good afternoon in the screen using input functions\n",
    "name =input(\"Enter the name:\")\n",
    "greeting =\"Good afternoon\\n\"\n",
    "c =greeting + name\n",
    "print(c)"
   ]
  },
  {
   "cell_type": "code",
   "execution_count": 45,
   "metadata": {},
   "outputs": [
    {
     "name": "stdout",
     "output_type": "stream",
     "text": [
      "Enter the name:\n",
      "rakesh\n",
      "Good Afternoon, rakesh\n"
     ]
    }
   ],
   "source": [
    "name =input(\"Enter the name:\\n\")\n",
    "print(\"Good Afternoon, \" +name)"
   ]
  },
  {
   "cell_type": "code",
   "execution_count": null,
   "metadata": {},
   "outputs": [],
   "source": [
    "#lettter\n",
    "letter =''' Dear ,<|Name|>\n",
    "\n",
    "You are selected in this post\n",
    "Date =<|DATE|>\n",
    "'''\n",
    "name =input(\"Enter name :\")\n",
    "date =input(\"Enter date:\")\n",
    "letter =letter.replace(\"<|Name|>\",name)\n",
    "letter =letter.replace(\"<|DATE|>\",date)\n",
    "print(letter)"
   ]
  },
  {
   "cell_type": "code",
   "execution_count": null,
   "metadata": {},
   "outputs": [],
   "source": [
    "f1 =input(\"Enter fruit number 1\")\n",
    "f2 =input(\"Enter fruit number 2\")\n",
    "f3 =input(\"Enter fruit number 1\")\n",
    "f4 =input(\"Enter fruit number 1\")\n",
    "f5 =input(\"Enter fruit number 1\")\n",
    "f6 =input(\"Enter fruit number 1\")\n",
    "f7 =input(\"Enter fruit number 1\")\n",
    "MyFruitlist = [f1, f2, f3 ,f4, f5, f6, f7 ]\n",
    "print(MyFruitlist)\n",
    "\n"
   ]
  },
  {
   "cell_type": "markdown",
   "metadata": {},
   "source": [
    "f1 =int(input(\"Enter fruit number :\"))\n",
    "f2 =input(\"Enter fruit number 2\")\n",
    "f3 =input(\"Enter fruit number 1\")\n",
    "f4 =input(\"Enter fruit number 1\")\n",
    "f5 =input(\"Enter fruit number 1\")\n",
    "f6 =input(\"Enter fruit number 1\")\n",
    "f7 =input(\"Enter fruit number 1\")\n",
    "Mylist = [f1, f2, f3 ,f4, f5, f6, f7 ]\n",
    "\n",
    "print(Mylist)"
   ]
  },
  {
   "cell_type": "code",
   "execution_count": null,
   "metadata": {},
   "outputs": [],
   "source": [
    "f1 =int(input(\"Enter fruit number :\"))\n",
    "f2 =int(input(\"Enter fruit number 2\"))\n",
    "f3 =int(input(\"Enter fruit number 1\"))\n",
    "f4 =int(input(\"Enter fruit number 1\"))\n",
    "f5 =int(input(\"Enter fruit number 1\"))\n",
    "f6 =int(input(\"Enter fruit number 1\"))\n",
    "f7 =int(input(\"Enter fruit number 1\"))\n",
    "Mylist = [f1, f2, f3 ,f4, f5, f6, f7 ]\n",
    "Mylist.sort()\n",
    "print(Mylist)"
   ]
  },
  {
   "cell_type": "markdown",
   "metadata": {},
   "source": []
  },
  {
   "cell_type": "code",
   "execution_count": 1,
   "metadata": {},
   "outputs": [
    {
     "ename": "TypeError",
     "evalue": "'tuple' object does not support item assignment",
     "output_type": "error",
     "traceback": [
      "\u001b[1;31m---------------------------------------------------------------------------\u001b[0m",
      "\u001b[1;31mTypeError\u001b[0m                                 Traceback (most recent call last)",
      "\u001b[1;32m<ipython-input-1-26bee4a04095>\u001b[0m in \u001b[0;36m<module>\u001b[1;34m\u001b[0m\n\u001b[0;32m      1\u001b[0m \u001b[0ma\u001b[0m \u001b[1;33m=\u001b[0m\u001b[1;33m(\u001b[0m\u001b[1;36m1\u001b[0m \u001b[1;33m,\u001b[0m\u001b[1;36m2\u001b[0m\u001b[1;33m,\u001b[0m\u001b[1;36m3\u001b[0m \u001b[1;33m,\u001b[0m\u001b[1;36m4\u001b[0m \u001b[1;33m,\u001b[0m\u001b[1;36m5\u001b[0m\u001b[1;33m)\u001b[0m\u001b[1;33m\u001b[0m\u001b[1;33m\u001b[0m\u001b[0m\n\u001b[1;32m----> 2\u001b[1;33m \u001b[0ma\u001b[0m\u001b[1;33m[\u001b[0m\u001b[1;36m3\u001b[0m\u001b[1;33m]\u001b[0m\u001b[1;33m=\u001b[0m\u001b[1;36m43\u001b[0m\u001b[1;33m\u001b[0m\u001b[1;33m\u001b[0m\u001b[0m\n\u001b[0m",
      "\u001b[1;31mTypeError\u001b[0m: 'tuple' object does not support item assignment"
     ]
    }
   ],
   "source": [
    "a =(1 ,2,3 ,4 ,5)\n",
    "a[3]=43"
   ]
  },
  {
   "cell_type": "code",
   "execution_count": 3,
   "metadata": {},
   "outputs": [
    {
     "name": "stdout",
     "output_type": "stream",
     "text": [
      "14\n",
      "14\n"
     ]
    }
   ],
   "source": [
    "a =[2,3,5,4]\n",
    "print(a[0]+a[1]+a[2]+a[3])\n",
    "print(sum(a))"
   ]
  },
  {
   "cell_type": "code",
   "execution_count": 4,
   "metadata": {},
   "outputs": [
    {
     "name": "stdout",
     "output_type": "stream",
     "text": [
      "3\n"
     ]
    }
   ],
   "source": [
    "a =(7,0,8,0,0,9)\n",
    "b=a.count(0)\n",
    "print(b)"
   ]
  },
  {
   "cell_type": "code",
   "execution_count": 1,
   "metadata": {},
   "outputs": [
    {
     "ename": "KeyError",
     "evalue": "'fast'",
     "output_type": "error",
     "traceback": [
      "\u001b[1;31m---------------------------------------------------------------------------\u001b[0m",
      "\u001b[1;31mKeyError\u001b[0m                                  Traceback (most recent call last)",
      "\u001b[1;32m<ipython-input-1-3a56eb772a25>\u001b[0m in \u001b[0;36m<module>\u001b[1;34m\u001b[0m\n\u001b[0;32m      4\u001b[0m     \u001b[1;34m\"Harry\"\u001b[0m\u001b[1;33m:\u001b[0m\u001b[1;34m\"A coder\"\u001b[0m\u001b[1;33m\u001b[0m\u001b[1;33m\u001b[0m\u001b[0m\n\u001b[0;32m      5\u001b[0m }\n\u001b[1;32m----> 6\u001b[1;33m \u001b[0mprint\u001b[0m\u001b[1;33m(\u001b[0m\u001b[0mmyDict\u001b[0m\u001b[1;33m[\u001b[0m\u001b[1;34m'fast'\u001b[0m\u001b[1;33m]\u001b[0m\u001b[1;33m)\u001b[0m\u001b[1;33m\u001b[0m\u001b[1;33m\u001b[0m\u001b[0m\n\u001b[0m",
      "\u001b[1;31mKeyError\u001b[0m: 'fast'"
     ]
    }
   ],
   "source": [
    "#Dictionary \n",
    "myDict ={\n",
    "    \"fast \":\"In a quick Manner\",\n",
    "    \"Harry\":\"A coder\"\n",
    "}\n",
    "print(myDict['fast'])"
   ]
  },
  {
   "cell_type": "code",
   "execution_count": 6,
   "metadata": {},
   "outputs": [
    {
     "name": "stdout",
     "output_type": "stream",
     "text": [
      "boys\n"
     ]
    }
   ],
   "source": [
    "myDict ={\n",
    "    \"hello\":\"boys\"\n",
    "}\n",
    "print(myDict[\"hello\"])"
   ]
  },
  {
   "cell_type": "code",
   "execution_count": 3,
   "metadata": {},
   "outputs": [
    {
     "name": "stdout",
     "output_type": "stream",
     "text": [
      "{1: 'apple', 0: 'Apple'}\n"
     ]
    }
   ],
   "source": [
    "a ={1:\"apple\",0:\"Apple\"}\n",
    "print(a)"
   ]
  },
  {
   "cell_type": "code",
   "execution_count": 4,
   "metadata": {},
   "outputs": [
    {
     "name": "stdout",
     "output_type": "stream",
     "text": [
      "Apple\n"
     ]
    }
   ],
   "source": [
    "print(a[0])"
   ]
  },
  {
   "cell_type": "code",
   "execution_count": 5,
   "metadata": {},
   "outputs": [
    {
     "name": "stdout",
     "output_type": "stream",
     "text": [
      "apple\n"
     ]
    }
   ],
   "source": [
    "print(a[1])"
   ]
  },
  {
   "cell_type": "code",
   "execution_count": 9,
   "metadata": {},
   "outputs": [
    {
     "name": "stdout",
     "output_type": "stream",
     "text": [
      "dict_keys(['fast ', 'harry', 'marks'])\n",
      "<class 'dict_keys'>\n"
     ]
    }
   ],
   "source": [
    "myDict ={\n",
    "    \"fast \":\"In a quick Manner\",\"harry\":\"A coder\",\"marks\":[1,2,3,4]\n",
    "}\n",
    "print(myDict.keys())\n",
    "print(type(myDict.keys()))"
   ]
  },
  {
   "cell_type": "code",
   "execution_count": 14,
   "metadata": {},
   "outputs": [
    {
     "name": "stdout",
     "output_type": "stream",
     "text": [
      "{'fast ': 'In a quick Manner', 'harry': 'A coder', 'marks': [1, 2, 3, 4], 'hello ': 'bro', 'tell': 'me '}\n"
     ]
    }
   ],
   "source": [
    "updatemyDict ={\n",
    "    \"hello \":\"bro\",\"tell\":\"me \"\n",
    "}\n",
    "print(myDict)\n"
   ]
  },
  {
   "cell_type": "code",
   "execution_count": 15,
   "metadata": {},
   "outputs": [
    {
     "name": "stdout",
     "output_type": "stream",
     "text": [
      "A coder\n"
     ]
    }
   ],
   "source": [
    "print(myDict.get(\"harry\"))"
   ]
  },
  {
   "cell_type": "code",
   "execution_count": 16,
   "metadata": {},
   "outputs": [
    {
     "name": "stdout",
     "output_type": "stream",
     "text": [
      "A coder\n"
     ]
    }
   ],
   "source": [
    "print(myDict[\"harry\"]) "
   ]
  },
  {
   "cell_type": "code",
   "execution_count": 17,
   "metadata": {},
   "outputs": [
    {
     "name": "stdout",
     "output_type": "stream",
     "text": [
      "None\n"
     ]
    }
   ],
   "source": [
    "print(myDict.get(\"harry2\"))#Returns none as harry2 is not present in the dictionary"
   ]
  },
  {
   "cell_type": "code",
   "execution_count": 18,
   "metadata": {},
   "outputs": [
    {
     "ename": "KeyError",
     "evalue": "'harry2'",
     "output_type": "error",
     "traceback": [
      "\u001b[1;31m---------------------------------------------------------------------------\u001b[0m",
      "\u001b[1;31mKeyError\u001b[0m                                  Traceback (most recent call last)",
      "\u001b[1;32m<ipython-input-18-a81e46b8f6b4>\u001b[0m in \u001b[0;36m<module>\u001b[1;34m\u001b[0m\n\u001b[1;32m----> 1\u001b[1;33m \u001b[0mprint\u001b[0m\u001b[1;33m(\u001b[0m\u001b[0mmyDict\u001b[0m\u001b[1;33m[\u001b[0m\u001b[1;34m\"harry2\"\u001b[0m\u001b[1;33m]\u001b[0m\u001b[1;33m)\u001b[0m  \u001b[1;31m#throws an erroe as harry2 is not present in the dictionary\u001b[0m\u001b[1;33m\u001b[0m\u001b[1;33m\u001b[0m\u001b[0m\n\u001b[0m",
      "\u001b[1;31mKeyError\u001b[0m: 'harry2'"
     ]
    }
   ],
   "source": [
    "print(myDict[\"harry2\"])  #throws an erroe as harry2 is not present in the dictionary"
   ]
  },
  {
   "cell_type": "code",
   "execution_count": 23,
   "metadata": {},
   "outputs": [
    {
     "name": "stdout",
     "output_type": "stream",
     "text": [
      "<class 'set'>\n"
     ]
    }
   ],
   "source": [
    "#Sets in python  #set is the collection of non repetative element\n",
    "a ={1,2,3,5,6,2,1}\n",
    "print(type(a))"
   ]
  },
  {
   "cell_type": "code",
   "execution_count": 24,
   "metadata": {},
   "outputs": [
    {
     "name": "stdout",
     "output_type": "stream",
     "text": [
      "{1, 2, 3, 5, 6}\n"
     ]
    }
   ],
   "source": [
    "print(a)"
   ]
  },
  {
   "cell_type": "code",
   "execution_count": 25,
   "metadata": {},
   "outputs": [
    {
     "name": "stdout",
     "output_type": "stream",
     "text": [
      "<class 'dict'>\n"
     ]
    }
   ],
   "source": [
    "#importnat : this syantax woll create an empty dictionary  and not an emoty set\n",
    "a ={}\n",
    "print(type(a))"
   ]
  },
  {
   "cell_type": "code",
   "execution_count": 26,
   "metadata": {},
   "outputs": [
    {
     "name": "stdout",
     "output_type": "stream",
     "text": [
      "<class 'set'>\n"
     ]
    }
   ],
   "source": [
    "#an empty can be create using the below synatax\n",
    "b =set()\n",
    "print(type(b))\n"
   ]
  },
  {
   "cell_type": "code",
   "execution_count": 28,
   "metadata": {},
   "outputs": [
    {
     "name": "stdout",
     "output_type": "stream",
     "text": [
      "{4, 5}\n"
     ]
    }
   ],
   "source": [
    "#Empty set(\n",
    "b =set()\n",
    "b.add(4)\n",
    "b.add(5)\n",
    "print(b)"
   ]
  },
  {
   "cell_type": "code",
   "execution_count": 29,
   "metadata": {},
   "outputs": [
    {
     "name": "stdout",
     "output_type": "stream",
     "text": [
      "{4, 5, (4, 5, 7, 8)}\n"
     ]
    }
   ],
   "source": [
    "#b.add([4,5,6])  # unhashbale list\n",
    "b.add((4,5,7,8))\n",
    "print(b)"
   ]
  },
  {
   "cell_type": "code",
   "execution_count": 31,
   "metadata": {},
   "outputs": [
    {
     "name": "stdout",
     "output_type": "stream",
     "text": [
      "{4, 5, (4, 5, 7, 8)}\n"
     ]
    }
   ],
   "source": [
    "#b.add({4:5})  #not dictionary\n",
    "\n",
    "print(b)"
   ]
  },
  {
   "cell_type": "code",
   "execution_count": 33,
   "metadata": {},
   "outputs": [
    {
     "name": "stdout",
     "output_type": "stream",
     "text": [
      "3\n",
      "{4, (4, 5, 7, 8)}\n"
     ]
    }
   ],
   "source": [
    "print(len(b))  #length of b\n",
    "b.remove(5)  #remove 5 from set\n",
    "b.remove(14) #throws an error when it is not in the set\n",
    "print(b)"
   ]
  },
  {
   "cell_type": "code",
   "execution_count": 36,
   "metadata": {},
   "outputs": [
    {
     "name": "stdout",
     "output_type": "stream",
     "text": [
      "(4, 5, 7, 8)\n",
      "None\n"
     ]
    }
   ],
   "source": [
    "print(b.pop())\n",
    "print(b.clear())"
   ]
  },
  {
   "cell_type": "code",
   "execution_count": 1,
   "metadata": {},
   "outputs": [
    {
     "name": "stdout",
     "output_type": "stream",
     "text": [
      "options are dict_keys(['pankha', 'dabba', 'khana'])\n",
      "Enter the hindi words :dabba\n",
      "the meaning od the words is : bottle\n"
     ]
    }
   ],
   "source": [
    "  #practice\n",
    "dict ={\n",
    "    \"pankha\":\"fan\",\"dabba\":\"bottle\",\"khana\":\"food\"\n",
    "}\n",
    "print(\"options are\", dict.keys())\n",
    "a =input(\"Enter the hindi words :\")\n",
    "print(\"the meaning od the words is :\",dict[a])"
   ]
  },
  {
   "cell_type": "code",
   "execution_count": 2,
   "metadata": {},
   "outputs": [
    {
     "name": "stdout",
     "output_type": "stream",
     "text": [
      "Enter nummber 1:\n",
      "2\n",
      "Enter nummber 23\n",
      "Enter nummber 32\n",
      "Enter nummber 41\n",
      "Enter nummber 52\n",
      "Enter nummber 65\n",
      "Enter nummber 76\n",
      "Enter nummber 85\n",
      "Enter nummber 94\n",
      "{'4', '5', '3', '2', '6', '1'}\n"
     ]
    }
   ],
   "source": [
    "# 8 number with unique data\n",
    "num1 =input(\"Enter nummber 1:\\n\")\n",
    "num2 =input(\"Enter nummber 2\")\n",
    "num3 =input(\"Enter nummber 3\")\n",
    "num4 =input(\"Enter nummber 4\")\n",
    "num5 =input(\"Enter nummber 5\")\n",
    "num6 =input(\"Enter nummber 6\")\n",
    "num7 =input(\"Enter nummber 7\")\n",
    "num8 =input(\"Enter nummber 8\")\n",
    "num9 =input(\"Enter nummber 9\")\n",
    "s ={num1, num2,num3, num4,num5,num6,num7,num8,num9}\n",
    "print(s)\n"
   ]
  },
  {
   "cell_type": "code",
   "execution_count": 3,
   "metadata": {},
   "outputs": [],
   "source": [
    "#conditional "
   ]
  },
  {
   "cell_type": "code",
   "execution_count": 2,
   "metadata": {},
   "outputs": [
    {
     "name": "stdout",
     "output_type": "stream",
     "text": [
      "hello boys i am from the top of the world\n"
     ]
    }
   ],
   "source": [
    "#file \n",
    "f = open('data.txt','r')\n",
    "data =f.read()\n",
    "print(data)\n",
    "f.close()"
   ]
  },
  {
   "cell_type": "code",
   "execution_count": 2,
   "metadata": {},
   "outputs": [
    {
     "name": "stdout",
     "output_type": "stream",
     "text": [
      "Pioneer is sthe company of the tissue paper coampany which\n",
      "\n",
      "was estalblish in the Dhangadi District.\n",
      "\n",
      "saipal himal is the top mountain from far western nepal.\n",
      "\n"
     ]
    }
   ],
   "source": [
    "f = open('untitled1.txt')\n",
    "data =f.readline()\n",
    "print(data)\n",
    "data = f.readline()\n",
    "print(data)\n",
    "data = f.readline()\n",
    "print(data)\n",
    "data = f.readline()\n",
    "print(data)\n",
    "f.close()\n"
   ]
  },
  {
   "cell_type": "code",
   "execution_count": 7,
   "metadata": {},
   "outputs": [],
   "source": [
    "#Write\n",
    "f =open('untitled1.txt','a')\n",
    "f.write(\"i am appending\")\n",
    "f.write(\"i am appending\")\n",
    "f.write(\"i am appending\")\n",
    "f.write(\"i am appending\")\n",
    "f.close()"
   ]
  },
  {
   "cell_type": "code",
   "execution_count": 10,
   "metadata": {},
   "outputs": [
    {
     "name": "stdout",
     "output_type": "stream",
     "text": [
      "Please wrtie this filei am appendingi am appendingi am appendingi am appendingi am appending\n"
     ]
    }
   ],
   "source": [
    "# WIth\n",
    "with open ('untitled1.txt','r') as f:\n",
    "    a = f.read() \n",
    "with open ('untitled1.txt','r') as f:\n",
    "    a = f.read() \n",
    "print(a)    "
   ]
  },
  {
   "cell_type": "code",
   "execution_count": 11,
   "metadata": {},
   "outputs": [
    {
     "name": "stdout",
     "output_type": "stream",
     "text": [
      "Twinkle is present\n"
     ]
    }
   ],
   "source": [
    "f =open('untitled1.txt')\n",
    "t = f.read()\n",
    "if 'twinkle' in t:\n",
    "    print(\"Twinkle is present\")\n",
    "else:\n",
    "    print(\"Twinkle is not present\")\n",
    "f.close()   "
   ]
  },
  {
   "cell_type": "code",
   "execution_count": null,
   "metadata": {},
   "outputs": [],
   "source": []
  }
 ],
 "metadata": {
  "kernelspec": {
   "display_name": "Python 3",
   "language": "python",
   "name": "python3"
  },
  "language_info": {
   "codemirror_mode": {
    "name": "ipython",
    "version": 3
   },
   "file_extension": ".py",
   "mimetype": "text/x-python",
   "name": "python",
   "nbconvert_exporter": "python",
   "pygments_lexer": "ipython3",
   "version": "3.8.5"
  }
 },
 "nbformat": 4,
 "nbformat_minor": 4
}
