{
 "cells": [
  {
   "cell_type": "code",
   "execution_count": 1,
   "metadata": {},
   "outputs": [],
   "source": [
    "# #list \n",
    "# -multiple values accept \n",
    "# -mutable data types\n",
    "# -indexing\n",
    "# -ordered\n",
    "# duplicate members "
   ]
  },
  {
   "cell_type": "code",
   "execution_count": 2,
   "metadata": {},
   "outputs": [
    {
     "name": "stdout",
     "output_type": "stream",
     "text": [
      "['Apple', 'Ball', 'Cat', 'Dog']\n",
      "<class 'list'>\n",
      "4\n"
     ]
    }
   ],
   "source": [
    "a =[\"Apple\",\"Ball\",\"Cat\",\"Dog\"]\n",
    "print(a)\n",
    "print(type(a))\n",
    "print(len(a))"
   ]
  },
  {
   "cell_type": "code",
   "execution_count": 3,
   "metadata": {},
   "outputs": [
    {
     "data": {
      "text/plain": [
       "5"
      ]
     },
     "execution_count": 3,
     "metadata": {},
     "output_type": "execute_result"
    }
   ],
   "source": [
    "a =\"apple\"\n",
    "len(a)"
   ]
  },
  {
   "cell_type": "code",
   "execution_count": 5,
   "metadata": {},
   "outputs": [
    {
     "name": "stdout",
     "output_type": "stream",
     "text": [
      "2\n"
     ]
    }
   ],
   "source": [
    "#indexing\n",
    "a =[\"Apple\",\"Ball\",\"Cat\",\"Dog\",1,2,3]\n",
    "print(a[-2])    #count from 0 1 2 3    and minus from behind"
   ]
  },
  {
   "cell_type": "code",
   "execution_count": 6,
   "metadata": {},
   "outputs": [
    {
     "name": "stdout",
     "output_type": "stream",
     "text": [
      "['Apple', 'Ball', 'Cat', 'Dog', 1]\n"
     ]
    }
   ],
   "source": [
    "a =[\"Apple\",\"Ball\",\"Cat\",\"Dog\",1,2,3]\n",
    "print(a[0:5])"
   ]
  },
  {
   "cell_type": "code",
   "execution_count": 7,
   "metadata": {},
   "outputs": [
    {
     "name": "stdout",
     "output_type": "stream",
     "text": [
      "['Apple', 'Cat', 1, 3]\n"
     ]
    }
   ],
   "source": [
    "a =[\"Apple\",\"Ball\",\"Cat\",\"Dog\",1,2,3]\n",
    "print(a[0:7:2])        #  a[0:7:2]  last 2 is for increment with 2 i++"
   ]
  },
  {
   "cell_type": "code",
   "execution_count": 8,
   "metadata": {},
   "outputs": [
    {
     "name": "stdout",
     "output_type": "stream",
     "text": [
      "[3, 2, 1, 'Dog', 'Cat', 'Ball', 'Apple']\n"
     ]
    }
   ],
   "source": [
    "a =[\"Apple\",\"Ball\",\"Cat\",\"Dog\",1,2,3]\n",
    "print(a[6::-1])"
   ]
  },
  {
   "cell_type": "code",
   "execution_count": 9,
   "metadata": {},
   "outputs": [
    {
     "name": "stdout",
     "output_type": "stream",
     "text": [
      "['apple', 'ball', 'cat', 'dog']\n"
     ]
    }
   ],
   "source": [
    "#ordered\n",
    "a =[\"apple\",\"ball\"]\n",
    "b =[\"cat\",\"dog\"]\n",
    "print(a+b)"
   ]
  },
  {
   "cell_type": "code",
   "execution_count": 10,
   "metadata": {},
   "outputs": [
    {
     "name": "stdout",
     "output_type": "stream",
     "text": [
      "['ball ', 'cat', 'ball ', 'cat']\n"
     ]
    }
   ],
   "source": [
    "a =[\"apple\",\"apple\"]\n",
    "#index 0 and 1 diff\n",
    "b =[\"ball \",\"cat\"]*2   #can't do +  - / \n",
    "print(b)"
   ]
  },
  {
   "cell_type": "code",
   "execution_count": 11,
   "metadata": {},
   "outputs": [
    {
     "name": "stdout",
     "output_type": "stream",
     "text": [
      "['ant', 'Ball', 'Cat', 'Dog', 1, 2, 3]\n"
     ]
    }
   ],
   "source": [
    "a =[\"Apple\",\"Ball\",\"Cat\",\"Dog\",1,2,3]\n",
    "a[0]=\"ant\"\n",
    "print(a)"
   ]
  },
  {
   "cell_type": "code",
   "execution_count": 12,
   "metadata": {},
   "outputs": [
    {
     "name": "stdout",
     "output_type": "stream",
     "text": [
      "Enter the value of n =4\n",
      "Enter x=34\n",
      "Enter x=44\n",
      "Enter x=55\n",
      "Enter x=44\n",
      "[34, 44, 55, 44]\n"
     ]
    }
   ],
   "source": [
    "y =[]\n",
    "n =int(input(\"Enter the value of n =\"))\n",
    "for i in range(n):\n",
    "    x =int(input(\"Enter x=\"))\n",
    "    y.append(x)  # append for adding\n",
    "print(y)"
   ]
  },
  {
   "cell_type": "code",
   "execution_count": 13,
   "metadata": {},
   "outputs": [
    {
     "name": "stdout",
     "output_type": "stream",
     "text": [
      "[34, 44, 55, 44, 90]\n"
     ]
    }
   ],
   "source": [
    "a =[34, 44, 55, 44]\n",
    "a.append(90)  #add in last \n",
    "print(a)"
   ]
  },
  {
   "cell_type": "code",
   "execution_count": 15,
   "metadata": {},
   "outputs": [
    {
     "name": "stdout",
     "output_type": "stream",
     "text": [
      "[34, 44, 46, 55, 44, 90]\n"
     ]
    }
   ],
   "source": [
    "a =[34, 44, 55, 44, 90]\n",
    "a.insert(2,46)  #insert function for inserting in the point where you want\n",
    "print(a)"
   ]
  },
  {
   "cell_type": "code",
   "execution_count": 17,
   "metadata": {},
   "outputs": [
    {
     "name": "stdout",
     "output_type": "stream",
     "text": [
      "Enter the value of n =4\n",
      "Enter x=hey\n",
      "Enter x=hi\n",
      "Enter x=hello\n",
      "Enter x=namaste\n",
      "['hey', 'hi', 'hello', 'namaste']\n"
     ]
    }
   ],
   "source": [
    "y =[]\n",
    "n =int(input(\"Enter the value of n =\"))\n",
    "for i in range(n):\n",
    "    x =input(\"Enter x=\")\n",
    "    y =y+[x]\n",
    "print(y)"
   ]
  },
  {
   "cell_type": "code",
   "execution_count": 2,
   "metadata": {},
   "outputs": [
    {
     "name": "stdout",
     "output_type": "stream",
     "text": [
      "Enter the value of n =4\n",
      "Enter x=3\n",
      "Enter x=5\n",
      "Enter x=4\n",
      "Enter x=5\n",
      "The final data are= [3, 5, 4, 5]\n",
      "The max value are = 5\n",
      "The min value is= 3\n",
      "The sum value is= 17\n",
      "The avg  value is = 4.25\n",
      "The sorted value is = [3, 4, 5, 5]\n",
      "The reverse value is= [5, 5, 4, 3]\n"
     ]
    }
   ],
   "source": [
    "y =[]\n",
    "n =int(input(\"Enter the value of n =\"))\n",
    "for i in range(n):\n",
    "    x =int(input(\"Enter x=\"))\n",
    "    y.append(x)\n",
    "print(\"The final data are=\",y)\n",
    "print(\"The max value are =\",max(y))\n",
    "print(\"The min value is=\",min(y))\n",
    "print(\"The sum value is=\",sum(y))\n",
    "print(\"The avg  value is =\",sum(y)/n)\n",
    "y.sort()\n",
    "print(\"The sorted value is =\",y)\n",
    "y.reverse()\n",
    "print(\"The reverse value is=\",y)\n"
   ]
  },
  {
   "cell_type": "code",
   "execution_count": 3,
   "metadata": {},
   "outputs": [
    {
     "name": "stdout",
     "output_type": "stream",
     "text": [
      "The final value is = ['22', '33', '34']\n",
      "The sorted value is= ['22', '33', '34']\n",
      "['34', '33', '22']\n"
     ]
    }
   ],
   "source": [
    "print(\"The final value is =\",y)\n",
    "y.sort()\n",
    "print(\"The sorted value is=\",y)\n",
    "y.reverse()\n",
    "print(y)"
   ]
  },
  {
   "cell_type": "code",
   "execution_count": 4,
   "metadata": {},
   "outputs": [
    {
     "name": "stdout",
     "output_type": "stream",
     "text": [
      "['Cat', 'Zebra', 'apple', 'ball']\n"
     ]
    }
   ],
   "source": [
    "a =[\"apple\",\"ball\",\"Cat\", \"Zebra\"]\n",
    "a.sort()            #sort with alphabetical order\n",
    "print(a)"
   ]
  },
  {
   "cell_type": "code",
   "execution_count": 7,
   "metadata": {},
   "outputs": [
    {
     "name": "stdout",
     "output_type": "stream",
     "text": [
      "0 Cat\n",
      "1 Zebra\n",
      "2 apple\n",
      "3 ball\n"
     ]
    }
   ],
   "source": [
    "n=len(a)\n",
    "for i in range(n):\n",
    "    print(i,a[i])"
   ]
  },
  {
   "cell_type": "code",
   "execution_count": 8,
   "metadata": {},
   "outputs": [
    {
     "name": "stdout",
     "output_type": "stream",
     "text": [
      "Enter the value of search=cat\n",
      "yes 1\n"
     ]
    }
   ],
   "source": [
    "a =['Apple','ball','cat','dog']\n",
    "search =input(\"Enter the value of search=\")\n",
    "if search in a:\n",
    "    print(\"yes\",a.count(search))"
   ]
  },
  {
   "cell_type": "code",
   "execution_count": 11,
   "metadata": {},
   "outputs": [
    {
     "name": "stdout",
     "output_type": "stream",
     "text": [
      "['apple', 'ball', 'cat', 'dog']\n"
     ]
    }
   ],
   "source": [
    "a =['aPple','ball','cat','dog']\n",
    "b =[]\n",
    "for i in a:\n",
    "    j =i.lower()\n",
    "    b.append(j)\n",
    "print(b)\n"
   ]
  },
  {
   "cell_type": "code",
   "execution_count": 4,
   "metadata": {},
   "outputs": [
    {
     "name": "stdout",
     "output_type": "stream",
     "text": [
      "Enter the value of search=3\n"
     ]
    }
   ],
   "source": [
    "a =['Apple','ball','cat','dog','apple']\n",
    "search =input(\"Enter the value of search=\").lower()\n",
    "for i in range(len(a)):\n",
    "    \n",
    "    if search in a[i].lower():\n",
    "        print(\"yes\")\n",
    "        break"
   ]
  },
  {
   "cell_type": "code",
   "execution_count": 3,
   "metadata": {},
   "outputs": [
    {
     "name": "stdout",
     "output_type": "stream",
     "text": [
      "Enter the value of search=apple\n",
      "yes\n"
     ]
    }
   ],
   "source": [
    "a =['Apple','ball','cat','dog','apple']\n",
    "search =input(\"Enter the value of search=\").lower()\n",
    "for i in range(len(a)):\n",
    "    \n",
    "    if search in a[i].lower():\n",
    "        print(\"yes\")\n",
    "        "
   ]
  },
  {
   "cell_type": "code",
   "execution_count": 5,
   "metadata": {},
   "outputs": [],
   "source": [
    "#index remove del"
   ]
  },
  {
   "cell_type": "code",
   "execution_count": 14,
   "metadata": {},
   "outputs": [
    {
     "name": "stdout",
     "output_type": "stream",
     "text": [
      "['ball ', 'cat', 'dog']\n"
     ]
    }
   ],
   "source": [
    "a =[\"apple\",\"ball \",\"cat\",\"dog\"]\n",
    "a.remove(\"apple\")\n",
    "print(a)"
   ]
  },
  {
   "cell_type": "code",
   "execution_count": 7,
   "metadata": {},
   "outputs": [
    {
     "name": "stdout",
     "output_type": "stream",
     "text": [
      "['ball ', 'cat', 'dog']\n"
     ]
    }
   ],
   "source": [
    "a =['apple ','ball ','cat','dog']\n",
    "del a[0]\n",
    "print(a)"
   ]
  },
  {
   "cell_type": "code",
   "execution_count": 10,
   "metadata": {},
   "outputs": [
    {
     "ename": "NameError",
     "evalue": "name 'a' is not defined",
     "output_type": "error",
     "traceback": [
      "\u001b[1;31m---------------------------------------------------------------------------\u001b[0m",
      "\u001b[1;31mNameError\u001b[0m                                 Traceback (most recent call last)",
      "\u001b[1;32m<ipython-input-10-78c17bae8e28>\u001b[0m in \u001b[0;36m<module>\u001b[1;34m\u001b[0m\n\u001b[0;32m      1\u001b[0m \u001b[0ma\u001b[0m \u001b[1;33m=\u001b[0m\u001b[1;33m[\u001b[0m\u001b[1;34m'apple '\u001b[0m\u001b[1;33m,\u001b[0m\u001b[1;34m'ball '\u001b[0m\u001b[1;33m,\u001b[0m\u001b[1;34m'cat'\u001b[0m\u001b[1;33m,\u001b[0m\u001b[1;34m'dog'\u001b[0m\u001b[1;33m]\u001b[0m\u001b[1;33m\u001b[0m\u001b[1;33m\u001b[0m\u001b[0m\n\u001b[0;32m      2\u001b[0m \u001b[1;32mdel\u001b[0m \u001b[0ma\u001b[0m\u001b[1;33m\u001b[0m\u001b[1;33m\u001b[0m\u001b[0m\n\u001b[1;32m----> 3\u001b[1;33m \u001b[0mprint\u001b[0m\u001b[1;33m(\u001b[0m\u001b[0ma\u001b[0m\u001b[1;33m)\u001b[0m\u001b[1;33m\u001b[0m\u001b[1;33m\u001b[0m\u001b[0m\n\u001b[0m",
      "\u001b[1;31mNameError\u001b[0m: name 'a' is not defined"
     ]
    }
   ],
   "source": [
    "a =['apple ','ball ','cat','dog']\n",
    "del a\n",
    "print(a)"
   ]
  },
  {
   "cell_type": "code",
   "execution_count": 11,
   "metadata": {},
   "outputs": [
    {
     "name": "stdout",
     "output_type": "stream",
     "text": [
      "[]\n"
     ]
    }
   ],
   "source": [
    "a =['apple ','ball ','cat','dog']\n",
    "a.clear()\n",
    "print(a)"
   ]
  },
  {
   "cell_type": "code",
   "execution_count": 2,
   "metadata": {},
   "outputs": [
    {
     "name": "stdout",
     "output_type": "stream",
     "text": [
      "['ball ', 'cat', 'dog']\n"
     ]
    }
   ],
   "source": [
    "a =[\"apple\",\"ball \",\"cat\",\"dog\",\"apple\",\"apple\"]\n",
    "n =a.count(\"apple\")\n",
    "for i in range(n):\n",
    "    a.remove(\"apple\")\n",
    "print(a)"
   ]
  },
  {
   "cell_type": "code",
   "execution_count": 3,
   "metadata": {},
   "outputs": [
    {
     "name": "stdout",
     "output_type": "stream",
     "text": [
      "['ball ', 'cat', 'dog', 'apple']\n"
     ]
    }
   ],
   "source": [
    "a =[\"apple\",\"ball \",\"cat\",\"dog\",\"apple\",\"apple\"]\n",
    "n =a.count(\"apple\")\n",
    "for i in range(n-1):\n",
    "    a.remove(\"apple\")\n",
    "print(a)"
   ]
  },
  {
   "cell_type": "code",
   "execution_count": 5,
   "metadata": {},
   "outputs": [
    {
     "name": "stdout",
     "output_type": "stream",
     "text": [
      "['apple', 'apple']\n"
     ]
    }
   ],
   "source": [
    "a =[\"apple\",\"ball \",\"cat\",\"dog\",\"apple\",\"apple\"]\n",
    "del a[0:4]\n",
    "print(a)\n"
   ]
  },
  {
   "cell_type": "code",
   "execution_count": 6,
   "metadata": {},
   "outputs": [
    {
     "data": {
      "text/plain": [
       "0"
      ]
     },
     "execution_count": 6,
     "metadata": {},
     "output_type": "execute_result"
    }
   ],
   "source": [
    "a =[\"apple\",\"ball \",\"cat\",\"dog\",\"apple\",\"apple\"]\n",
    "a.index(\"apple\")"
   ]
  },
  {
   "cell_type": "code",
   "execution_count": 12,
   "metadata": {},
   "outputs": [
    {
     "name": "stdout",
     "output_type": "stream",
     "text": [
      "Enter the value for search=apple\n",
      "0\n",
      "4\n",
      "5\n"
     ]
    }
   ],
   "source": [
    "a =[\"apple\",\"ball\",\"cat\",\"dog\",\"apple\",\"apple\"]\n",
    "x =input(\"Enter the value for search=\")\n",
    "for i in range(len(a)):\n",
    "    if a[i] ==x:\n",
    "        print(i)"
   ]
  },
  {
   "cell_type": "code",
   "execution_count": 15,
   "metadata": {},
   "outputs": [
    {
     "data": {
      "text/plain": [
       "['ball', 'cat', 'dog', 'apple', 'apple']"
      ]
     },
     "execution_count": 15,
     "metadata": {},
     "output_type": "execute_result"
    }
   ],
   "source": [
    "a =[\"apple\",\"ball\",\"cat\",\"dog\",\"apple\",\"apple\"]\n",
    "del a[0]\n",
    "a\n"
   ]
  },
  {
   "cell_type": "code",
   "execution_count": 16,
   "metadata": {},
   "outputs": [
    {
     "name": "stdout",
     "output_type": "stream",
     "text": [
      "Enter the value for search=apple\n",
      "[0, 4, 5]\n"
     ]
    }
   ],
   "source": [
    "a =[\"apple\",\"ball\",\"cat\",\"dog\",\"apple\",\"apple\"]\n",
    "x =input(\"Enter the value for search=\")\n",
    "ind =[]\n",
    "\n",
    "for i in range(len(a)):\n",
    "    if a[i] ==x:\n",
    "        ind.append(i)\n",
    "print(ind)"
   ]
  },
  {
   "cell_type": "code",
   "execution_count": 23,
   "metadata": {},
   "outputs": [
    {
     "name": "stdout",
     "output_type": "stream",
     "text": [
      "Enter how many rows =2\n",
      "Enter the name=ram\n",
      "Enter the number=456789\n",
      "Enter the name=shyam\n",
      "Enter the number=5678\n",
      "The info are\n",
      "  ram-----456789\n",
      "shyam-----5678\n",
      "\n",
      "[' ram-----456789', 'shyam-----5678']\n"
     ]
    }
   ],
   "source": [
    "s =\" \"\n",
    "n =int(input(\"Enter how many rows =\"))\n",
    "for i in range(n):\n",
    "    name = input(\"Enter the name=\")\n",
    "    phone =int(input(\"Enter the number=\"))\n",
    "    info =f\"{name}-----{phone}\\n\"\n",
    "    s =s+info\n",
    "print(\"The info are\\n\",s)\n",
    "my_data =s.split(\"\\n\")\n",
    "print(my_data[:-1]) #for reduce last \\n part"
   ]
  },
  {
   "cell_type": "code",
   "execution_count": 24,
   "metadata": {},
   "outputs": [
    {
     "data": {
      "text/plain": [
       "'shyam-----5678'"
      ]
     },
     "execution_count": 24,
     "metadata": {},
     "output_type": "execute_result"
    }
   ],
   "source": [
    "my_data[1]"
   ]
  },
  {
   "cell_type": "code",
   "execution_count": 19,
   "metadata": {},
   "outputs": [
    {
     "data": {
      "text/plain": [
       "['apple', 'ball', 'cat']"
      ]
     },
     "execution_count": 19,
     "metadata": {},
     "output_type": "execute_result"
    }
   ],
   "source": [
    "a = \"apple ball cat\"\n",
    "a.split()"
   ]
  },
  {
   "cell_type": "code",
   "execution_count": 20,
   "metadata": {},
   "outputs": [
    {
     "data": {
      "text/plain": [
       "['apple', 'ball', 'cat']"
      ]
     },
     "execution_count": 20,
     "metadata": {},
     "output_type": "execute_result"
    }
   ],
   "source": [
    "a = \"apple ball cat\"\n",
    "a.split()"
   ]
  },
  {
   "cell_type": "code",
   "execution_count": 25,
   "metadata": {},
   "outputs": [
    {
     "data": {
      "text/plain": [
       "[' ram', '456789']"
      ]
     },
     "execution_count": 25,
     "metadata": {},
     "output_type": "execute_result"
    }
   ],
   "source": [
    "my_data[0].split('-----')"
   ]
  },
  {
   "cell_type": "code",
   "execution_count": 28,
   "metadata": {},
   "outputs": [
    {
     "name": "stdout",
     "output_type": "stream",
     "text": [
      "Enter how many rows =2\n",
      "Enter the name=ram\n",
      "Enter the number=67890\n",
      "Enter the name=hari\n",
      "Enter the number=6789\n",
      "The info are\n",
      "  ram-----67890\n",
      "hari-----6789\n",
      "\n"
     ]
    },
    {
     "ename": "IndexError",
     "evalue": "list index out of range",
     "output_type": "error",
     "traceback": [
      "\u001b[1;31m---------------------------------------------------------------------------\u001b[0m",
      "\u001b[1;31mIndexError\u001b[0m                                Traceback (most recent call last)",
      "\u001b[1;32m<ipython-input-28-50889e8bbfa1>\u001b[0m in \u001b[0;36m<module>\u001b[1;34m\u001b[0m\n\u001b[0;32m     12\u001b[0m \u001b[1;33m\u001b[0m\u001b[0m\n\u001b[0;32m     13\u001b[0m \u001b[1;32mfor\u001b[0m \u001b[0mi\u001b[0m \u001b[1;32min\u001b[0m \u001b[0mrange\u001b[0m\u001b[1;33m(\u001b[0m\u001b[0mlen\u001b[0m\u001b[1;33m(\u001b[0m\u001b[0mmy_data\u001b[0m\u001b[1;33m)\u001b[0m\u001b[1;33m)\u001b[0m\u001b[1;33m:\u001b[0m\u001b[1;33m\u001b[0m\u001b[1;33m\u001b[0m\u001b[0m\n\u001b[1;32m---> 14\u001b[1;33m     \u001b[0mfinal_value\u001b[0m \u001b[1;33m=\u001b[0m \u001b[0mup_my_data\u001b[0m\u001b[1;33m[\u001b[0m\u001b[0mi\u001b[0m\u001b[1;33m]\u001b[0m\u001b[1;33m.\u001b[0m\u001b[0msplit\u001b[0m\u001b[1;33m(\u001b[0m\u001b[1;34m'-----'\u001b[0m\u001b[1;33m)\u001b[0m\u001b[1;33m\u001b[0m\u001b[1;33m\u001b[0m\u001b[0m\n\u001b[0m\u001b[0;32m     15\u001b[0m     \u001b[0mz\u001b[0m\u001b[1;33m.\u001b[0m\u001b[0mappend\u001b[0m\u001b[1;33m(\u001b[0m\u001b[0mfinal_value\u001b[0m\u001b[1;33m)\u001b[0m\u001b[1;33m\u001b[0m\u001b[1;33m\u001b[0m\u001b[0m\n\u001b[0;32m     16\u001b[0m \u001b[0mprint\u001b[0m\u001b[1;33m(\u001b[0m\u001b[0mz\u001b[0m\u001b[1;33m)\u001b[0m\u001b[1;33m\u001b[0m\u001b[1;33m\u001b[0m\u001b[0m\n",
      "\u001b[1;31mIndexError\u001b[0m: list index out of range"
     ]
    }
   ],
   "source": [
    "s =\" \"\n",
    "n =int(input(\"Enter how many rows =\"))\n",
    "for i in range(n):\n",
    "    name = input(\"Enter the name=\")\n",
    "    phone =int(input(\"Enter the number=\"))\n",
    "    info =f\"{name}-----{phone}\\n\"\n",
    "    s =s+info\n",
    "print(\"The info are\\n\",s)\n",
    "z =[]\n",
    "my_data =s.split('\\n')\n",
    "up_my_data =my_data[:-1]\n",
    "\n",
    "for i in range(len(my_data)):\n",
    "    final_value = up_my_data[i].split('-----')\n",
    "    z.append(final_value)\n",
    "print(z)\n",
    "    "
   ]
  },
  {
   "cell_type": "code",
   "execution_count": null,
   "metadata": {},
   "outputs": [],
   "source": []
  }
 ],
 "metadata": {
  "kernelspec": {
   "display_name": "Python 3",
   "language": "python",
   "name": "python3"
  },
  "language_info": {
   "codemirror_mode": {
    "name": "ipython",
    "version": 3
   },
   "file_extension": ".py",
   "mimetype": "text/x-python",
   "name": "python",
   "nbconvert_exporter": "python",
   "pygments_lexer": "ipython3",
   "version": "3.8.5"
  }
 },
 "nbformat": 4,
 "nbformat_minor": 4
}
