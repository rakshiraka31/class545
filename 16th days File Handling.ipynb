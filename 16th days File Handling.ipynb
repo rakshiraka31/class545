{
 "cells": [
  {
   "cell_type": "code",
   "execution_count": 1,
   "metadata": {},
   "outputs": [],
   "source": [
    " file\n",
    "#different mode \n",
    "# r = read\n",
    "# a = append\n",
    "# w = write\n",
    "# x = create"
   ]
  },
  {
   "cell_type": "code",
   "execution_count": 2,
   "metadata": {},
   "outputs": [],
   "source": [
    "# b= open(<file_name>,<mode>)\n",
    "# b.close()"
   ]
  },
  {
   "cell_type": "code",
   "execution_count": 4,
   "metadata": {},
   "outputs": [
    {
     "name": "stdout",
     "output_type": "stream",
     "text": [
      "The file is already there\n"
     ]
    }
   ],
   "source": [
    "try:\n",
    "    b =open('class230pm.txt','x')\n",
    "    b.close()\n",
    "except:\n",
    "    print(\"The file is already there\")"
   ]
  },
  {
   "cell_type": "code",
   "execution_count": 2,
   "metadata": {},
   "outputs": [
    {
     "name": "stdout",
     "output_type": "stream",
     "text": [
      "1.Hello world\n",
      "1.Hello world\n",
      "1.Hello world\n",
      "1.Hello world\n",
      "1.Hello world\n",
      "1.Hello world\n"
     ]
    }
   ],
   "source": [
    "b =open('class230pm.txt','r')\n",
    "print(b.read())\n",
    "b.close()"
   ]
  },
  {
   "cell_type": "code",
   "execution_count": 3,
   "metadata": {},
   "outputs": [
    {
     "name": "stdout",
     "output_type": "stream",
     "text": [
      "<class 'str'>\n",
      "1.Hello world\n",
      "1.Hello world\n",
      "1.Hello world\n",
      "1.Hello world\n",
      "1.Hello world\n",
      "1.Hello world\n"
     ]
    }
   ],
   "source": [
    "b =open('class230pm.txt','r')\n",
    "c =b.read()\n",
    "print(type(c))\n",
    "print(c)\n",
    "b.close()"
   ]
  },
  {
   "cell_type": "code",
   "execution_count": 6,
   "metadata": {},
   "outputs": [
    {
     "name": "stdout",
     "output_type": "stream",
     "text": [
      "<class 'str'>\n",
      "1.Hello world\n",
      "1.Hell\n"
     ]
    }
   ],
   "source": [
    "b =open('class230pm.txt','r')\n",
    "c =b.read(20)   #20 for counting string in the file\n",
    "print(type(c))\n",
    "print(c)\n",
    "b.close()"
   ]
  },
  {
   "cell_type": "code",
   "execution_count": 7,
   "metadata": {},
   "outputs": [
    {
     "name": "stdout",
     "output_type": "stream",
     "text": [
      "<class 'str'>\n",
      "1.Hello world\n",
      "\n"
     ]
    }
   ],
   "source": [
    "b =open('class230pm.txt','r')\n",
    "c =b.readline()   \n",
    "print(type(c))\n",
    "print(c)\n",
    "b.close()"
   ]
  },
  {
   "cell_type": "code",
   "execution_count": 12,
   "metadata": {},
   "outputs": [
    {
     "name": "stdout",
     "output_type": "stream",
     "text": [
      "1.Hello world\n",
      "\n",
      "2.Hello world\n",
      "\n"
     ]
    }
   ],
   "source": [
    "b =open('class230pm.txt','r')\n",
    "print(b.readline())\n",
    "print(b.readline()) \n",
    "b.close()"
   ]
  },
  {
   "cell_type": "code",
   "execution_count": 11,
   "metadata": {},
   "outputs": [
    {
     "name": "stdout",
     "output_type": "stream",
     "text": [
      "Enter the line NO:3\n",
      "1.Hello world\n",
      "\n",
      "1.Hello world\n",
      "\n",
      "1.Hello world\n",
      "\n"
     ]
    }
   ],
   "source": [
    "b =open('class230pm.txt','r')\n",
    "n =int(input(\"Enter the line NO:\"))\n",
    "for i in range(n):\n",
    "    print(b.readline()) \n",
    "b.close()"
   ]
  },
  {
   "cell_type": "code",
   "execution_count": 13,
   "metadata": {},
   "outputs": [
    {
     "name": "stdout",
     "output_type": "stream",
     "text": [
      "Enter the line NO:3\n",
      "3.Hello world\n",
      "\n"
     ]
    }
   ],
   "source": [
    "b =open('class230pm.txt','r')\n",
    "n =int(input(\"Enter the line NO:\"))\n",
    "for i in range(1,8):\n",
    "    if i !=n:\n",
    "        b.readline() \n",
    "    else:\n",
    "        print(b.readline())\n",
    "b.close()"
   ]
  },
  {
   "cell_type": "code",
   "execution_count": 14,
   "metadata": {},
   "outputs": [],
   "source": [
    "b =open('data.txt','a')\n",
    "b.write('Hello world')\n",
    "b.close()\n"
   ]
  },
  {
   "cell_type": "code",
   "execution_count": 6,
   "metadata": {},
   "outputs": [
    {
     "name": "stdout",
     "output_type": "stream",
     "text": [
      "Enter how many rows =2\n",
      "Enter the name=Raka\n",
      "Enter the number=987654321\n",
      "Enter the name=Rakshi\n",
      "Enter the number=98765432\n"
     ]
    }
   ],
   "source": [
    "s =\" \"\n",
    "n =int(input(\"Enter how many rows =\"))\n",
    "for i in range(n):\n",
    "    name =input(\"Enter the name=\")\n",
    "    phone =int(input(\"Enter the number=\"))\n",
    "    info =f\"{name},{phone}\\n\"\n",
    "    s =s+info\n",
    "b =open('data.csv','w')\n",
    "b.write(s)\n",
    "b.close()"
   ]
  },
  {
   "cell_type": "code",
   "execution_count": 5,
   "metadata": {},
   "outputs": [
    {
     "name": "stdout",
     "output_type": "stream",
     "text": [
      " Rakesh-----98765432\n",
      "Mahat-----9876543\n",
      "\n"
     ]
    }
   ],
   "source": [
    "\n",
    "b =open('data.csv','r')\n",
    "print(b.read())\n",
    "b.close()"
   ]
  },
  {
   "cell_type": "code",
   "execution_count": null,
   "metadata": {},
   "outputs": [],
   "source": [
    "s =\" \"\n",
    "b =open('data.csv','a')\n",
    "b.write(\"Name,Phone\\n\")\n",
    "n =int(input(\"Enter how many rows =\"))\n",
    "for i in range(n):\n",
    "    name =input(\"Enter the name=\")\n",
    "    phone =int(input(\"Enter the number=\"))\n",
    "    info =f\"{name},{phone}\\n\"\n",
    "    s =s+info\n",
    "\n",
    "b.write(s)\n",
    "b.close()"
   ]
  },
  {
   "cell_type": "code",
   "execution_count": 1,
   "metadata": {},
   "outputs": [
    {
     "ename": "UnsupportedOperation",
     "evalue": "not readable",
     "output_type": "error",
     "traceback": [
      "\u001b[1;31m---------------------------------------------------------------------------\u001b[0m",
      "\u001b[1;31mUnsupportedOperation\u001b[0m                      Traceback (most recent call last)",
      "\u001b[1;32m<ipython-input-1-1bfd6c068c3b>\u001b[0m in \u001b[0;36m<module>\u001b[1;34m\u001b[0m\n\u001b[0;32m      1\u001b[0m \u001b[0mb\u001b[0m \u001b[1;33m=\u001b[0m\u001b[0mopen\u001b[0m\u001b[1;33m(\u001b[0m\u001b[1;34m'data.txt'\u001b[0m\u001b[1;33m,\u001b[0m\u001b[1;34m'w'\u001b[0m\u001b[1;33m)\u001b[0m\u001b[1;33m\u001b[0m\u001b[1;33m\u001b[0m\u001b[0m\n\u001b[1;32m----> 2\u001b[1;33m \u001b[0mc\u001b[0m \u001b[1;33m=\u001b[0m\u001b[0mb\u001b[0m\u001b[1;33m.\u001b[0m\u001b[0mread\u001b[0m\u001b[1;33m(\u001b[0m\u001b[1;33m)\u001b[0m\u001b[1;33m\u001b[0m\u001b[1;33m\u001b[0m\u001b[0m\n\u001b[0m\u001b[0;32m      3\u001b[0m \u001b[0md\u001b[0m \u001b[1;33m=\u001b[0m\u001b[0mc\u001b[0m\u001b[1;33m.\u001b[0m\u001b[0mreplace\u001b[0m\u001b[1;33m(\u001b[0m\u001b[1;34m'987654321'\u001b[0m\u001b[1;33m,\u001b[0m\u001b[1;34m'123456789'\u001b[0m\u001b[1;33m)\u001b[0m\u001b[1;33m\u001b[0m\u001b[1;33m\u001b[0m\u001b[0m\n\u001b[0;32m      4\u001b[0m \u001b[0mb\u001b[0m\u001b[1;33m.\u001b[0m\u001b[0mwrite\u001b[0m\u001b[1;33m(\u001b[0m\u001b[0md\u001b[0m\u001b[1;33m)\u001b[0m\u001b[1;33m\u001b[0m\u001b[1;33m\u001b[0m\u001b[0m\n\u001b[0;32m      5\u001b[0m \u001b[0mb\u001b[0m\u001b[1;33m.\u001b[0m\u001b[0mclose\u001b[0m\u001b[1;33m(\u001b[0m\u001b[1;33m)\u001b[0m\u001b[1;33m\u001b[0m\u001b[1;33m\u001b[0m\u001b[0m\n",
      "\u001b[1;31mUnsupportedOperation\u001b[0m: not readable"
     ]
    }
   ],
   "source": [
    "b =open('data.txt','w')\n",
    "c =b.read()\n",
    "d =c.replace('987654321','123456789')\n",
    "b.write(d)\n",
    "b.close()"
   ]
  },
  {
   "cell_type": "code",
   "execution_count": 1,
   "metadata": {},
   "outputs": [
    {
     "name": "stdout",
     "output_type": "stream",
     "text": [
      "Enter the line NO:3\n",
      "\n"
     ]
    }
   ],
   "source": [
    "b =open('class230pm.txt','r')\n",
    "n =int(input(\"Enter the line NO:\"))\n",
    "for i in range(1,8):\n",
    "    if i !=n:\n",
    "        b.readline() \n",
    "    else:\n",
    "        z =b.readline()\n",
    "        global y\n",
    "        y =z.replace(z,'')\n",
    "        print(y)\n",
    "b.close()\n"
   ]
  },
  {
   "cell_type": "code",
   "execution_count": 2,
   "metadata": {},
   "outputs": [
    {
     "name": "stdout",
     "output_type": "stream",
     "text": [
      "Enter the line NO:3\n",
      "\n"
     ]
    }
   ],
   "source": [
    "b =open('class230pm.txt','r')\n",
    "e =b.read()\n",
    "n =int(input(\"Enter the line NO:\"))\n",
    "for i in range(1,8):\n",
    "    if i !=n:\n",
    "        b.readline() \n",
    "    else:\n",
    "        global y\n",
    "        z =b.readline()\n",
    "        y =e.replace('z','')\n",
    "b.close()"
   ]
  },
  {
   "cell_type": "code",
   "execution_count": null,
   "metadata": {},
   "outputs": [],
   "source": [
    "#file management plus CSV remaining"
   ]
  }
 ],
 "metadata": {
  "kernelspec": {
   "display_name": "Python 3",
   "language": "python",
   "name": "python3"
  },
  "language_info": {
   "codemirror_mode": {
    "name": "ipython",
    "version": 3
   },
   "file_extension": ".py",
   "mimetype": "text/x-python",
   "name": "python",
   "nbconvert_exporter": "python",
   "pygments_lexer": "ipython3",
   "version": "3.8.5"
  }
 },
 "nbformat": 4,
 "nbformat_minor": 4
}
