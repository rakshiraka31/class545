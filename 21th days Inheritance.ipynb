{
 "cells": [
  {
   "cell_type": "code",
   "execution_count": 2,
   "metadata": {},
   "outputs": [],
   "source": [
    "#Inheritance \n",
    "#Inheritance is the capability of one ckass "
   ]
  },
  {
   "cell_type": "code",
   "execution_count": 3,
   "metadata": {},
   "outputs": [],
   "source": [
    "#Parent class and "
   ]
  },
  {
   "cell_type": "code",
   "execution_count": 4,
   "metadata": {},
   "outputs": [
    {
     "name": "stdout",
     "output_type": "stream",
     "text": [
      "This is class A\n",
      "This is class B\n"
     ]
    }
   ],
   "source": [
    "class A:\n",
    "    print(\"This is class A\")\n",
    "class B(A):\n",
    "    print(\"This is class B\")\n",
    "obj =B()"
   ]
  },
  {
   "cell_type": "code",
   "execution_count": 5,
   "metadata": {},
   "outputs": [
    {
     "name": "stdout",
     "output_type": "stream",
     "text": [
      "This is class A\n",
      "This is class B\n"
     ]
    }
   ],
   "source": [
    "class A:\n",
    "    print(\"This is class A\")\n",
    "class B(A):\n",
    "    print(\"This is class B\")\n",
    "obj1 =A()\n",
    "obj2 =B()"
   ]
  },
  {
   "cell_type": "code",
   "execution_count": 15,
   "metadata": {},
   "outputs": [
    {
     "name": "stdout",
     "output_type": "stream",
     "text": [
      "shyam 34\n",
      "shyam 34\n"
     ]
    }
   ],
   "source": [
    "class A:\n",
    "    def __init__(self,name,age):\n",
    "        self.name = name\n",
    "        self.age =age\n",
    "    def a(self):\n",
    "        print(self.name,self.age)\n",
    "class B(A):\n",
    "    def b(self):\n",
    "        print(self.name,self.age)\n",
    "#obj = A(\"Ram\",45)\n",
    "obj1 =B(\"shyam\",34)\n",
    "obj1.a()\n",
    "obj1.b()"
   ]
  },
  {
   "cell_type": "code",
   "execution_count": 12,
   "metadata": {},
   "outputs": [
    {
     "name": "stdout",
     "output_type": "stream",
     "text": [
      "Enter l =30\n",
      "Enter b =3\n",
      "Enter h =4\n",
      "360\n"
     ]
    }
   ],
   "source": [
    "class Cal:\n",
    "    def __init__(self):\n",
    "        self.l =int(input(\"Enter l =\"))\n",
    "        self.b =int(input(\"Enter b =\"))\n",
    "        self.h =int(input(\"Enter h =\"))\n",
    "class Volume(Cal):\n",
    "    def volume(self):\n",
    "        v = self.l*self.b*self.h\n",
    "        print(v)\n",
    "#obj =Cal()\n",
    "obj1 =Volume()\n",
    "obj1.volume()"
   ]
  },
  {
   "cell_type": "code",
   "execution_count": 9,
   "metadata": {},
   "outputs": [
    {
     "name": "stdout",
     "output_type": "stream",
     "text": [
      "Enter h =3\n",
      "Enter l =44\n",
      "Enter b =3\n",
      "396\n",
      "Enter l =3\n",
      "Enter b =3\n",
      "9\n"
     ]
    }
   ],
   "source": [
    "class Cal:\n",
    "    def __init__(self):\n",
    "        self.l =int(input(\"Enter l =\"))\n",
    "        self.b =int(input(\"Enter b =\"))\n",
    "    def area(self):\n",
    "        a =self.l*self.b\n",
    "        print(a)\n",
    "class Volume(Cal):\n",
    "    def __init__(self):\n",
    "        self.h =int(input(\"Enter h =\"))\n",
    "        Cal.__init__(self)\n",
    "    def volume(self):\n",
    "        v = self.l*self.b*self.h\n",
    "        print(v)\n",
    "#obj =Cal()\n",
    "obj1 =Volume()\n",
    "obj1.volume()\n",
    "obj2 =Cal()\n",
    "obj2.area()"
   ]
  },
  {
   "cell_type": "code",
   "execution_count": null,
   "metadata": {},
   "outputs": [],
   "source": [
    "class Cal:\n",
    "    def __init__(self):\n",
    "        self.name =input(\"Enter name =\")\n",
    "        self.post =input(\"Enter post =\")\n",
    "    def hr(self):\n",
    "        a =f\"hello {self.name} your post is {self.post}\"\n",
    "        return(a)\n",
    "class Volume(Cal):\n",
    "    def __init__(self):\n",
    "        self.salary =int(input(\"Enter salary =\"))\n",
    "        Cal.__init__(self)\n",
    "    def volume(self):\n",
    "        v = self.l*self.b*self.h\n",
    "        print(v)\n",
    "#obj =Cal()\n",
    "obj1 =Volume()\n",
    "obj1.volume()\n",
    "obj2 =Cal()\n",
    "obj2.area()"
   ]
  }
 ],
 "metadata": {
  "kernelspec": {
   "display_name": "Python 3",
   "language": "python",
   "name": "python3"
  }
 },
 "nbformat": 4,
 "nbformat_minor": 4
}
