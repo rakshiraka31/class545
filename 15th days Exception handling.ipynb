{
 "cells": [
  {
   "cell_type": "code",
   "execution_count": 1,
   "metadata": {},
   "outputs": [
    {
     "ename": "SyntaxError",
     "evalue": "invalid syntax (<ipython-input-1-5cc2c5c99741>, line 2)",
     "output_type": "error",
     "traceback": [
      "\u001b[1;36m  File \u001b[1;32m\"<ipython-input-1-5cc2c5c99741>\"\u001b[1;36m, line \u001b[1;32m2\u001b[0m\n\u001b[1;33m    An exception is an error that haoppens during execution of a program.\u001b[0m\n\u001b[1;37m       ^\u001b[0m\n\u001b[1;31mSyntaxError\u001b[0m\u001b[1;31m:\u001b[0m invalid syntax\n"
     ]
    }
   ],
   "source": [
    "#Exception handling \n",
    "An exception is an error that happens during execution of a program.\n",
    "when that error occurs.\n",
    "Python generate an exception \n",
    "\n",
    "2 block \n",
    "#try # except\n"
   ]
  },
  {
   "cell_type": "code",
   "execution_count": 4,
   "metadata": {},
   "outputs": [
    {
     "name": "stdout",
     "output_type": "stream",
     "text": [
      "Enter a=ten\n",
      "Enter int data\n"
     ]
    }
   ],
   "source": [
    "try:\n",
    "    a =int(input(\"Enter a=\"))\n",
    "except:\n",
    "    print(\"Enter int data\")"
   ]
  },
  {
   "cell_type": "code",
   "execution_count": 6,
   "metadata": {},
   "outputs": [
    {
     "name": "stdout",
     "output_type": "stream",
     "text": [
      "Enter a=20\n",
      "Enter b =dd\n",
      "a and b should be integer value\n"
     ]
    }
   ],
   "source": [
    "try:\n",
    "    a =int(input(\"Enter a=\"))\n",
    "    b =int(input(\"Enter b =\"))\n",
    "    c =a/b\n",
    "    print(c)                 #nothing added in between the Try and Except\n",
    "except ValueError:\n",
    "    print(\"a and b should be integer value\")\n",
    "except ZeroDivisionError:\n",
    "    print(\"b should not be zero\")"
   ]
  },
  {
   "cell_type": "code",
   "execution_count": null,
   "metadata": {},
   "outputs": [],
   "source": [
    "#valueError  Zero Division error\n",
    "a =int(input(\"Enter a=\"))\n",
    "b =int(input(\"Enter b =\"))\n",
    "c =a/b"
   ]
  },
  {
   "cell_type": "code",
   "execution_count": 7,
   "metadata": {},
   "outputs": [
    {
     "name": "stdout",
     "output_type": "stream",
     "text": [
      "Enter a=dd\n",
      "Enter int data\n",
      "Enter a=10\n"
     ]
    }
   ],
   "source": [
    "def cal():\n",
    "    try:\n",
    "        a =int(input(\"Enter a=\"))\n",
    "    except:\n",
    "        print(\"Enter int data\")\n",
    "        cal()\n",
    "cal()"
   ]
  },
  {
   "cell_type": "code",
   "execution_count": 1,
   "metadata": {},
   "outputs": [
    {
     "name": "stdout",
     "output_type": "stream",
     "text": [
      "Enter a=10\n",
      "Enter b =ff\n",
      "a and b should be integer value\n",
      "Enter a=10\n",
      "Enter b =40\n",
      "0.25\n"
     ]
    }
   ],
   "source": [
    "def div():\n",
    "    try:\n",
    "        a =int(input(\"Enter a=\"))\n",
    "        b =int(input(\"Enter b =\"))\n",
    "        c =a/b\n",
    "        print(c)                 #nothing added in between the Try and Except\n",
    "    except ValueError:\n",
    "        print(\"a and b should be integer value\")\n",
    "        div()\n",
    "    except ZeroDivisionError:\n",
    "        print(\"b should not be zero\")\n",
    "        div()\n",
    "div()"
   ]
  },
  {
   "cell_type": "code",
   "execution_count": 4,
   "metadata": {},
   "outputs": [
    {
     "name": "stdout",
     "output_type": "stream",
     "text": [
      "Enter a=1\n",
      "Enter b =dd\n",
      "a and b should be integer value\n"
     ]
    }
   ],
   "source": [
    "try:\n",
    "    a =int(input(\"Enter a=\"))\n",
    "    b =int(input(\"Enter b =\"))\n",
    "    c =a/b\n",
    "    print(c)\n",
    "except (ValueError,ZeroDivisionError):    #TypeError\n",
    "    print(\"a and b should be integer value\")\n"
   ]
  },
  {
   "cell_type": "code",
   "execution_count": 7,
   "metadata": {},
   "outputs": [
    {
     "name": "stdout",
     "output_type": "stream",
     "text": [
      "Enter a=20\n",
      "Enter b =10\n",
      "This is Else block\n",
      "2.0\n"
     ]
    }
   ],
   "source": [
    "try:\n",
    "    a =int(input(\"Enter a=\"))\n",
    "    b =int(input(\"Enter b =\"))\n",
    "    c =a/b\n",
    "    \n",
    "except (ValueError,ZeroDivisionError):    #TypeError\n",
    "    print(\"a and b should be integer value\")\n",
    "else:\n",
    "    print(\"This is Else block\")\n",
    "    print(c)"
   ]
  },
  {
   "cell_type": "code",
   "execution_count": 3,
   "metadata": {},
   "outputs": [
    {
     "name": "stdout",
     "output_type": "stream",
     "text": [
      "Enter the name:raka\n",
      "Enter age :21\n",
      "Hello my name is raka.I am 21\n"
     ]
    }
   ],
   "source": [
    "try:\n",
    "    name =input(\"Enter the name:\")\n",
    "    age =int(input(\"Enter age :\"))\n",
    "    a =f\"Hello my name is {name}.I am {age}\"\n",
    "except:\n",
    "    print(\"The age should be integer\")\n",
    "else:\n",
    "    print(a)"
   ]
  },
  {
   "cell_type": "code",
   "execution_count": 4,
   "metadata": {},
   "outputs": [
    {
     "name": "stdout",
     "output_type": "stream",
     "text": [
      "Enter the name:rakshi\n",
      "Enter age :44\n",
      "Hello my name is rakshi.I am 44\n",
      "This is finally block\n"
     ]
    }
   ],
   "source": [
    "try:\n",
    "    name =input(\"Enter the name:\")\n",
    "    age =int(input(\"Enter age :\"))\n",
    "    a =f\"Hello my name is {name}.I am {age}\"\n",
    "except:\n",
    "    print(\"The age should be integer\")\n",
    "else:\n",
    "    print(a)\n",
    "finally:\n",
    "    print(\"This is finally block\")"
   ]
  },
  {
   "cell_type": "code",
   "execution_count": 5,
   "metadata": {},
   "outputs": [],
   "source": [
    "#WAP to count the execution of finally block."
   ]
  },
  {
   "cell_type": "code",
   "execution_count": 6,
   "metadata": {},
   "outputs": [
    {
     "name": "stdout",
     "output_type": "stream",
     "text": [
      "Enter a=dddd\n",
      "The valude of b can't be zero\n"
     ]
    }
   ],
   "source": [
    "try:\n",
    "    a =int(input(\"Enter a=\"))\n",
    "    \n",
    "    b =int(input(\"Enter b =\"))\n",
    "    if b==0:\n",
    "        raise ValueError\n",
    "    else:\n",
    "        c =a/b\n",
    "        print(c)\n",
    "\n",
    "except ValueError:\n",
    "    print(\"The valude of b can't be zero\")"
   ]
  },
  {
   "cell_type": "code",
   "execution_count": 9,
   "metadata": {},
   "outputs": [
    {
     "name": "stdout",
     "output_type": "stream",
     "text": [
      "Enter a=dd\n",
      "The value of a and b can't be string\n"
     ]
    }
   ],
   "source": [
    "try:\n",
    "    a =int(input(\"Enter a=\"))\n",
    "    b =int(input(\"Enter b =\"))\n",
    "    if a==str():\n",
    "    elif b==0:\n",
    "        raise ZeroDivisionError\n",
    "    else:\n",
    "        c =a/b\n",
    "        print(c)\n",
    "    \n",
    "except ZeroDivisionError:\n",
    "    print(\"The valude of b can't be zero\")\n",
    "except ValueError:\n",
    "    print(\"The value of a and b can't be string\")"
   ]
  },
  {
   "cell_type": "code",
   "execution_count": 10,
   "metadata": {},
   "outputs": [
    {
     "name": "stdout",
     "output_type": "stream",
     "text": [
      "Enter a=20\n",
      "Enter b =0\n",
      "The valude of b can't be zero\n"
     ]
    }
   ],
   "source": [
    "try:\n",
    "    a =int(input(\"Enter a=\"))\n",
    "    b =int(input(\"Enter b =\"))\n",
    "    if b==0:\n",
    "        raise ZeroDivisionError\n",
    "    else:\n",
    "        c =a/b\n",
    "        print(c)\n",
    "    \n",
    "except ZeroDivisionError:\n",
    "    print(\"The valude of b can't be zero\")\n",
    "except ValueError:\n",
    "    print(\"The value of a and b can't be string\")"
   ]
  },
  {
   "cell_type": "code",
   "execution_count": 11,
   "metadata": {},
   "outputs": [
    {
     "name": "stdout",
     "output_type": "stream",
     "text": [
      "Enter a=20\n",
      "Enter b =2\n",
      "10.0\n"
     ]
    }
   ],
   "source": [
    "try:\n",
    "    a =int(input(\"Enter a=\"))\n",
    "    b =int(input(\"Enter b =\"))\n",
    "    if b==0:\n",
    "        raise ZeroDivisionError\n",
    "    else:\n",
    "        c =a/b\n",
    "        print(c)\n",
    "    \n",
    "except ZeroDivisionError:\n",
    "    print(\"The valude of b can't be zero\")\n",
    "except ValueError:\n",
    "    print(\"The value of a and b can't be string\")"
   ]
  },
  {
   "cell_type": "code",
   "execution_count": 13,
   "metadata": {},
   "outputs": [],
   "source": [
    "# #Assert statement \n",
    "# python provvide the assert statement to check if a given logical expression is true \n",
    "# and raises the AssertionError when it is false"
   ]
  },
  {
   "cell_type": "code",
   "execution_count": null,
   "metadata": {},
   "outputs": [],
   "source": [
    "try:\n",
    "    num =int(input(\"Enter a number :\"))\n",
    "    assert(num >=0)\n",
    "    print(num)\n",
    "except AssertionError:\n",
    "    print(\"Error\")"
   ]
  },
  {
   "cell_type": "code",
   "execution_count": 2,
   "metadata": {},
   "outputs": [
    {
     "name": "stdout",
     "output_type": "stream",
     "text": [
      "Enter a number :ram\n",
      "Error\n"
     ]
    }
   ],
   "source": [
    "try:\n",
    "    num =input(\"Enter a number :\")\n",
    "    assert(num[0].isupper())\n",
    "    print(num)\n",
    "except AssertionError:\n",
    "    print(\"Error\")"
   ]
  },
  {
   "cell_type": "code",
   "execution_count": null,
   "metadata": {},
   "outputs": [],
   "source": [
    "try:\n",
    "    num =int(input(\"Enter a number :\"))\n",
    "    assert(num >=0)\n",
    "    print(num)\n",
    "except AssertionError:\n",
    "    print(\"Error\")"
   ]
  },
  {
   "cell_type": "code",
   "execution_count": 1,
   "metadata": {},
   "outputs": [
    {
     "name": "stdout",
     "output_type": "stream",
     "text": [
      "Enter a number :33\n",
      "33\n"
     ]
    }
   ],
   "source": [
    "try:\n",
    "    num =int(input(\"Enter a number :\"))\n",
    "    assert(num >=0)\n",
    "    print(num)\n",
    "except AssertionError:\n",
    "    print(\"Error\")"
   ]
  },
  {
   "cell_type": "code",
   "execution_count": 2,
   "metadata": {},
   "outputs": [
    {
     "name": "stdout",
     "output_type": "stream",
     "text": [
      "Enter name =ram\n"
     ]
    }
   ],
   "source": [
    "name = input(\"Enter name =\")\n",
    "a =[0,1,2,3,4,5,6,7,8,9]\n",
    "for i in name:\n",
    "    for j in a:\n",
    "        if str(j)==i:\n",
    "            print(\"yes\")"
   ]
  },
  {
   "cell_type": "code",
   "execution_count": 1,
   "metadata": {},
   "outputs": [
    {
     "name": "stdout",
     "output_type": "stream",
     "text": [
      "Enter a=hello\n",
      "Enter int data\n",
      "Enter a=66\n"
     ]
    }
   ],
   "source": [
    "def cal():\n",
    "    try:\n",
    "        a =int(input(\"Enter a=\"))\n",
    "    except:\n",
    "        print(\"Enter int data\")\n",
    "        cal()\n",
    "cal()"
   ]
  },
  {
   "cell_type": "code",
   "execution_count": 3,
   "metadata": {},
   "outputs": [
    {
     "name": "stdout",
     "output_type": "stream",
     "text": [
      "Enter a=44\n",
      "Enter b =0\n",
      "The valude of b can't be zero\n"
     ]
    }
   ],
   "source": [
    "try:\n",
    "    a =int(input(\"Enter a=\"))\n",
    "    \n",
    "    b =int(input(\"Enter b =\"))\n",
    "    if b==0:\n",
    "        raise ValueError\n",
    "    else:\n",
    "        c =a/b\n",
    "        print(c)\n",
    "\n",
    "except ValueError:\n",
    "    print(\"The valude of b can't be zero\")"
   ]
  },
  {
   "cell_type": "code",
   "execution_count": 4,
   "metadata": {},
   "outputs": [
    {
     "ename": "IndentationError",
     "evalue": "expected an indented block (<ipython-input-4-15d2ebde8fc6>, line 5)",
     "output_type": "error",
     "traceback": [
      "\u001b[1;36m  File \u001b[1;32m\"<ipython-input-4-15d2ebde8fc6>\"\u001b[1;36m, line \u001b[1;32m5\u001b[0m\n\u001b[1;33m    elif b==0:\u001b[0m\n\u001b[1;37m    ^\u001b[0m\n\u001b[1;31mIndentationError\u001b[0m\u001b[1;31m:\u001b[0m expected an indented block\n"
     ]
    }
   ],
   "source": [
    "try:\n",
    "    a =int(input(\"Enter a=\"))\n",
    "    b =int(input(\"Enter b =\"))\n",
    "    if a==str():\n",
    "    elif b==0:\n",
    "        raise ZeroDivisionError\n",
    "    else:\n",
    "        c =a/b\n",
    "        print(c)\n",
    "    \n",
    "except ZeroDivisionError:\n",
    "    print(\"The valude of b can't be zero\")\n",
    "except ValueError:\n",
    "    print(\"The value of a and b can't be string\")"
   ]
  },
  {
   "cell_type": "code",
   "execution_count": null,
   "metadata": {},
   "outputs": [],
   "source": [
    "\n"
   ]
  }
 ],
 "metadata": {
  "kernelspec": {
   "display_name": "Python 3",
   "language": "python",
   "name": "python3"
  },
  "language_info": {
   "codemirror_mode": {
    "name": "ipython",
    "version": 3
   },
   "file_extension": ".py",
   "mimetype": "text/x-python",
   "name": "python",
   "nbconvert_exporter": "python",
   "pygments_lexer": "ipython3",
   "version": "3.8.5"
  }
 },
 "nbformat": 4,
 "nbformat_minor": 4
}
