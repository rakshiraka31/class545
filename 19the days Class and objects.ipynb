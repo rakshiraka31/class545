{
 "cells": [
  {
   "cell_type": "code",
   "execution_count": 1,
   "metadata": {},
   "outputs": [],
   "source": [
    "# # inheritance\n",
    "# # polymorphism\n",
    "# class \n",
    "# classs is a blueprint foe the object.\n",
    "# class Python\n",
    "\n",
    "# object :\n",
    "#     an object is an instantiation of a class when class is defined\n",
    "\n",
    "# Methods:\n",
    "#     Methods are functions defined inside the body of a class . \n",
    "#     They are used "
   ]
  },
  {
   "cell_type": "code",
   "execution_count": 2,
   "metadata": {},
   "outputs": [],
   "source": [
    "# class <class_name>:\n",
    "#     <methods1>\n",
    "#     <methods2>\n",
    "    \n",
    "# obj = <class_name>()\n"
   ]
  },
  {
   "cell_type": "code",
   "execution_count": 4,
   "metadata": {},
   "outputs": [
    {
     "name": "stdout",
     "output_type": "stream",
     "text": [
      "hello World\n"
     ]
    }
   ],
   "source": [
    "class Hello:\n",
    "    print(\"hello World\")\n",
    "obj = Hello()"
   ]
  },
  {
   "cell_type": "code",
   "execution_count": 3,
   "metadata": {},
   "outputs": [
    {
     "name": "stdout",
     "output_type": "stream",
     "text": [
      "Hello world\n"
     ]
    }
   ],
   "source": [
    "class Hello:\n",
    "    def hello(self):   #self is use as paramater and initialize  , use any paramater as self(a, 3,raua ,hello)\n",
    "        print(\"Hello world\")\n",
    "obj =Hello()\n",
    "obj.hello()"
   ]
  },
  {
   "cell_type": "code",
   "execution_count": 4,
   "metadata": {},
   "outputs": [
    {
     "name": "stdout",
     "output_type": "stream",
     "text": [
      "Hello world\n",
      "hello sir\n"
     ]
    }
   ],
   "source": [
    "class Hello:\n",
    "    def hello(self):   \n",
    "        print(\"Hello world\")\n",
    "    def python(a):\n",
    "        print(\"hello sir\")\n",
    "        \n",
    "obj =Hello()\n",
    "obj.hello()\n",
    "obj.python()"
   ]
  },
  {
   "cell_type": "code",
   "execution_count": 5,
   "metadata": {},
   "outputs": [
    {
     "name": "stdout",
     "output_type": "stream",
     "text": [
      "Enter l =3\n",
      "Enter b =5\n",
      "Enter h =6\n",
      "90\n",
      "Enter l =3\n",
      "Enter b =6\n",
      "18\n"
     ]
    }
   ],
   "source": [
    "class cal():\n",
    "    def volume(self):\n",
    "        l =int(input(\"Enter l =\"))\n",
    "        b = int(input(\"Enter b =\"))\n",
    "        h = int(input(\"Enter h =\"))\n",
    "        v=l*b*h\n",
    "        print(v)\n",
    "    def area(self):\n",
    "        l =int(input(\"Enter l =\"))\n",
    "        b = int(input(\"Enter b =\"))\n",
    "        a =l*b\n",
    "        print(a)\n",
    "obj =cal()\n",
    "obj.volume()\n",
    "obj.area()"
   ]
  },
  {
   "cell_type": "code",
   "execution_count": 6,
   "metadata": {},
   "outputs": [
    {
     "name": "stdout",
     "output_type": "stream",
     "text": [
      "Enter l =22\n",
      "Enter b =3\n",
      "Enter h =22\n",
      "1452\n",
      "66\n"
     ]
    }
   ],
   "source": [
    "class cal():\n",
    "    def volume(self,l,b,h):\n",
    "       \n",
    "        v=l*b*h\n",
    "        print(v)\n",
    "    def area(self,l,b):\n",
    "        a =l*b\n",
    "        print(a)\n",
    "l =int(input(\"Enter l =\"))\n",
    "b = int(input(\"Enter b =\"))\n",
    "h = int(input(\"Enter h =\"))\n",
    "obj =cal()\n",
    "obj.volume(l,b,h)\n",
    "obj.area(l,b)"
   ]
  },
  {
   "cell_type": "code",
   "execution_count": 7,
   "metadata": {},
   "outputs": [
    {
     "name": "stdout",
     "output_type": "stream",
     "text": [
      "Enter l =20\n",
      "Enter b =10\n",
      "Enter h =30\n",
      "6000\n",
      "200\n"
     ]
    }
   ],
   "source": [
    "#Return type\n",
    "class cal():\n",
    "    def volume(self,l,b,h):\n",
    "       \n",
    "        v=l*b*h\n",
    "        return v\n",
    "    def area(self,l,b):\n",
    "        a =l*b\n",
    "        return a\n",
    "l =int(input(\"Enter l =\"))\n",
    "b = int(input(\"Enter b =\"))\n",
    "h = int(input(\"Enter h =\"))\n",
    "obj =cal()\n",
    "print(obj.volume(l,b,h))\n",
    "print(obj.area(l,b))"
   ]
  },
  {
   "cell_type": "code",
   "execution_count": 8,
   "metadata": {},
   "outputs": [
    {
     "name": "stdout",
     "output_type": "stream",
     "text": [
      "Enter l =20\n",
      "Enter b =30\n",
      "Enter h =21\n",
      "12600\n",
      "600\n"
     ]
    }
   ],
   "source": [
    "#Return type\n",
    "class cal():\n",
    "    def __init__(self,l,b,h):\n",
    "        self.l =l\n",
    "        self.b = b\n",
    "        self.h =h\n",
    "    def volume(self):\n",
    "       \n",
    "        v=self.l*self.b*self.h\n",
    "        return v\n",
    "    def area(self):\n",
    "        a =self.l*self.b\n",
    "        return a\n",
    "l =int(input(\"Enter l =\"))\n",
    "b = int(input(\"Enter b =\"))\n",
    "h = int(input(\"Enter h =\"))\n",
    "obj =cal(l,b,h)\n",
    "print(obj.volume())\n",
    "print(obj.area())"
   ]
  },
  {
   "cell_type": "code",
   "execution_count": 10,
   "metadata": {},
   "outputs": [
    {
     "name": "stdout",
     "output_type": "stream",
     "text": [
      "Enter l =2\n",
      "Enter b =4\n",
      "Enter h =5\n",
      "40\n",
      "8\n"
     ]
    }
   ],
   "source": [
    "class volume:\n",
    "    def __init__(self,l,b,h):\n",
    "        self.l =l\n",
    "        self.b = b\n",
    "        self.h =h\n",
    "    def volume(self):\n",
    "        v=self.l*self.b*self.h\n",
    "        return v\n",
    "class area:\n",
    "    def __init__(self,l,b):\n",
    "        self.l =l\n",
    "        self.b = b\n",
    "    def area(self):\n",
    "        a =self.l*self.b\n",
    "        return a\n",
    "l =int(input(\"Enter l =\"))\n",
    "b = int(input(\"Enter b =\"))\n",
    "h = int(input(\"Enter h =\"))\n",
    "obj1 =volume(l,b,h)\n",
    "obj2 =area(l,b)\n",
    "print(obj1.volume())\n",
    "print(obj2.area())"
   ]
  },
  {
   "cell_type": "code",
   "execution_count": 2,
   "metadata": {},
   "outputs": [
    {
     "name": "stdout",
     "output_type": "stream",
     "text": [
      "Enter l =20\n",
      "Enter b =10\n",
      "Enter h =30\n",
      "6000\n",
      "200\n"
     ]
    }
   ],
   "source": [
    "#Return type\n",
    "class cal():\n",
    "    def __init__(self,l,b,h):\n",
    "        self.l =l\n",
    "        self.b = b\n",
    "        self.h =h\n",
    "    def volume(Arey):   #not change in changing self as Arey\n",
    "       \n",
    "        v=Arey.l*Arey.b*Arey.h\n",
    "        return v\n",
    "    def area(self):\n",
    "        a =self.l*self.b\n",
    "        return a\n",
    "l =int(input(\"Enter l =\"))\n",
    "b = int(input(\"Enter b =\"))\n",
    "h = int(input(\"Enter h =\"))\n",
    "obj =cal(l,b,h)\n",
    "print(obj.volume())\n",
    "print(obj.area())"
   ]
  },
  {
   "cell_type": "code",
   "execution_count": 1,
   "metadata": {},
   "outputs": [
    {
     "name": "stdout",
     "output_type": "stream",
     "text": [
      "Enter l =20\n",
      "Enter b =30\n",
      "Enter h =10\n",
      "6000\n",
      "600\n"
     ]
    }
   ],
   "source": [
    "class cal():\n",
    "    def __init__(self,l,b):\n",
    "        self.l =l\n",
    "        self.b = b\n",
    "       \n",
    "    def volume(Arey,h):   #h, make as single which only used in volume\n",
    "       \n",
    "        v=Arey.l*Arey.b*h\n",
    "        return v\n",
    "    def area(self):\n",
    "        a =self.l*self.b\n",
    "        return a\n",
    "l =int(input(\"Enter l =\"))\n",
    "b = int(input(\"Enter b =\"))\n",
    "h = int(input(\"Enter h =\"))\n",
    "obj =cal(l,b)\n",
    "print(obj.volume(h))\n",
    "print(obj.area())"
   ]
  },
  {
   "cell_type": "code",
   "execution_count": 3,
   "metadata": {},
   "outputs": [
    {
     "name": "stdout",
     "output_type": "stream",
     "text": [
      "Enter l =22\n",
      "Enter b =33\n",
      "Enter h =11\n",
      "7986\n",
      "726\n",
      "22\n",
      "33\n"
     ]
    }
   ],
   "source": [
    "class cal():\n",
    "    def __init__(self,l,b):\n",
    "        self.l =l\n",
    "        self.b = b\n",
    "       \n",
    "    def volume(Arey,h):   #h, make as single which only used in volume\n",
    "       \n",
    "        v=Arey.l*Arey.b*h\n",
    "        return v\n",
    "    def area(self):\n",
    "        a =self.l*self.b\n",
    "        return a\n",
    "l =int(input(\"Enter l =\"))\n",
    "b = int(input(\"Enter b =\"))\n",
    "h = int(input(\"Enter h =\"))\n",
    "obj =cal(l,b)\n",
    "print(obj.volume(h))\n",
    "print(obj.area())\n",
    "print(obj.l)\n",
    "print(obj.b)"
   ]
  },
  {
   "cell_type": "code",
   "execution_count": 10,
   "metadata": {},
   "outputs": [
    {
     "ename": "TypeError",
     "evalue": "__str__ returned non-string (type int)",
     "output_type": "error",
     "traceback": [
      "\u001b[1;31m---------------------------------------------------------------------------\u001b[0m",
      "\u001b[1;31mTypeError\u001b[0m                                 Traceback (most recent call last)",
      "\u001b[1;32m<ipython-input-10-e787c9d35982>\u001b[0m in \u001b[0;36m<module>\u001b[1;34m\u001b[0m\n\u001b[0;32m      9\u001b[0m         \u001b[1;32mreturn\u001b[0m \u001b[0mself\u001b[0m\u001b[1;33m.\u001b[0m\u001b[0mage\u001b[0m\u001b[1;33m\u001b[0m\u001b[1;33m\u001b[0m\u001b[0m\n\u001b[0;32m     10\u001b[0m \u001b[0mobj\u001b[0m \u001b[1;33m=\u001b[0m\u001b[0minfo\u001b[0m\u001b[1;33m(\u001b[0m\u001b[1;34m\"Ram\"\u001b[0m\u001b[1;33m,\u001b[0m\u001b[1;36m25\u001b[0m\u001b[1;33m,\u001b[0m \u001b[1;34m\"kathmandu\"\u001b[0m\u001b[1;33m)\u001b[0m\u001b[1;33m\u001b[0m\u001b[1;33m\u001b[0m\u001b[0m\n\u001b[1;32m---> 11\u001b[1;33m \u001b[0mprint\u001b[0m\u001b[1;33m(\u001b[0m\u001b[0mobj\u001b[0m\u001b[1;33m)\u001b[0m\u001b[1;33m\u001b[0m\u001b[1;33m\u001b[0m\u001b[0m\n\u001b[0m\u001b[0;32m     12\u001b[0m \u001b[0mprint\u001b[0m\u001b[1;33m(\u001b[0m\u001b[0mstr\u001b[0m\u001b[1;33m(\u001b[0m\u001b[0mobj\u001b[0m\u001b[1;33m)\u001b[0m\u001b[1;33m+\u001b[0m\u001b[0mstr\u001b[0m\u001b[1;33m(\u001b[0m\u001b[0mobj\u001b[0m\u001b[1;33m)\u001b[0m\u001b[1;33m)\u001b[0m\u001b[1;33m\u001b[0m\u001b[1;33m\u001b[0m\u001b[0m\n\u001b[0;32m     13\u001b[0m \u001b[0mprint\u001b[0m\u001b[1;33m(\u001b[0m\u001b[0mobj\u001b[0m\u001b[1;33m.\u001b[0m\u001b[0m__str__\u001b[0m\u001b[1;33m(\u001b[0m\u001b[1;33m)\u001b[0m\u001b[1;33m)\u001b[0m\u001b[1;33m\u001b[0m\u001b[1;33m\u001b[0m\u001b[0m\n",
      "\u001b[1;31mTypeError\u001b[0m: __str__ returned non-string (type int)"
     ]
    }
   ],
   "source": [
    "class info:\n",
    "    def __init__(self,name,age,add):\n",
    "        self.name =name\n",
    "        self.age =age\n",
    "        self.add =add\n",
    "    def __str__(self):\n",
    "        return self.name\n",
    "    def __str__(self):\n",
    "        return self.age\n",
    "obj =info(\"Ram\",25, \"kathmandu\")\n",
    "print(obj)\n",
    "print(str(obj)+str(obj))\n",
    "print(obj.__str__())\n",
    "print(str(obj))"
   ]
  },
  {
   "cell_type": "code",
   "execution_count": 15,
   "metadata": {},
   "outputs": [
    {
     "name": "stdout",
     "output_type": "stream",
     "text": [
      "Ram,kathmandu\n",
      "Ram,kathmanduRam,kathmandu\n",
      "Ram,kathmandu\n",
      "Ram,kathmandu\n"
     ]
    }
   ],
   "source": [
    "class info:\n",
    "    def __init__(self,name,age,add):\n",
    "        self.name =name\n",
    "        self.age =age\n",
    "        self.add =add\n",
    "    def __str__(self):\n",
    "        return f\"{self.name},{self.add}\"\n",
    "    \n",
    "obj =info(\"Ram\",25, \"kathmandu\")\n",
    "print(obj)\n",
    "print(str(obj)+str(obj))\n",
    "print(obj.__str__())\n",
    "print(str(obj))"
   ]
  },
  {
   "cell_type": "code",
   "execution_count": 12,
   "metadata": {},
   "outputs": [
    {
     "name": "stdout",
     "output_type": "stream",
     "text": [
      "['Ram', 25, 'kathmandu']\n"
     ]
    }
   ],
   "source": [
    "class info:\n",
    "    def __init__(self,name,age,add):\n",
    "        self.name =name\n",
    "        self.age =age\n",
    "        self.add =add\n",
    "    def __repr__(self):\n",
    "        return [self.name,self.age,self.add]\n",
    "obj =info(\"Ram\",25, \"kathmandu\")\n",
    "print(obj.__repr__())"
   ]
  },
  {
   "cell_type": "code",
   "execution_count": 14,
   "metadata": {},
   "outputs": [
    {
     "name": "stdout",
     "output_type": "stream",
     "text": [
      "['Ram', 25, 'kathmandu']\n",
      "Ram\n"
     ]
    }
   ],
   "source": [
    "class info:\n",
    "    def __init__(self,name,age,add):\n",
    "        self.name =name\n",
    "        self.age =age\n",
    "        self.add =add\n",
    "    def __repr__(self):\n",
    "        return [self.name,self.age,self.add]\n",
    "    def __str__(self):\n",
    "        return self.name\n",
    "obj =info(\"Ram\",25, \"kathmandu\")\n",
    "print(obj.__repr__())\n",
    "print(obj)"
   ]
  },
  {
   "cell_type": "code",
   "execution_count": null,
   "metadata": {},
   "outputs": [],
   "source": []
  }
 ],
 "metadata": {
  "kernelspec": {
   "display_name": "Python 3",
   "language": "python",
   "name": "python3"
  },
  "language_info": {
   "codemirror_mode": {
    "name": "ipython",
    "version": 3
   },
   "file_extension": ".py",
   "mimetype": "text/x-python",
   "name": "python",
   "nbconvert_exporter": "python",
   "pygments_lexer": "ipython3",
   "version": "3.8.5"
  }
 },
 "nbformat": 4,
 "nbformat_minor": 4
}
