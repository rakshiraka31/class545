{
 "cells": [
  {
   "cell_type": "code",
   "execution_count": 1,
   "metadata": {},
   "outputs": [
    {
     "name": "stdout",
     "output_type": "stream",
     "text": [
      "Enter l=10\n",
      "Enter b=20\n",
      "The value of a = 200\n"
     ]
    }
   ],
   "source": [
    "def area():\n",
    "  l =int(input(\"Enter l=\"))  #local variable\n",
    "  b =int(input(\"Enter b=\"))  #localm variable\n",
    "  a =l*b\n",
    "  print(\"The value of a =\",a)\n",
    "area()\n"
   ]
  },
  {
   "cell_type": "code",
   "execution_count": 2,
   "metadata": {},
   "outputs": [
    {
     "name": "stdout",
     "output_type": "stream",
     "text": [
      "Enter l=19\n",
      "Enter b=20\n",
      "The value of a = 380\n"
     ]
    }
   ],
   "source": [
    "# function with argument and no return type\n",
    "def area(l,b):\n",
    "  a =l*b\n",
    "  print(\"The value of a =\",a)\n",
    "l =int(input(\"Enter l=\"))  \n",
    "b =int(input(\"Enter b=\")) \n",
    "area(l,b)\n"
   ]
  },
  {
   "cell_type": "code",
   "execution_count": 5,
   "metadata": {},
   "outputs": [
    {
     "name": "stdout",
     "output_type": "stream",
     "text": [
      "hello wprld\n"
     ]
    }
   ],
   "source": [
    "def hello():\n",
    "    print(\"hello wprld\")\n",
    "hello()\n"
   ]
  },
  {
   "cell_type": "code",
   "execution_count": 6,
   "metadata": {},
   "outputs": [
    {
     "name": "stdout",
     "output_type": "stream",
     "text": [
      "Enter l=20\n",
      "Enter b=10\n",
      "The area is = 200\n"
     ]
    }
   ],
   "source": [
    "# function with no argument and return type\n",
    "def area():\n",
    "    l =int(input(\"Enter l=\"))  #local variable\n",
    "    b =int(input(\"Enter b=\"))  #localm variable\n",
    "    a =l*b\n",
    "    return a\n",
    "  \n",
    "ar =area()\n",
    "print(\"The area is =\",ar)"
   ]
  },
  {
   "cell_type": "code",
   "execution_count": 9,
   "metadata": {},
   "outputs": [
    {
     "name": "stdout",
     "output_type": "stream",
     "text": [
      "Enter l=11\n",
      "Enter b=12\n",
      "Enter h =13\n",
      "The area is = 132\n",
      "the volume = 1716\n"
     ]
    }
   ],
   "source": [
    "#function with argument and return tyoe\n",
    "def area(l,b):\n",
    " \n",
    "    a =l*b\n",
    "    return a\n",
    "def volume(l,b,h):\n",
    "    v =area(l,b)*h\n",
    "    return v\n",
    "l =int(input(\"Enter l=\"))  #local variable\n",
    "b =int(input(\"Enter b=\"))  #localm variable \n",
    "h =int(input(\"Enter h =\"))\n",
    "ar =area(l,b)\n",
    "vo =volume(l,b,h)\n",
    "print(\"The area is =\",ar)\n",
    "\n",
    "v = ar*h\n",
    "print(\"the volume =\",v)"
   ]
  },
  {
   "cell_type": "code",
   "execution_count": null,
   "metadata": {},
   "outputs": [],
   "source": []
  },
  {
   "cell_type": "code",
   "execution_count": null,
   "metadata": {},
   "outputs": [
    {
     "name": "stdout",
     "output_type": "stream",
     "text": [
      "Hello World\n"
     ]
    }
   ],
   "source": [
    "#recursive function   {call itself in it }\n",
    "def hello():\n",
    "    print(\"Hello World\")\n",
    "    x = input(\"Enter y for hello world = \")\n",
    "    if x =='y':\n",
    "        hello()\n",
    "hello()"
   ]
  },
  {
   "cell_type": "code",
   "execution_count": null,
   "metadata": {},
   "outputs": [],
   "source": [
    "if <condition>:\n",
    "    <operations>\n",
    "elif <condition>:\n",
    "    <operation>\n",
    "else:\n",
    "    <operations>"
   ]
  },
  {
   "cell_type": "code",
   "execution_count": 2,
   "metadata": {},
   "outputs": [
    {
     "name": "stdout",
     "output_type": "stream",
     "text": [
      "The value of r20\n",
      "The area is 1256.6370614359173\n"
     ]
    }
   ],
   "source": [
    "#mathematical functions\n",
    "import math as m\n",
    "r =int(input(\"The value of r\"))\n",
    "a = m.pi*(m.pow(r,2))\n",
    "print(\"The area is\",a)"
   ]
  },
  {
   "cell_type": "code",
   "execution_count": 5,
   "metadata": {},
   "outputs": [
    {
     "data": {
      "text/plain": [
       "1.0"
      ]
     },
     "execution_count": 5,
     "metadata": {},
     "output_type": "execute_result"
    }
   ],
   "source": [
    "import math  as m \n",
    "a = m.pi/2\n",
    "m.sin(a)"
   ]
  },
  {
   "cell_type": "code",
   "execution_count": 6,
   "metadata": {},
   "outputs": [
    {
     "data": {
      "text/plain": [
       "25.0"
      ]
     },
     "execution_count": 6,
     "metadata": {},
     "output_type": "execute_result"
    }
   ],
   "source": [
    "import math  as m \n",
    "b =625\n",
    "m.pow(b,1/2)"
   ]
  },
  {
   "cell_type": "code",
   "execution_count": 2,
   "metadata": {},
   "outputs": [
    {
     "data": {
      "text/plain": [
       "5.0"
      ]
     },
     "execution_count": 2,
     "metadata": {},
     "output_type": "execute_result"
    }
   ],
   "source": [
    "\n",
    "b =625\n",
    "m.pow(b,1/4)"
   ]
  },
  {
   "cell_type": "code",
   "execution_count": null,
   "metadata": {},
   "outputs": [],
   "source": []
  }
 ],
 "metadata": {
  "kernelspec": {
   "display_name": "Python 3",
   "language": "python",
   "name": "python3"
  },
  "language_info": {
   "codemirror_mode": {
    "name": "ipython",
    "version": 3
   },
   "file_extension": ".py",
   "mimetype": "text/x-python",
   "name": "python",
   "nbconvert_exporter": "python",
   "pygments_lexer": "ipython3",
   "version": "3.8.5"
  }
 },
 "nbformat": 4,
 "nbformat_minor": 4
}
