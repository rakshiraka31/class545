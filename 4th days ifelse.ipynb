{
 "cells": [
  {
   "cell_type": "code",
   "execution_count": 1,
   "metadata": {},
   "outputs": [],
   "source": [
    "# if <condition>:\n",
    "#     <operations>\n",
    "# elif <condition>:\n",
    "#     <operation>\n",
    "# else:\n",
    "#     <operations>"
   ]
  },
  {
   "cell_type": "code",
   "execution_count": 3,
   "metadata": {},
   "outputs": [
    {
     "data": {
      "text/plain": [
       "True"
      ]
     },
     "execution_count": 3,
     "metadata": {},
     "output_type": "execute_result"
    }
   ],
   "source": [
    "a =10\n",
    "b =20\n",
    "c =2*a\n",
    "c ==b"
   ]
  },
  {
   "cell_type": "code",
   "execution_count": 4,
   "metadata": {},
   "outputs": [],
   "source": [
    "# ==  , < ,> ,<= ,>= ,!="
   ]
  },
  {
   "cell_type": "code",
   "execution_count": 5,
   "metadata": {},
   "outputs": [
    {
     "name": "stdout",
     "output_type": "stream",
     "text": [
      "b is greater\n"
     ]
    }
   ],
   "source": [
    "if a<b:\n",
    "    print(\"b is greater\")\n",
    "elif b<a:\n",
    "    print(\"b is greater\")\n",
    "else:\n",
    "    print(\"both are equal\")"
   ]
  },
  {
   "cell_type": "code",
   "execution_count": 6,
   "metadata": {},
   "outputs": [],
   "source": [
    "# and & , or |"
   ]
  },
  {
   "cell_type": "code",
   "execution_count": 7,
   "metadata": {},
   "outputs": [
    {
     "name": "stdout",
     "output_type": "stream",
     "text": [
      "Enter a =10\n",
      "Enter b =15\n",
      "Enter c =20\n",
      "c is greater\n"
     ]
    }
   ],
   "source": [
    "a =int(input(\"Enter a =\"))\n",
    "b =int(input(\"Enter b =\"))\n",
    "c =int(input(\"Enter c =\"))\n",
    "\n",
    "if a<b  and c<b:\n",
    "    print(\"b is greater\")\n",
    "elif b<a and c<a:\n",
    "    print(\"a is greater\")\n",
    "elif a<c and b<c:\n",
    "    print(\"c is greater\")\n",
    "else:\n",
    "    print(\"all are equal\")"
   ]
  },
  {
   "cell_type": "code",
   "execution_count": 8,
   "metadata": {},
   "outputs": [
    {
     "ename": "SyntaxError",
     "evalue": "invalid syntax (<ipython-input-8-83d4a8baa368>, line 1)",
     "output_type": "error",
     "traceback": [
      "\u001b[1;36m  File \u001b[1;32m\"<ipython-input-8-83d4a8baa368>\"\u001b[1;36m, line \u001b[1;32m1\u001b[0m\n\u001b[1;33m    a*b AND\u001b[0m\n\u001b[1;37m        ^\u001b[0m\n\u001b[1;31mSyntaxError\u001b[0m\u001b[1;31m:\u001b[0m invalid syntax\n"
     ]
    }
   ],
   "source": [
    "a*b AND\n",
    "a+b OR"
   ]
  },
  {
   "cell_type": "code",
   "execution_count": 1,
   "metadata": {},
   "outputs": [
    {
     "name": "stdout",
     "output_type": "stream",
     "text": [
      "Enter a =10\n",
      "Enter b=4\n",
      "Enter + - * //\n",
      "2.5\n"
     ]
    }
   ],
   "source": [
    "a =int(input(\"Enter a =\"))\n",
    "b =int(input(\"Enter b=\"))\n",
    "o =input(\"Enter + - * /\")\n",
    "if o =='+':\n",
    "    print(a+b)\n",
    "elif o == '-':\n",
    "    print(a-b)\n",
    "elif o =='*':\n",
    "    print(a*b)\n",
    "elif (o =='/') and (b!=0):\n",
    "    print(a/b)\n",
    "elif b ==0:\n",
    "    print(\"The value of b cannot be Zero\")\n",
    "else:\n",
    "    print(\"Invalid operator\")\n"
   ]
  },
  {
   "cell_type": "code",
   "execution_count": null,
   "metadata": {},
   "outputs": [],
   "source": [
    "if <condition>\n",
    "    if<condition>\n",
    "      <operation>\n",
    "    else:\n",
    "        <operation>"
   ]
  },
  {
   "cell_type": "code",
   "execution_count": 1,
   "metadata": {},
   "outputs": [
    {
     "name": "stdout",
     "output_type": "stream",
     "text": [
      "Enter a =12\n",
      "Enter b=24\n",
      "Enter + - * /+\n",
      "36\n"
     ]
    }
   ],
   "source": [
    "a = int(input(\"Enter a =\"))\n",
    "b =int(input(\"Enter b=\"))\n",
    "o =input(\"Enter + - * /\")\n",
    "if o =='+':\n",
    "    print(a+b)\n",
    "elif o == '-':\n",
    "    print(a-b)\n",
    "elif o =='*':\n",
    "    print(a*b)\n",
    "elif (o =='/'):\n",
    "    if b !=0:\n",
    "        print(a/b)\n",
    "    else:\n",
    "        print(\"The value of b cannot be Zero\")\n",
    "else:\n",
    "    print(\"Invalid operator\")\n"
   ]
  },
  {
   "cell_type": "code",
   "execution_count": 2,
   "metadata": {},
   "outputs": [
    {
     "ename": "SyntaxError",
     "evalue": "invalid syntax (<ipython-input-2-a2c610a53412>, line 12)",
     "output_type": "error",
     "traceback": [
      "\u001b[1;36m  File \u001b[1;32m\"<ipython-input-2-a2c610a53412>\"\u001b[1;36m, line \u001b[1;32m12\u001b[0m\n\u001b[1;33m    elif (o =='-'):\u001b[0m\n\u001b[1;37m    ^\u001b[0m\n\u001b[1;31mSyntaxError\u001b[0m\u001b[1;31m:\u001b[0m invalid syntax\n"
     ]
    }
   ],
   "source": [
    "#write a program for calculator using return type function\n",
    "a = int(input(\"Enter a =\"))\n",
    "b = int(input(\"Enter b=\"))\n",
    "o = input(\"Enter + - * /\") \n",
    "\n",
    "if (o =='+'): \n",
    "    c = a+b\n",
    "    return c\n",
    "c = add()\n",
    "print(\"addtion is =\",ad)\n",
    "\n",
    "elif (o =='-'):\n",
    "    d =a-b\n",
    "    return d\n",
    "su =sub()\n",
    "print(\"The subtraction is=\",su)\n",
    "\n",
    "elif o == '*':\n",
    "    e =a*b\n",
    "    return e\n",
    "su =mul()\n",
    "print(\"The multiplication is=\",su)\n",
    "elif (o =='/'):\n",
    "    f =a/b\n",
    "    return f\n",
    "di =div()\n",
    "print(\"The Division is=\",di)\n",
    "\n",
    "else:\n",
    "    print(\"Error code\")\n"
   ]
  },
  {
   "cell_type": "code",
   "execution_count": 3,
   "metadata": {},
   "outputs": [
    {
     "name": "stdout",
     "output_type": "stream",
     "text": [
      "Enter a =20\n",
      "Enter b=10\n",
      "Enter + - * /+\n",
      "30\n"
     ]
    }
   ],
   "source": [
    "#write a program for calculator using return type function\n",
    "def add(a,b):\n",
    "    return a+b\n",
    "def sub(a,b):\n",
    "    return a-b\n",
    "def mul(a,b):\n",
    "    return a*b\n",
    "def div(a,b):\n",
    "    return a/b    \n",
    "\n",
    "def cal():\n",
    "    a = int(input(\"Enter a =\"))\n",
    "    b =int(input(\"Enter b=\"))\n",
    "    o =input(\"Enter + - * /\")\n",
    "    if o =='+':\n",
    "        print(add(a,b))\n",
    "    elif o == '-':\n",
    "        print(sub(a,b))\n",
    "    elif o =='*':\n",
    "        print(mul(a,b))\n",
    "    elif (o =='/'):\n",
    "        if b !=0:\n",
    "            print(div(a,b))\n",
    "        else:\n",
    "            print(\"The value of b cannot be Zero\")\n",
    "    else:\n",
    "        print(\"Invalid operator\")\n",
    "cal()"
   ]
  },
  {
   "cell_type": "code",
   "execution_count": null,
   "metadata": {},
   "outputs": [],
   "source": []
  }
 ],
 "metadata": {
  "kernelspec": {
   "display_name": "Python 3",
   "language": "python",
   "name": "python3"
  },
  "language_info": {
   "codemirror_mode": {
    "name": "ipython",
    "version": 3
   },
   "file_extension": ".py",
   "mimetype": "text/x-python",
   "name": "python",
   "nbconvert_exporter": "python",
   "pygments_lexer": "ipython3",
   "version": "3.8.5"
  }
 },
 "nbformat": 4,
 "nbformat_minor": 4
}
