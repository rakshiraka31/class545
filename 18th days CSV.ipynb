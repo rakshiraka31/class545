{
 "cells": [
  {
   "cell_type": "code",
   "execution_count": 1,
   "metadata": {},
   "outputs": [
    {
     "data": {
      "text/plain": [
       "37"
      ]
     },
     "execution_count": 1,
     "metadata": {},
     "output_type": "execute_result"
    }
   ],
   "source": [
    "import csv\n",
    "fields=[7,\"Ramhari\",\"Bhaktapur\",73,987654333,\"A+\"]\n",
    "f =open('bill.csv','a')\n",
    "x =csv.writer(f)\n",
    "x.writerow(fields)"
   ]
  },
  {
   "cell_type": "code",
   "execution_count": null,
   "metadata": {},
   "outputs": [],
   "source": [
    "import pandas as pd\n",
    "df = pd.read_csv()"
   ]
  },
  {
   "cell_type": "code",
   "execution_count": 6,
   "metadata": {},
   "outputs": [
    {
     "name": "stdout",
     "output_type": "stream",
     "text": [
      "Enter n =2\n",
      "\n",
      "Enter the name of product=apple\n",
      "Enter the price=222\n",
      "Enter quantity:3\n",
      "\n",
      "Enter the name of product=banana\n",
      "Enter the price=333\n",
      "Enter quantity:2\n"
     ]
    },
    {
     "data": {
      "text/plain": [
       "20"
      ]
     },
     "execution_count": 6,
     "metadata": {},
     "output_type": "execute_result"
    }
   ],
   "source": [
    "\n",
    "n =int(input(\"Enter n =\"))\n",
    "f =open('bill.csv','a')\n",
    "x =csv.writer(f)\n",
    "x.writerow(['sn','Name','price','quantity','total'])\n",
    "for i in range(1,n+1):\n",
    "    try:\n",
    "        name =input(\"\\nEnter the name of product=\")\n",
    "        price =int(input(\"Enter the price=\"))\n",
    "        quantity =int(input(\"Enter quantity:\"))\n",
    "    except:\n",
    "        print(\"Invalid data\")\n",
    "    total=price*quantity\n",
    "    row =[i,name,price,quantity,total]\n",
    "x.writerow(row)"
   ]
  },
  {
   "cell_type": "code",
   "execution_count": 8,
   "metadata": {},
   "outputs": [
    {
     "ename": "TypeError",
     "evalue": "read_csv() missing 1 required positional argument: 'filepath_or_buffer'",
     "output_type": "error",
     "traceback": [
      "\u001b[1;31m---------------------------------------------------------------------------\u001b[0m",
      "\u001b[1;31mTypeError\u001b[0m                                 Traceback (most recent call last)",
      "\u001b[1;32m<ipython-input-8-26e18753a5a7>\u001b[0m in \u001b[0;36m<module>\u001b[1;34m\u001b[0m\n\u001b[0;32m      1\u001b[0m \u001b[1;32mimport\u001b[0m \u001b[0mpandas\u001b[0m \u001b[1;32mas\u001b[0m \u001b[0mpd\u001b[0m\u001b[1;33m\u001b[0m\u001b[1;33m\u001b[0m\u001b[0m\n\u001b[1;32m----> 2\u001b[1;33m \u001b[0mdf\u001b[0m \u001b[1;33m=\u001b[0m \u001b[0mpd\u001b[0m\u001b[1;33m.\u001b[0m\u001b[0mread_csv\u001b[0m\u001b[1;33m(\u001b[0m\u001b[1;33m)\u001b[0m\u001b[1;33m\u001b[0m\u001b[1;33m\u001b[0m\u001b[0m\n\u001b[0m\u001b[0;32m      3\u001b[0m \u001b[0mdf\u001b[0m\u001b[1;33m\u001b[0m\u001b[1;33m\u001b[0m\u001b[0m\n",
      "\u001b[1;31mTypeError\u001b[0m: read_csv() missing 1 required positional argument: 'filepath_or_buffer'"
     ]
    }
   ],
   "source": [
    "import pandas as pd\n",
    "df = pd.read_csv()\n",
    "df"
   ]
  },
  {
   "cell_type": "code",
   "execution_count": 11,
   "metadata": {},
   "outputs": [],
   "source": [
    "import csv\n",
    "csv_columns =['Name','Age','Address']\n",
    "dict =[\n",
    "    {'Name':'Aayush','Age':23,'Address':'kathmandu'},\n",
    "    {'Name':'suresh','Age':30,'Address':'kathmandu'}\n",
    "]\n",
    "f =open(\"data.csv\",'w')\n",
    "writer =csv.DictWriter(f, fieldnames=csv_columns)\n",
    "writer.writeheader()\n",
    "for data in dict:\n",
    "    writer.writerow(data)"
   ]
  },
  {
   "cell_type": "code",
   "execution_count": null,
   "metadata": {},
   "outputs": [],
   "source": [
    "b = open('class530.csv','w')\n",
    "b.write(\"Sn,Name,Address,Age,Phone,Blood Group\\n\")\n",
    "data = \"\"\n",
    "n = int(input(\"Enter n = \"))\n",
    "for i in range(1,n+1):\n",
    "    name = input(\"Enter name = \")\n",
    "    age = int(input(\"Enter age =\"))\n",
    "    add = input(\"Enter address = \")\n",
    "    phone = int(input(\"Enter phone = \"))\n",
    "    bgroup = input(\"Enter Blood Group= \")\n",
    "    info = f\"{i},{name},{add},{age},{phone},{bgroup}\\n\"\n",
    "    data = data+info\n",
    "    \n",
    "b.write(data)\n",
    "b.close()"
   ]
  },
  {
   "cell_type": "code",
   "execution_count": null,
   "metadata": {},
   "outputs": [],
   "source": [
    "b = open('class530.csv','r')\n",
    "print(b.read())\n",
    "b.close()"
   ]
  },
  {
   "cell_type": "code",
   "execution_count": null,
   "metadata": {},
   "outputs": [],
   "source": [
    "import pandas as pd\n",
    "df = pd.read_csv('class530.csv',index_col = 'Sn')\n",
    "df"
   ]
  },
  {
   "cell_type": "code",
   "execution_count": null,
   "metadata": {},
   "outputs": [],
   "source": [
    "bill = []\n",
    "net_total = 0\n",
    "n = int(input(\"Enter n = \"))\n",
    "for i in range(1,n+1):\n",
    "    name = input(\"Enter name of the product = \")\n",
    "    price = int(input(\"Enter price = \"))\n",
    "    quantity = int(input(\"Enter quantity = \"))\n",
    "    total = price * quantity\n",
    "    row = [i,name,price,quantity,total]\n",
    "    net_total = net_total+total\n",
    "    bill.append(row)\n",
    "    \n",
    "print(\"The billing is \\n\",bill)\n",
    "print(\"The net total \\n\",net_total)"
   ]
  },
  {
   "cell_type": "code",
   "execution_count": null,
   "metadata": {},
   "outputs": [],
   "source": [
    "import csv\n",
    "bill = [[1, 'Apple', 100, 2, 200], [2, 'Ball', 67, 5, 335]]\n",
    "f = open('bill.csv', 'a')\n",
    "x = csv.writer(f)\n",
    "\n",
    "for i in bill:\n",
    "    \n",
    "    x.writerow(i)"
   ]
  },
  {
   "cell_type": "code",
   "execution_count": null,
   "metadata": {},
   "outputs": [],
   "source": [
    "import pandas as pd\n",
    "df = pd.read_csv('bill.csv')\n",
    "df"
   ]
  },
  {
   "cell_type": "code",
   "execution_count": null,
   "metadata": {},
   "outputs": [],
   "source": [
    "import csv   \n",
    "fields=[7,\"Ramhari\",\"Bhaktapur\",73,9845445436,\"A+\"]\n",
    "f = open('class530.csv', 'a')\n",
    "x = csv.writer(f)\n",
    "x.writerow(fields)\n"
   ]
  },
  {
   "cell_type": "code",
   "execution_count": null,
   "metadata": {},
   "outputs": [],
   "source": [
    "n = int(input(\"Enter n = \"))\n",
    "f = open('bill.csv', 'a')\n",
    "x = csv.writer(f)\n",
    "x.writerow(['Sn','Name','Price','Quantity','Total'])\n",
    "for i in range(1,n+1):\n",
    "    try:\n",
    "        name = input(\"Enter name of the product = \")\n",
    "        price = int(input(\"Enter price = \"))\n",
    "        quantity = int(input(\"Enter quantity = \"))\n",
    "    except:\n",
    "        print(\"Invalid data.\")\n",
    "    total = price * quantity\n",
    "    row = [i,name,price,quantity,total]\n",
    "    x.writerow(row)"
   ]
  }
 ],
 "metadata": {
  "kernelspec": {
   "display_name": "Python 3",
   "language": "python",
   "name": "python3"
  },
  "language_info": {
   "codemirror_mode": {
    "name": "ipython",
    "version": 3
   },
   "file_extension": ".py",
   "mimetype": "text/x-python",
   "name": "python",
   "nbconvert_exporter": "python",
   "pygments_lexer": "ipython3",
   "version": "3.8.5"
  }
 },
 "nbformat": 4,
 "nbformat_minor": 4
}
