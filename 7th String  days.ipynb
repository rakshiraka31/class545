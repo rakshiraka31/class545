{
 "cells": [
  {
   "cell_type": "code",
   "execution_count": 1,
   "metadata": {},
   "outputs": [
    {
     "name": "stdout",
     "output_type": "stream",
     "text": [
      "<class 'str'>\n"
     ]
    }
   ],
   "source": [
    "a = \"Apple\"\n",
    "print(type(a))"
   ]
  },
  {
   "cell_type": "code",
   "execution_count": 2,
   "metadata": {},
   "outputs": [
    {
     "data": {
      "text/plain": [
       "'A'"
      ]
     },
     "execution_count": 2,
     "metadata": {},
     "output_type": "execute_result"
    }
   ],
   "source": [
    "a[0]"
   ]
  },
  {
   "cell_type": "code",
   "execution_count": 3,
   "metadata": {},
   "outputs": [
    {
     "data": {
      "text/plain": [
       "'e'"
      ]
     },
     "execution_count": 3,
     "metadata": {},
     "output_type": "execute_result"
    }
   ],
   "source": [
    "a[4]"
   ]
  },
  {
   "cell_type": "code",
   "execution_count": 4,
   "metadata": {},
   "outputs": [
    {
     "data": {
      "text/plain": [
       "'l'"
      ]
     },
     "execution_count": 4,
     "metadata": {},
     "output_type": "execute_result"
    }
   ],
   "source": [
    "a[-2]  #minus from back side"
   ]
  },
  {
   "cell_type": "code",
   "execution_count": 5,
   "metadata": {},
   "outputs": [
    {
     "data": {
      "text/plain": [
       "'Apple'"
      ]
     },
     "execution_count": 5,
     "metadata": {},
     "output_type": "execute_result"
    }
   ],
   "source": [
    "a[0:5]"
   ]
  },
  {
   "cell_type": "code",
   "execution_count": 6,
   "metadata": {},
   "outputs": [
    {
     "data": {
      "text/plain": [
       "'Ape'"
      ]
     },
     "execution_count": 6,
     "metadata": {},
     "output_type": "execute_result"
    }
   ],
   "source": [
    "a[0:5:2]"
   ]
  },
  {
   "cell_type": "code",
   "execution_count": 7,
   "metadata": {},
   "outputs": [
    {
     "data": {
      "text/plain": [
       "'Apple'"
      ]
     },
     "execution_count": 7,
     "metadata": {},
     "output_type": "execute_result"
    }
   ],
   "source": [
    "a[0:5:1]"
   ]
  },
  {
   "cell_type": "code",
   "execution_count": 8,
   "metadata": {},
   "outputs": [
    {
     "data": {
      "text/plain": [
       "'ohty'"
      ]
     },
     "execution_count": 8,
     "metadata": {},
     "output_type": "execute_result"
    }
   ],
   "source": [
    "a =\"Python\"\n",
    "a[4:0:-1]"
   ]
  },
  {
   "cell_type": "code",
   "execution_count": 9,
   "metadata": {},
   "outputs": [
    {
     "data": {
      "text/plain": [
       "'nohty'"
      ]
     },
     "execution_count": 9,
     "metadata": {},
     "output_type": "execute_result"
    }
   ],
   "source": [
    "a =\"Python\"\n",
    "a[5:0:-1]  # >5 for starting point\n",
    "           # 0 for final point\n",
    "           # -1 for back side"
   ]
  },
  {
   "cell_type": "code",
   "execution_count": 10,
   "metadata": {},
   "outputs": [
    {
     "data": {
      "text/plain": [
       "'nohtyP'"
      ]
     },
     "execution_count": 10,
     "metadata": {},
     "output_type": "execute_result"
    }
   ],
   "source": [
    "a =\"Python\"\n",
    "a[5::-1]   #in reverse case 0 and empty(  :  :) is not same"
   ]
  },
  {
   "cell_type": "code",
   "execution_count": 11,
   "metadata": {},
   "outputs": [
    {
     "name": "stdout",
     "output_type": "stream",
     "text": [
      "30\n"
     ]
    }
   ],
   "source": [
    "A =10\n",
    "B =20\n",
    "print(A+B)"
   ]
  },
  {
   "cell_type": "code",
   "execution_count": 12,
   "metadata": {},
   "outputs": [
    {
     "name": "stdout",
     "output_type": "stream",
     "text": [
      "Enter a =11\n",
      "Enter b =12\n",
      "1112\n"
     ]
    }
   ],
   "source": [
    "a = input(\"Enter a =\")\n",
    "b = input(\"Enter b =\")\n",
    "print(a+b)"
   ]
  },
  {
   "cell_type": "code",
   "execution_count": 13,
   "metadata": {},
   "outputs": [
    {
     "name": "stdout",
     "output_type": "stream",
     "text": [
      "1020\n"
     ]
    }
   ],
   "source": [
    "a =\"10\"\n",
    "b =20\n",
    "print(a+str(b))"
   ]
  },
  {
   "cell_type": "code",
   "execution_count": 17,
   "metadata": {},
   "outputs": [
    {
     "name": "stdout",
     "output_type": "stream",
     "text": [
      "Enter the name=raka\n",
      "Enter you age=22\n",
      "Enter address=kalanki\n",
      "Hello My name is raka my age is22 my address is kalanki\n"
     ]
    }
   ],
   "source": [
    "name = input(\"Enter the name=\")\n",
    "age =int(input(\"Enter you age=\"))\n",
    "add =input(\"Enter address=\")\n",
    "info =\"Hello My name is \"+ name+  \" my age is\"+ str(age)+ \" my address is \" +add \n",
    "print(info)"
   ]
  },
  {
   "cell_type": "code",
   "execution_count": 21,
   "metadata": {},
   "outputs": [
    {
     "name": "stdout",
     "output_type": "stream",
     "text": [
      "Enter the name=suchita dulal\n",
      "Enter you age=55\n",
      "Enter address=maharasta\n",
      "Hello My name is suchita dulal. my age is 55. my address is maharasta. \n"
     ]
    }
   ],
   "source": [
    "#string formatting\n",
    "name = input(\"Enter the name=\")\n",
    "age =int(input(\"Enter you age=\"))\n",
    "add =input(\"Enter address=\")\n",
    "info =f\"Hello My name is {name}. my age is {age}. my address is {add}. \"\n",
    "print(info)"
   ]
  },
  {
   "cell_type": "code",
   "execution_count": 1,
   "metadata": {},
   "outputs": [
    {
     "name": "stdout",
     "output_type": "stream",
     "text": [
      "Enter how many rows =2\n",
      "Enter the name=ram\n",
      "Enter the number=1234567\n",
      "Enter the name=haram\n",
      "Enter the number=345678\n",
      "The info are\n",
      "   ram-----1234567\n",
      " haram-----345678\n",
      "\n"
     ]
    }
   ],
   "source": [
    "s =\" \"\n",
    "n =int(input(\"Enter how many rows =\"))\n",
    "for i in range(n):\n",
    "    name = input(\"Enter the name=\")\n",
    "    phone =int(input(\"Enter the number=\"))\n",
    "    info =f\" {name }-----{phone}\\n\"\n",
    "    s =s+info\n",
    "print(\"The info are\\n\",s)"
   ]
  },
  {
   "cell_type": "code",
   "execution_count": 1,
   "metadata": {},
   "outputs": [
    {
     "name": "stdout",
     "output_type": "stream",
     "text": [
      "Enter name =ram\n"
     ]
    },
    {
     "ename": "NameError",
     "evalue": "name 's' is not defined",
     "output_type": "error",
     "traceback": [
      "\u001b[1;31m---------------------------------------------------------------------------\u001b[0m",
      "\u001b[1;31mNameError\u001b[0m                                 Traceback (most recent call last)",
      "\u001b[1;32m<ipython-input-1-f67056479e54>\u001b[0m in \u001b[0;36m<module>\u001b[1;34m\u001b[0m\n\u001b[0;32m      1\u001b[0m \u001b[0mname\u001b[0m \u001b[1;33m=\u001b[0m\u001b[0minput\u001b[0m\u001b[1;33m(\u001b[0m\u001b[1;34m\"Enter name =\"\u001b[0m\u001b[1;33m)\u001b[0m\u001b[1;33m.\u001b[0m\u001b[0mlower\u001b[0m\u001b[1;33m(\u001b[0m\u001b[1;33m)\u001b[0m\u001b[1;33m\u001b[0m\u001b[1;33m\u001b[0m\u001b[0m\n\u001b[1;32m----> 2\u001b[1;33m \u001b[1;32mif\u001b[0m \u001b[1;34m\"ram\"\u001b[0m \u001b[1;32min\u001b[0m \u001b[0ms\u001b[0m\u001b[1;33m.\u001b[0m\u001b[0mlower\u001b[0m\u001b[1;33m(\u001b[0m\u001b[1;33m)\u001b[0m\u001b[1;33m:\u001b[0m\u001b[1;33m\u001b[0m\u001b[1;33m\u001b[0m\u001b[0m\n\u001b[0m\u001b[0;32m      3\u001b[0m     \u001b[0mprint\u001b[0m\u001b[1;33m(\u001b[0m\u001b[1;34m\"yes\"\u001b[0m\u001b[1;33m,\u001b[0m \u001b[0ms\u001b[0m\u001b[1;33m.\u001b[0m\u001b[0mcount\u001b[0m\u001b[1;33m(\u001b[0m\u001b[1;34m\"ram\"\u001b[0m\u001b[1;33m)\u001b[0m\u001b[1;33m)\u001b[0m\u001b[1;33m\u001b[0m\u001b[1;33m\u001b[0m\u001b[0m\n\u001b[0;32m      4\u001b[0m \u001b[1;32melse\u001b[0m\u001b[1;33m:\u001b[0m\u001b[1;33m\u001b[0m\u001b[1;33m\u001b[0m\u001b[0m\n\u001b[0;32m      5\u001b[0m     \u001b[0mprint\u001b[0m\u001b[1;33m(\u001b[0m\u001b[1;34m\"NO\"\u001b[0m\u001b[1;33m)\u001b[0m\u001b[1;33m\u001b[0m\u001b[1;33m\u001b[0m\u001b[0m\n",
      "\u001b[1;31mNameError\u001b[0m: name 's' is not defined"
     ]
    }
   ],
   "source": [
    "name =input(\"Enter name =\").lower()\n",
    "if \"ram\" in s.lower():\n",
    "    print(\"yes\", s.count(\"ram\"))\n",
    "else:\n",
    "    print(\"NO\")"
   ]
  },
  {
   "cell_type": "code",
   "execution_count": 3,
   "metadata": {},
   "outputs": [
    {
     "data": {
      "text/plain": [
       "1"
      ]
     },
     "execution_count": 3,
     "metadata": {},
     "output_type": "execute_result"
    }
   ],
   "source": [
    "s.count(\"haram\")"
   ]
  },
  {
   "cell_type": "code",
   "execution_count": 7,
   "metadata": {},
   "outputs": [
    {
     "data": {
      "text/plain": [
       "'APPLE'"
      ]
     },
     "execution_count": 7,
     "metadata": {},
     "output_type": "execute_result"
    }
   ],
   "source": [
    "a =\"Apple\"\n",
    "a.upper()\n"
   ]
  },
  {
   "cell_type": "code",
   "execution_count": 8,
   "metadata": {},
   "outputs": [
    {
     "data": {
      "text/plain": [
       "'apple'"
      ]
     },
     "execution_count": 8,
     "metadata": {},
     "output_type": "execute_result"
    }
   ],
   "source": [
    "a.lower()"
   ]
  },
  {
   "cell_type": "code",
   "execution_count": 2,
   "metadata": {},
   "outputs": [
    {
     "name": "stdout",
     "output_type": "stream",
     "text": [
      "Enter how many rows =2\n",
      "Enter the name=ram\n",
      "Enter the number=234\n",
      "Enter the name=shyam\n",
      "Enter the number=45678\n",
      "The info are\n",
      "   ram-----234\n",
      " shyam-----45678\n",
      "\n",
      "Enter name =ram\n",
      "yes 1\n"
     ]
    }
   ],
   "source": [
    "#Entry part\n",
    "s =\" \"\n",
    "n =int(input(\"Enter how many rows =\"))\n",
    "for i in range(n):\n",
    "    name = input(\"Enter the name=\")\n",
    "    phone =int(input(\"Enter the number=\"))\n",
    "    info =f\" {name }-----{phone}\\n\"\n",
    "    s =s+info\n",
    "print(\"The info are\\n\",s)\n",
    "#search part\n",
    "name =input(\"Enter name =\").lower()\n",
    "if \"ram\" in s.lower():\n",
    "    print(\"yes\", s.count(\"ram\"))\n",
    "else:\n",
    "    print(\"NO\")"
   ]
  },
  {
   "cell_type": "code",
   "execution_count": 4,
   "metadata": {},
   "outputs": [
    {
     "name": "stdout",
     "output_type": "stream",
     "text": [
      "Python C++ java script\n"
     ]
    }
   ],
   "source": [
    "a =\"Python C++ JAVA\"\n",
    "b =a.replace(\"JAVA\",\"java script\")\n",
    "print(b)"
   ]
  },
  {
   "cell_type": "code",
   "execution_count": 2,
   "metadata": {},
   "outputs": [
    {
     "name": "stdout",
     "output_type": "stream",
     "text": [
      "Enter how many rows =1\n",
      "Enter the name=1222\n",
      "Enter the number=1222\n",
      "The info are\n",
      "   1222-----1222\n",
      "\n"
     ]
    },
    {
     "ename": "NameError",
     "evalue": "name 'x' is not defined",
     "output_type": "error",
     "traceback": [
      "\u001b[1;31m---------------------------------------------------------------------------\u001b[0m",
      "\u001b[1;31mNameError\u001b[0m                                 Traceback (most recent call last)",
      "\u001b[1;32m<ipython-input-2-bd70dbec664b>\u001b[0m in \u001b[0;36m<module>\u001b[1;34m\u001b[0m\n\u001b[0;32m      8\u001b[0m     \u001b[0ms\u001b[0m \u001b[1;33m=\u001b[0m\u001b[0ms\u001b[0m\u001b[1;33m+\u001b[0m\u001b[0minfo\u001b[0m\u001b[1;33m\u001b[0m\u001b[1;33m\u001b[0m\u001b[0m\n\u001b[0;32m      9\u001b[0m \u001b[0mprint\u001b[0m\u001b[1;33m(\u001b[0m\u001b[1;34m\"The info are\\n\"\u001b[0m\u001b[1;33m,\u001b[0m\u001b[0ms\u001b[0m\u001b[1;33m)\u001b[0m\u001b[1;33m\u001b[0m\u001b[1;33m\u001b[0m\u001b[0m\n\u001b[1;32m---> 10\u001b[1;33m \u001b[1;32mif\u001b[0m \u001b[0mx\u001b[0m\u001b[1;33m==\u001b[0m\u001b[1;34m'1'\u001b[0m\u001b[1;33m:\u001b[0m\u001b[1;33m\u001b[0m\u001b[1;33m\u001b[0m\u001b[0m\n\u001b[0m\u001b[0;32m     11\u001b[0m \u001b[1;31m#search part\u001b[0m\u001b[1;33m\u001b[0m\u001b[1;33m\u001b[0m\u001b[1;33m\u001b[0m\u001b[0m\n\u001b[0;32m     12\u001b[0m     \u001b[0mname\u001b[0m \u001b[1;33m=\u001b[0m\u001b[0minput\u001b[0m\u001b[1;33m(\u001b[0m\u001b[1;34m\"Enter name =\"\u001b[0m\u001b[1;33m)\u001b[0m\u001b[1;33m.\u001b[0m\u001b[0mlower\u001b[0m\u001b[1;33m(\u001b[0m\u001b[1;33m)\u001b[0m\u001b[1;33m\u001b[0m\u001b[1;33m\u001b[0m\u001b[0m\n",
      "\u001b[1;31mNameError\u001b[0m: name 'x' is not defined"
     ]
    }
   ],
   "source": [
    "#Entry part\n",
    "s =\" \"\n",
    "n =int(input(\"Enter how many rows =\"))\n",
    "for i in range(n):\n",
    "    name = str(input(\"Enter the name=\"))\n",
    "    phone =int(input(\"Enter the number=\"))\n",
    "    info =f\" {name }-----{phone}\\n\"\n",
    "    s =s+info\n",
    "print(\"The info are\\n\",s)\n",
    "#search part\n",
    "    name =input(\"Enter name =\").lower()\n",
    "    if \"ram\" in s.lower():\n",
    "        print(\"yes\", s.count(\"ram\"))\n",
    "    else:\n",
    "        print(\"NO\")\n",
    "    #Replace\n",
    "    data =input(\"Enter data =\")\n",
    "    replace =input(\"Enter the repalce data =\")\n",
    "    Final_data =s.replace(data,replace)\n",
    "    print(final_data)"
   ]
  },
  {
   "cell_type": "code",
   "execution_count": 5,
   "metadata": {},
   "outputs": [
    {
     "name": "stdout",
     "output_type": "stream",
     "text": [
      "Enter how many student =1\n",
      "Enter the name=wer\n",
      "Enter the mark of maths=2\n",
      "Enter the mark of English=22\n",
      "Enter the mark of science=33\n",
      "Enter the mark of nepali=44\n",
      "Enter the mark of social=22\n",
      "The info are\n",
      "   wer-----2----22----33----44----22\n",
      "\n",
      "123\n",
      "24.6\n"
     ]
    }
   ],
   "source": [
    "#WAP to entry the student result every details.(entry result search upadate)\n",
    "s =\" \"\n",
    "n =int(input(\"Enter how many student =\"))\n",
    "for i in range(n):\n",
    "    name = input(\"Enter the name=\")\n",
    "    math =int(input(\"Enter the mark of maths=\"))\n",
    "    english =int(input(\"Enter the mark of English=\"))\n",
    "    science =int(input(\"Enter the mark of science=\"))\n",
    "    nepali =int(input(\"Enter the mark of nepali=\"))\n",
    "    social =int(input(\"Enter the mark of social=\"))\n",
    "    info =f\" {name }-----{math}----{english}----{science}----{nepali}----{social}\\n\"\n",
    "    s =s+info\n",
    "print(\"The info are\\n\",s)\n",
    "t=\"\"\n",
    "total=math+english+science+nepali+social\n",
    "per=total/5\n",
    "print(total)\n",
    "print(per)"
   ]
  },
  {
   "cell_type": "markdown",
   "metadata": {},
   "source": []
  },
  {
   "cell_type": "markdown",
   "metadata": {},
   "source": []
  },
  {
   "cell_type": "code",
   "execution_count": null,
   "metadata": {},
   "outputs": [],
   "source": []
  },
  {
   "cell_type": "code",
   "execution_count": null,
   "metadata": {},
   "outputs": [],
   "source": []
  },
  {
   "cell_type": "code",
   "execution_count": null,
   "metadata": {},
   "outputs": [],
   "source": []
  },
  {
   "cell_type": "code",
   "execution_count": 3,
   "metadata": {},
   "outputs": [
    {
     "name": "stdout",
     "output_type": "stream",
     "text": [
      "Enter how many student =1\n",
      "Enter the name=raaka\n",
      "Enter the mark of maths=33\n",
      "Enter the mark of English=33\n",
      "Enter the mark of science=44\n",
      "Enter the mark of nepali=55\n",
      "Enter the mark of social=55\n",
      "The info are\n",
      "  raaka-----33----33----44----55----55\n",
      "\n",
      "220\n",
      "Fail\n",
      "Enter name you want to search =raka\n",
      "NO\n"
     ]
    }
   ],
   "source": [
    "s =\" \"\n",
    "n =int(input(\"Enter how many student =\"))\n",
    "for i in range(n):\n",
    "    name = input(\"Enter the name=\")\n",
    "    math =int(input(\"Enter the mark of maths=\"))\n",
    "    english =int(input(\"Enter the mark of English=\"))\n",
    "    science =int(input(\"Enter the mark of science=\"))\n",
    "    nepali =int(input(\"Enter the mark of nepali=\"))\n",
    "    social =int(input(\"Enter the mark of social=\"))\n",
    "    info =f\" {name }-----{math}----{english}----{science}----{nepali}----{social}\\n\"\n",
    "    print(\"The info are\\n\",info)\n",
    "    s =s+info\n",
    "    total=math+english+science+nepali+social\n",
    "    per=total/5\n",
    "    print(total)\n",
    "    if math>=40 and english>=40 and science>=40 and nepali>=40 and social>=40:\n",
    "        if per>80:\n",
    "            print(\"Distinction\")\n",
    "        elif per>=70 and per<80:\n",
    "            print(\"First Divison\")\n",
    "        elif per>=55 and per<70:\n",
    "            print(\"second Divison\")\n",
    "        else:\n",
    "            print(\"Third Division\")\n",
    "\n",
    "    else:\n",
    "        print(\"Fail\")\n",
    "#search part\n",
    "name =input(\"Enter name you want to search =\")\n",
    "if name in s:\n",
    "    print(\"yes\", s.count(name))\n",
    "else:\n",
    "    print(\"NO\")"
   ]
  },
  {
   "cell_type": "code",
   "execution_count": null,
   "metadata": {},
   "outputs": [],
   "source": []
  }
 ],
 "metadata": {
  "kernelspec": {
   "display_name": "Python 3",
   "language": "python",
   "name": "python3"
  },
  "language_info": {
   "codemirror_mode": {
    "name": "ipython",
    "version": 3
   },
   "file_extension": ".py",
   "mimetype": "text/x-python",
   "name": "python",
   "nbconvert_exporter": "python",
   "pygments_lexer": "ipython3",
   "version": "3.8.5"
  }
 },
 "nbformat": 4,
 "nbformat_minor": 4
}
